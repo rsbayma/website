{
 "cells": [
  {
   "cell_type": "markdown",
   "metadata": {},
   "source": [
    "<br> <br> <br>\n",
    "\n",
    "[Controle 2](./Controle2/sc2index.html)\n",
    "\n",
    "[Fabricação (Tóp. Especiais)](./Fab/index.html)\n",
    "\n",
    "[webteste](./webteste/webteste.html)"
   ]
  }
 ],
 "metadata": {
  "kernelspec": {
   "display_name": "Python 3",
   "language": "python",
   "name": "python3"
  },
  "language_info": {
   "name": "python",
   "version": "3.12.1"
  }
 },
 "nbformat": 4,
 "nbformat_minor": 2
}
