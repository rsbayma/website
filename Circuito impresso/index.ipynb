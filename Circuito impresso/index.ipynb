{
 "cells": [
  {
   "cell_type": "markdown",
   "metadata": {},
   "source": [
    "## Circuito impresso\n",
    "\n",
    "<br> <br> <br>\n",
    "\n",
    "[Preparação do layout](./Preparação%20Layout%20Circuito%20Impresso%20-1.html)\n",
    "\n",
    "[Corrosão]()\n",
    "\n",
    "[Usinagem]()\n",
    "\n",
    "*Última atualização: 2024.4*"
   ]
  }
 ],
 "metadata": {
  "kernelspec": {
   "display_name": "Python 3",
   "language": "python",
   "name": "python3"
  },
  "language_info": {
   "name": "python",
   "version": "3.12.1"
  }
 },
 "nbformat": 4,
 "nbformat_minor": 2
}
