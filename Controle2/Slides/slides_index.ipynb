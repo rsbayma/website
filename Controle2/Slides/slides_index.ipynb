{
 "cells": [
  {
   "cell_type": "markdown",
   "metadata": {},
   "source": [
    "<br> <br>\n",
    "\n",
    "[1 - Introdução](./1%20-%20Intro.slides.html)    \n",
    "[2 - Modelagem](./2%20-%20Modelagem.slides.html)    \n",
    "[3 - Análise](./3%20-%20Análise.slides.html)    \n",
    "[4 - Controle](./4%20-%20Controle.slides.html)    \n",
    "[5 - Estimadores de estado](./5%20-%20Estimador%20de%20estados.slides.html)    \n",
    "[6 - Compensadores](./6%20-%20compensadores.slides.html)\n",
    "\n"
   ]
  }
 ],
 "metadata": {
  "kernelspec": {
   "display_name": "Python 3",
   "language": "python",
   "name": "python3"
  },
  "language_info": {
   "name": "python",
   "version": "3.12.1"
  }
 },
 "nbformat": 4,
 "nbformat_minor": 2
}
