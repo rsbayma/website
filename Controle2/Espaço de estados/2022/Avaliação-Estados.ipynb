{
 "cells": [
  {
   "attachments": {},
   "cell_type": "markdown",
   "metadata": {},
   "source": [
    "# Trabalho avaliativo\n",
    "\n",
    "Sistemas de controle II - 2022.4\n",
    "\n",
    "Espaço de estados \n",
    "\n",
    "**Entrega: 26/12/2022**\n",
    "\n",
    "Aluno:\n",
    "\n",
    "Matrícula:\n",
    "\n"
   ]
  },
  {
   "attachments": {},
   "cell_type": "markdown",
   "metadata": {},
   "source": [
    "## 1.\n",
    "Execute o código abaixo:"
   ]
  },
  {
   "cell_type": "code",
   "execution_count": 3,
   "metadata": {},
   "outputs": [
    {
     "name": "stdout",
     "output_type": "stream",
     "text": [
      "12\n",
      "9\n",
      "7\n"
     ]
    }
   ],
   "source": [
    "import numpy as np\n",
    "a = np.random.randint(1,20)\n",
    "b = np.random.randint(1,20)\n",
    "c = np.random.randint(1,9)\n",
    "print(a)\n",
    "print(b)\n",
    "print(c)"
   ]
  },
  {
   "cell_type": "markdown",
   "metadata": {},
   "source": [
    "No problema abaixo, use os valores de \"a\" e \"b\" resultantes do código anterior."
   ]
  },
  {
   "attachments": {},
   "cell_type": "markdown",
   "metadata": {},
   "source": [
    "\n",
    "*Dado o sistema*\n",
    "$$\n",
    "\\begin{align}\n",
    "    G(s) &= \\frac{as+b}{(s+c)^2}\n",
    "\\end{align}\n",
    "$$\n",
    "\n",
    "Em malha fechada, deseja-se para esse sistema um máximo sobressinal de 12% e uma frequência natural de $2c$ rad/s. Também é desejável que o zero do sistema seja cancelado.\n",
    "\n",
    "1. *Encontre as raizes e o polinômio de malha fechado que proporcionem as especificações do projeto*\n",
    "2. *Encontre as matrizes do sistema na forma canônica de controlador. Projete um regulador de estados com controle integral que posicione os pólos de malha fechada de acordo com as especificações de projeto*\n",
    "3. *Projete um observador de estados para este sistema.*\n",
    "4. *Encontre as funções de transferência do sistema de controle. Apresente um diagrama de blocos mostrando a ação dessas funções*. \n",
    "4. *Simule o sistema em malha fechada. Plote e analise o sinal de saída e o sinal de controle.*"
   ]
  },
  {
   "cell_type": "markdown",
   "metadata": {},
   "source": [
    "*Suas respostas e códigos a partir daqui*"
   ]
  }
 ],
 "metadata": {
  "kernelspec": {
   "display_name": "Python 3.9.12 ('base')",
   "language": "python",
   "name": "python3"
  },
  "language_info": {
   "codemirror_mode": {
    "name": "ipython",
    "version": 3
   },
   "file_extension": ".py",
   "mimetype": "text/x-python",
   "name": "python",
   "nbconvert_exporter": "python",
   "pygments_lexer": "ipython3",
   "version": "3.9.12 (main, Apr  4 2022, 05:22:27) [MSC v.1916 64 bit (AMD64)]"
  },
  "orig_nbformat": 4,
  "vscode": {
   "interpreter": {
    "hash": "3e3763a57b4ffe0d06e963ec4b7f8ef3a748cbfdb342037439726ee83e94c05b"
   }
  }
 },
 "nbformat": 4,
 "nbformat_minor": 2
}
