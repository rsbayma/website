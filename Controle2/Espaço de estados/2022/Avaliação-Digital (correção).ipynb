{
 "cells": [
  {
   "cell_type": "markdown",
   "metadata": {},
   "source": [
    "# Trabalho avaliativo\n",
    "\n",
    "Sistemas de controle II - 2022.4\n",
    "\n",
    "Controle Digital\n",
    "\n",
    "**Entrega: 14/12/2022**\n",
    "\n",
    "Aluno:\n",
    "\n",
    "Matrícula:\n",
    "\n"
   ]
  },
  {
   "cell_type": "markdown",
   "metadata": {},
   "source": [
    "## 1.\n",
    "\n",
    "*Faça um ensaio dissertativo do seu entendimento sobre controle digital. Procure responder as seguintes perguntas no seu texto:*\n",
    "\n",
    "* *O que é controle automático digital?* \n",
    "* *Qual a diferença entre controle automático digital e analógico?* \n",
    "* *O que é necessário para implantar um sistema de controle digital?* \n",
    "* *Quais as vantagens do controle digital sobre o analógico? E as desvantagens?* "
   ]
  },
  {
   "cell_type": "markdown",
   "metadata": {},
   "source": [
    "*Sua resposta aqui*"
   ]
  },
  {
   "cell_type": "markdown",
   "metadata": {},
   "source": [
    "## 2.\n",
    "**Execute o código abaixo antes de começar a resolver:**"
   ]
  },
  {
   "cell_type": "code",
   "execution_count": 1,
   "metadata": {},
   "outputs": [
    {
     "name": "stdout",
     "output_type": "stream",
     "text": [
      "14\n",
      "8\n"
     ]
    }
   ],
   "source": [
    "import numpy as np\n",
    "a = np.random.randint(11,20)\n",
    "b = np.random.randint(1,10)\n",
    "print('a = ',a)\n",
    "print('b = ',b)\n"
   ]
  },
  {
   "cell_type": "markdown",
   "metadata": {},
   "source": [
    "No problema abaixo, use os valores de \"a\" e \"b\" resultantes do código anterior.\n",
    "\n",
    "*Ao resolver, apresente todos os códigos. Quando necessário, apresente também os cálculos*"
   ]
  },
  {
   "cell_type": "markdown",
   "metadata": {},
   "source": [
    "\n",
    "*Dado o sistema*\n",
    "$$\n",
    "\\begin{align}\n",
    "    G(s) &= \\frac{10(s+a)}{s+b}\n",
    "\\end{align}\n",
    "$$\n",
    "\n",
    "1. *Defina um período de amostragem adequado para digitalizar a planta*\n",
    "2. *Projete um controlador digital **por emulação** que forneça:*\n",
    "    * *Overshoot de no máximo 15%*\n",
    "    * *Tempo de acomodação no máximo de 1 segundo.*\n",
    "    * *Erro de regime nulo para entrada degrau*\n",
    "3. *Obtenha a equação de diferença para implementar o controlador*\n",
    "4. *Discretize a planta em malha aberta e faça uma simulação em malha fechada com o controlador projetado, para uma referência degrau unitário. Apresente gráficos dos sinais de saída e de controle. Discuta os resultados.*"
   ]
  },
  {
   "cell_type": "markdown",
   "metadata": {},
   "source": [
    "*Suas respostas e códigos a partir daqui*"
   ]
  },
  {
   "attachments": {},
   "cell_type": "markdown",
   "metadata": {},
   "source": [
    "# Soluções e espelho de correção"
   ]
  },
  {
   "cell_type": "code",
   "execution_count": 2,
   "metadata": {},
   "outputs": [],
   "source": [
    "import numpy as np\n",
    "import control as ct\n",
    "from IPython.display import display, Math, Latex, Markdown\n",
    "import sympy as sp"
   ]
  },
  {
   "attachments": {},
   "cell_type": "markdown",
   "metadata": {},
   "source": [
    "1. O período de amostragem foi solicitado com base na planta e não no projeto da malha. Como a planta é de primeira ordem, podemos usar a constante de tempo como referência. Adotamos um critério de redução de 10x para garantir o teorema da amostragem de Nyquist. "
   ]
  },
  {
   "cell_type": "code",
   "execution_count": 3,
   "metadata": {},
   "outputs": [
    {
     "name": "stdout",
     "output_type": "stream",
     "text": [
      "Período de amostragem:  0.0125\n"
     ]
    }
   ],
   "source": [
    "T = 1/(10*b)\n",
    "print(\"Período de amostragem: \", np.round(T,4))"
   ]
  },
  {
   "attachments": {},
   "cell_type": "markdown",
   "metadata": {},
   "source": [
    "Como o valor é \"quebrado\", podemos arredondar para um valor mais confortável. "
   ]
  },
  {
   "cell_type": "code",
   "execution_count": 4,
   "metadata": {},
   "outputs": [
    {
     "name": "stdout",
     "output_type": "stream",
     "text": [
      "Período de amostragem recalculado:  0.012\n"
     ]
    }
   ],
   "source": [
    "T = np.round(np.round(T,4)*1000)/1000\n",
    "print(\"Período de amostragem recalculado: \", np.round(T,4))\n"
   ]
  },
  {
   "attachments": {},
   "cell_type": "markdown",
   "metadata": {},
   "source": [
    "2. O projeto se inicia com os pólos e polinômio desejado. É importante mostrar esses cálculos em Python e colocar em Latex/Markdown apenas o resultado. Quando você apresenta o resultado sem o cálculo eu não tenho como saber onde você errou. "
   ]
  },
  {
   "cell_type": "code",
   "execution_count": 102,
   "metadata": {},
   "outputs": [
    {
     "name": "stdout",
     "output_type": "stream",
     "text": [
      "Amortecimento e frequência natural projetados:\n"
     ]
    },
    {
     "data": {
      "text/latex": [
       "$\\displaystyle \\xi = 0.5305,\\quad\\omega_n = 7.54$"
      ],
      "text/plain": [
       "<IPython.core.display.Math object>"
      ]
     },
     "metadata": {},
     "output_type": "display_data"
    },
    {
     "name": "stdout",
     "output_type": "stream",
     "text": [
      "Pólo de MF principal: \n"
     ]
    },
    {
     "data": {
      "text/latex": [
       "$\\displaystyle (-4+6.391j)$"
      ],
      "text/plain": [
       "<IPython.core.display.Math object>"
      ]
     },
     "metadata": {},
     "output_type": "display_data"
    },
    {
     "name": "stdout",
     "output_type": "stream",
     "text": [
      "Polinômio de MF desejado:\n"
     ]
    },
    {
     "data": {
      "text/latex": [
       "$\\displaystyle s^2+8.0s+56.851$"
      ],
      "text/plain": [
       "<IPython.core.display.Math object>"
      ]
     },
     "metadata": {},
     "output_type": "display_data"
    }
   ],
   "source": [
    "# Cálculos referentes aos pólos de MF e polinômio\n",
    "Mp = 0.14\n",
    "ts = 1\n",
    "xi = -np.log(Mp)/np.sqrt(np.pi**2+np.log(Mp)**2)\n",
    "wn = 4/(ts*xi)\n",
    "p = -xi*wn+1j*wn*np.sqrt(1-xi**2)\n",
    "poli = np.poly([p,np.conj(p)])\n",
    "strpoli = f's^2+{poli[1]}s+{np.round(poli[2],3)}'\n",
    "print('Amortecimento e frequência natural projetados:')\n",
    "display(Math(r'\\xi = '+f'{np.round(xi,4)}'+r',\\quad\\omega_n = '+f'{np.round(wn,4)}'))\n",
    "print(\"Pólo de MF principal: \")\n",
    "display(Math(f'{np.round(p,3)}'))\n",
    "print(\"Polinômio de MF desejado:\")\n",
    "display(Math(strpoli))"
   ]
  },
  {
   "attachments": {},
   "cell_type": "markdown",
   "metadata": {},
   "source": [
    "Controle\n",
    "\n",
    "O controlador deve ter integrador por causa da exigência de regime permanente. Além disso, como todos os pólos e zeros da planta são estáveis, podemos cancelar tudo. Dessa forma, os únicos pólos que vão sobrar na malha são os do controlador. Então, podemos propor um controle do seguinte tipo:"
   ]
  },
  {
   "cell_type": "code",
   "execution_count": 83,
   "metadata": {},
   "outputs": [
    {
     "name": "stdout",
     "output_type": "stream",
     "text": [
      "Controlador proposto: \n"
     ]
    },
    {
     "data": {
      "text/latex": [
       "$\\displaystyle C(s) = \\frac{s+8}{s+14}\\cdot \\frac{K}{s(s+c)}$"
      ],
      "text/plain": [
       "<IPython.core.display.Math object>"
      ]
     },
     "metadata": {},
     "output_type": "display_data"
    }
   ],
   "source": [
    "# Precisamos fazer uma junção de strings aqui para poder mostrar\n",
    "s1 = r'C(s) = \\frac{s+'\n",
    "s2 = f'{b}'\n",
    "s3 = r'}{s+'\n",
    "s4 = f'{a}'\n",
    "s5 = r'}\\cdot \\frac{K}{s(s+c)}'\n",
    "strC = s1+s2+s3+s4+s5\n",
    "print(\"Controlador proposto: \")\n",
    "display(Math(strC))"
   ]
  },
  {
   "attachments": {},
   "cell_type": "markdown",
   "metadata": {},
   "source": [
    "Onde $c$ vamos determinar pela equação de malha.\n"
   ]
  },
  {
   "attachments": {},
   "cell_type": "markdown",
   "metadata": {},
   "source": [
    "Note que a primeira parte do controlador $\\frac{(s+b)}{(s+a)}$ serve para cancelar a planta.\n",
    "\n",
    "Já a segunda introduz o integrador e um pólo em $-c$, a determinar. O ganho $K$ também precisa ser determinado."
   ]
  },
  {
   "attachments": {},
   "cell_type": "markdown",
   "metadata": {},
   "source": [
    "Em malha aberta conjunto planta+controle fica (perceba os cancelamentos):"
   ]
  },
  {
   "cell_type": "code",
   "execution_count": 84,
   "metadata": {},
   "outputs": [
    {
     "data": {
      "text/latex": [
       "$\\displaystyle C(s)G(s) = C(s) = \\frac{s+8}{s+14}\\cdot \\frac{K}{s(s+c)}\\cdot\\frac{10(s+14)}{s+8}$"
      ],
      "text/plain": [
       "<IPython.core.display.Math object>"
      ]
     },
     "metadata": {},
     "output_type": "display_data"
    }
   ],
   "source": [
    "#\n",
    "strG = r'\\frac{10(s+' + f'{a}' + r')}{s+' + f'{b}' + r'}'\n",
    "display(Math(r'C(s)G(s) = ' + strC + r'\\cdot' + strG))"
   ]
  },
  {
   "attachments": {},
   "cell_type": "markdown",
   "metadata": {},
   "source": [
    "Em malha fechada, simplificando tudo, temos:\n",
    "$$\n",
    "\\begin{align}\n",
    "    \\frac{C(s)G(s)}{1 + C(s)G(s)} &= \\frac{10K}{s^2+cs+10K}\n",
    "\\end{align}\n",
    "$$\n"
   ]
  },
  {
   "attachments": {},
   "cell_type": "markdown",
   "metadata": {},
   "source": [
    "Basta agora comparar com o polinômio desejado."
   ]
  },
  {
   "cell_type": "code",
   "execution_count": 85,
   "metadata": {},
   "outputs": [
    {
     "data": {
      "text/latex": [
       "$\\displaystyle s^2+8.0s+56.851 = s^2+cs+10K$"
      ],
      "text/plain": [
       "<IPython.core.display.Math object>"
      ]
     },
     "metadata": {},
     "output_type": "display_data"
    }
   ],
   "source": [
    "#\n",
    "display(Math(strpoli + r' = s^2+cs+10K'))"
   ]
  },
  {
   "attachments": {},
   "cell_type": "markdown",
   "metadata": {},
   "source": [
    "Podemos resolver por comparação simples:"
   ]
  },
  {
   "cell_type": "code",
   "execution_count": 86,
   "metadata": {},
   "outputs": [
    {
     "data": {
      "text/latex": [
       "$\\displaystyle c = 8.0\\\\ K=5.6851$"
      ],
      "text/plain": [
       "<IPython.core.display.Math object>"
      ]
     },
     "metadata": {},
     "output_type": "display_data"
    }
   ],
   "source": [
    "#\n",
    "c = poli[1]\n",
    "K = poli[2]/10\n",
    "display(Math(rf'c = {c}\\\\ K={np.round(K,4)}'))"
   ]
  },
  {
   "attachments": {},
   "cell_type": "markdown",
   "metadata": {},
   "source": [
    "Controlador completo"
   ]
  },
  {
   "cell_type": "code",
   "execution_count": 87,
   "metadata": {},
   "outputs": [
    {
     "data": {
      "text/latex": [
       "$\\displaystyle C(s)=\\frac{5.6851(s+8)}{s(s+14)(s+8.0)}$"
      ],
      "text/plain": [
       "<IPython.core.display.Math object>"
      ]
     },
     "metadata": {},
     "output_type": "display_data"
    }
   ],
   "source": [
    "#\n",
    "strC = r'C(s)=\\frac{' + '{}(s+{})'.format(np.round(K,4),b) + r'}{' + 's(s+{})(s+{})'.format(a,c) + r'}'\n",
    "display(Math(strC))"
   ]
  },
  {
   "attachments": {},
   "cell_type": "markdown",
   "metadata": {},
   "source": [
    "Discretização:"
   ]
  },
  {
   "cell_type": "code",
   "execution_count": 88,
   "metadata": {},
   "outputs": [],
   "source": [
    "num = K*np.array([1,b])\n",
    "den = np.convolve([1,a,0],[1, c])\n",
    "C = ct.tf(num,den)\n",
    "Cz = ct.c2d(C,Ts=T,method='bilinear')"
   ]
  },
  {
   "cell_type": "code",
   "execution_count": 89,
   "metadata": {},
   "outputs": [
    {
     "data": {
      "text/latex": [
       "$\\displaystyle C(z) = \\frac{0.00019\\,(z^3+1.09\\,z^2-0.817\\,z-0.908)}{z^3-2.75\\,z^2+2.52\\,z-0.768}$"
      ],
      "text/plain": [
       "<IPython.core.display.Math object>"
      ]
     },
     "metadata": {},
     "output_type": "display_data"
    }
   ],
   "source": [
    "# Controlador discreto\n",
    "nz = Cz.num[0][0]\n",
    "dz = Cz.den[0][0]\n",
    "k1 = nz[0]\n",
    "nz = nz/k1\n",
    "str_n='{:.2}\\,(z^3{:+.3}\\,z^2{:+.3}\\,z{:+.3})'.format(*[k1,*nz[1:]])\n",
    "str_d='z^3{:+.3}\\,z^2{:+.3}\\,z{:+.3}'.format(*dz[1:])\n",
    "str_Cz = r'\\frac{' + str_n + r'}{' + str_d + r'}'\n",
    "display(Math(r'C(z) = ' + str_Cz))"
   ]
  },
  {
   "cell_type": "code",
   "execution_count": 90,
   "metadata": {},
   "outputs": [
    {
     "data": {
      "text/latex": [
       "$\\displaystyle C(z) = \\frac{0.000189(1+1.09z^{-1}-0.817z^{-2}-0.908z^{-3})}{1-2.75z^{-1}+2.52z^{-2}-0.768z^{-3}}$"
      ],
      "text/plain": [
       "<IPython.core.display.Math object>"
      ]
     },
     "metadata": {},
     "output_type": "display_data"
    }
   ],
   "source": [
    "# Ou em potências negativas, para facilitar a equação de diferenças\n",
    "def zed(p):\n",
    "    return r'z^{'+f'{p}'+r'}'\n",
    "\n",
    "nz1 = ''.join(['1']+['{:+.3}'.format(nz[n])+zed(-n) for n in np.arange(1,4) ])\n",
    "nz1 = '{:.3}('.format(k1) + nz1 + ')'\n",
    "dz1 = ''.join(['1']+['{:+.3}'.format(dz[n])+zed(-n) for n in np.arange(1,4) ])\n",
    "\n",
    "str_Cz1 = r'\\frac{' + nz1 + r'}{' + dz1 + r'}'\n",
    "display(Math(r'C(z) = ' + str_Cz1))"
   ]
  },
  {
   "attachments": {},
   "cell_type": "markdown",
   "metadata": {},
   "source": [
    "3. Equação de diferenças\n",
    "\n",
    "Obs: O script está bem automatizado para funcionar com qualquer valor de \"a\" e \"b\". Porém não era necessário você fazer dessa forma. É perfeitamente aceitável copiar e colocar os valores calculados para apresentar a resposta. "
   ]
  },
  {
   "cell_type": "code",
   "execution_count": 91,
   "metadata": {},
   "outputs": [
    {
     "data": {
      "text/latex": [
       "$\\displaystyle u[k] = 0.000189(e[k]+1.09e[k-1]-0.817e[k-2]-0.908e[k-3])+2.75u[k-1]-2.52u[k-2]+0.768u[k-3]$"
      ],
      "text/plain": [
       "<IPython.core.display.Math object>"
      ]
     },
     "metadata": {},
     "output_type": "display_data"
    }
   ],
   "source": [
    "# Equação de diferenças\n",
    "def sinal(x,p):\n",
    "    return f'{x}'+r'[k-'+f'{p}'+r']'\n",
    "\n",
    "ladod = ''.join(['e[k]']+['{:+.3}'.format(nz[n])+sinal('e',n) for n in np.arange(1,4) ])\n",
    "ladod = '{:.3}('.format(k1) + ladod + ')'\n",
    "ladoe = ''.join(['{:+.3}'.format(-dz[n])+sinal('u',n) for n in np.arange(1,4) ])\n",
    "display(Math(r'u[k] = ' + ladod + ladoe))"
   ]
  },
  {
   "attachments": {},
   "cell_type": "markdown",
   "metadata": {
    "tags": []
   },
   "source": [
    "4. Simulação"
   ]
  },
  {
   "cell_type": "code",
   "execution_count": 92,
   "metadata": {},
   "outputs": [
    {
     "data": {
      "text/latex": [
       "$\\displaystyle G(z)=\\frac{10.0z-8.4}{1.0z-0.91}$"
      ],
      "text/plain": [
       "<IPython.core.display.Math object>"
      ]
     },
     "metadata": {},
     "output_type": "display_data"
    }
   ],
   "source": [
    "# Discretização da planta usando equivalente ZOH\n",
    "numG = 10*np.array([1,a])\n",
    "denG = np.array([1,b])\n",
    "G = ct.tf(numG,denG)\n",
    "Gz = ct.c2d(G,T,'zoh')\n",
    "\n",
    "n2 = '{}z{:+.2}'.format(*(Gz.num[0][0].tolist()))\n",
    "d2 = '{}z{:+.2}'.format(*(Gz.den[0][0].tolist()))\n",
    "display(Math(r'G(z)=\\frac{'+n2+'}{'+d2+'}'))"
   ]
  },
  {
   "attachments": {},
   "cell_type": "markdown",
   "metadata": {},
   "source": [
    "# <a id='ajuste'> </a>"
   ]
  },
  {
   "cell_type": "code",
   "execution_count": 142,
   "metadata": {},
   "outputs": [
    {
     "name": "stdout",
     "output_type": "stream",
     "text": [
      "Função de MF, referência para saída:\n"
     ]
    },
    {
     "data": {
      "text/latex": [
       "$$\\frac{0.001699 z^4 + 0.0004279 z^3 - 0.002946 z^2 - 0.000378 z + 0.001296}{1.002 z^4 - 3.661 z^3 + 5.019 z^2 - 3.058 z + 0.6986}\\quad dt = 0.012$$"
      ],
      "text/plain": [
       "TransferFunction(array([ 0.00169924,  0.00042785, -0.00294569, -0.00037798,  0.00129632]), array([ 1.00169924, -3.66145156,  5.0194607 , -3.058253  ,  0.69864436]), 0.012)"
      ]
     },
     "execution_count": 142,
     "metadata": {},
     "output_type": "execute_result"
    }
   ],
   "source": [
    "# Cálculo das funções de transferência de MF, contínuo e discreto\n",
    "ka = 1                      # Ganho do ajuste fino. Explicado mais a frente\n",
    "YRz = ct.feedback(ct.series(Gz,ka*Cz),1)\n",
    "YR = ct.feedback(ct.series(G,C),1)\n",
    "print('Função de MF, referência para saída:')\n",
    "YRz"
   ]
  },
  {
   "cell_type": "code",
   "execution_count": 143,
   "metadata": {},
   "outputs": [
    {
     "name": "stdout",
     "output_type": "stream",
     "text": [
      "Polos de MF:\n",
      "_____Eigenvalue______ Damping___ Frequency_\n",
      "    0.9519  +0.06791j     0.5492      7.102\n",
      "    0.9519  -0.06791j     0.5492      7.102\n",
      "    0.9084                     1    -0.9084\n",
      "    0.8431                     1    -0.8431\n",
      "\n",
      "Zeros:\n",
      "[-1.   +0.j -1.   +0.j  0.908+0.j  0.84 +0.j]\n"
     ]
    }
   ],
   "source": [
    "# Análise de pólos e zeros\n",
    "print('Polos de MF:')\n",
    "tabela = ct.damp(YRz)\n",
    "print('')\n",
    "print('Zeros:')\n",
    "print(np.round(ct.zeros(YRz),3))"
   ]
  },
  {
   "attachments": {},
   "cell_type": "markdown",
   "metadata": {},
   "source": [
    "Observe que, **neste caso específico de \"a\" e \"b\"**:\n",
    "* O amortecimento ficou um pouco abaixo do esperado. Então podemos esperar um overshoot maior\n",
    "* Temos dois polos adicionais, mas eles são plenamente cancelados por dois zeros\n",
    "* Temos dois zeros em $-1$, que provavelmente vieram da discretização e não devem afetar nosso transitório"
   ]
  },
  {
   "cell_type": "code",
   "execution_count": 144,
   "metadata": {},
   "outputs": [
    {
     "name": "stdout",
     "output_type": "stream",
     "text": [
      "Overshoot real = 12.57 %\n",
      "Tempo de acomodação = 0.828 seg\n"
     ]
    }
   ],
   "source": [
    "# Resumo dos resultados\n",
    "info = ct.step_info(YRz)\n",
    "print('Overshoot real = {:.4} %'.format(info['Overshoot']))\n",
    "print('Tempo de acomodação = {:.4} seg'.format(info['SettlingTime']))"
   ]
  },
  {
   "attachments": {},
   "cell_type": "markdown",
   "metadata": {},
   "source": [
    "Vemos então que, em termos de overshoot ficamos abaixo do que foi pedido mas um pouco acima do que foi realmente projetado (14%). Também ficamos um pouco acima do tempo de acomodação, mas não muito. Isso provavelmente é devido ao atraso natural causado pela discretização. Talvez tivesse sido mais prudente projetar um tempo de acomodação ligeiramente menor, já prevendo isso. "
   ]
  },
  {
   "cell_type": "code",
   "execution_count": 145,
   "metadata": {},
   "outputs": [],
   "source": [
    "# Simulação\n",
    "t,y = ct.step_response(YR,2)\n",
    "td,yd = ct.step_response(YRz,2)\n",
    "from matplotlib import pyplot as plt"
   ]
  },
  {
   "cell_type": "code",
   "execution_count": 146,
   "metadata": {},
   "outputs": [
    {
     "name": "stdout",
     "output_type": "stream",
     "text": [
      "O máximo sinal contínuo foi:  1.139819269149283\n",
      "O máximo sinal discreto foi:  1.1257026595417274\n"
     ]
    },
    {
     "data": {
      "image/png": "[encoded data removed]",
      "image/svg+xml": "<?xml version=\"1.0\" encoding=\"utf-8\" standalone=\"no\"?>\n<!DOCTYPE svg PUBLIC \"-//W3C//DTD SVG 1.1//EN\"\n  \"http://www.w3.org/Graphics/SVG/1.1/DTD/svg11.dtd\">\n<svg xmlns:xlink=\"http://www.w3.org/1999/xlink\" width=\"394.423125pt\" height=\"326.466375pt\" viewBox=\"0 0 394.423125 326.466375\" xmlns=\"http://www.w3.org/2000/svg\" version=\"1.1\">\n <metadata>\n  <rdf:RDF xmlns:dc=\"http://purl.org/dc/elements/1.1/\" xmlns:cc=\"http://creativecommons.org/ns#\" xmlns:rdf=\"http://www.w3.org/1999/02/22-rdf-syntax-ns#\">\n   <cc:Work>\n    <dc:type rdf:resource=\"http://purl.org/dc/dcmitype/StillImage\"/>\n    <dc:date>2022-12-30T09:23:56.685114</dc:date>\n    <dc:format>image/svg+xml</dc:format>\n    <dc:creator>\n     <cc:Agent>\n      <dc:title>Matplotlib v3.5.1, https://matplotlib.org/</dc:title>\n     </cc:Agent>\n    </dc:creator>\n   </cc:Work>\n  </rdf:RDF>\n </metadata>\n <defs>\n  <style type=\"text/css\">*{stroke-linejoin: round; stroke-linecap: butt}</style>\n </defs>\n <g id=\"figure_1\">\n  <g id=\"patch_1\">\n   <path d=\"M 0 326.466375 \nL 394.423125 326.466375 \nL 394.423125 0 \nL 0 0 \nz\n\" style=\"fill: #ffffff\"/>\n  </g>\n  <g id=\"axes_1\">\n   <g id=\"patch_2\">\n    <path d=\"M 30.103125 288.910125 \nL 387.223125 288.910125 \nL 387.223125 22.798125 \nL 30.103125 22.798125 \nz\n\" style=\"fill: #ffffff\"/>\n   </g>\n   <g id=\"matplotlib.axis_1\">\n    <g id=\"xtick_1\">\n     <g id=\"line2d_1\">\n      <path d=\"M 46.335852 288.910125 \nL 46.335852 22.798125 \n\" clip-path=\"url(#p4845021747)\" style=\"fill: none; stroke: #b0b0b0; stroke-width: 0.8; stroke-linecap: square\"/>\n     </g>\n     <g id=\"line2d_2\">\n      <defs>\n       <path id=\"mdaaec19dc0\" d=\"M 0 0 \nL 0 3.5 \n\" style=\"stroke: #000000; stroke-width: 0.8\"/>\n      </defs>\n      <g>\n       <use xlink:href=\"#mdaaec19dc0\" x=\"46.335852\" y=\"288.910125\" style=\"stroke: #000000; stroke-width: 0.8\"/>\n      </g>\n     </g>\n     <g id=\"text_1\">\n      <!-- 0.00 -->\n      <g transform=\"translate(35.20304 303.508562)scale(0.1 -0.1)\">\n       <defs>\n        <path id=\"DejaVuSans-30\" d=\"M 2034 4250 \nQ 1547 4250 1301 3770 \nQ 1056 3291 1056 2328 \nQ 1056 1369 1301 889 \nQ 1547 409 2034 409 \nQ 2525 409 2770 889 \nQ 3016 1369 3016 2328 \nQ 3016 3291 2770 3770 \nQ 2525 4250 2034 4250 \nz\nM 2034 4750 \nQ 2819 4750 3233 4129 \nQ 3647 3509 3647 2328 \nQ 3647 1150 3233 529 \nQ 2819 -91 2034 -91 \nQ 1250 -91 836 529 \nQ 422 1150 422 2328 \nQ 422 3509 836 4129 \nQ 1250 4750 2034 4750 \nz\n\" transform=\"scale(0.015625)\"/>\n        <path id=\"DejaVuSans-2e\" d=\"M 684 794 \nL 1344 794 \nL 1344 0 \nL 684 0 \nL 684 794 \nz\n\" transform=\"scale(0.015625)\"/>\n       </defs>\n       <use xlink:href=\"#DejaVuSans-30\"/>\n       <use xlink:href=\"#DejaVuSans-2e\" x=\"63.623047\"/>\n       <use xlink:href=\"#DejaVuSans-30\" x=\"95.410156\"/>\n       <use xlink:href=\"#DejaVuSans-30\" x=\"159.033203\"/>\n      </g>\n     </g>\n    </g>\n    <g id=\"xtick_2\">\n     <g id=\"line2d_3\">\n      <path d=\"M 86.836669 288.910125 \nL 86.836669 22.798125 \n\" clip-path=\"url(#p4845021747)\" style=\"fill: none; stroke: #b0b0b0; stroke-width: 0.8; stroke-linecap: square\"/>\n     </g>\n     <g id=\"line2d_4\">\n      <g>\n       <use xlink:href=\"#mdaaec19dc0\" x=\"86.836669\" y=\"288.910125\" style=\"stroke: #000000; stroke-width: 0.8\"/>\n      </g>\n     </g>\n     <g id=\"text_2\">\n      <!-- 0.25 -->\n      <g transform=\"translate(75.703856 303.508562)scale(0.1 -0.1)\">\n       <defs>\n        <path id=\"DejaVuSans-32\" d=\"M 1228 531 \nL 3431 531 \nL 3431 0 \nL 469 0 \nL 469 531 \nQ 828 903 1448 1529 \nQ 2069 2156 2228 2338 \nQ 2531 2678 2651 2914 \nQ 2772 3150 2772 3378 \nQ 2772 3750 2511 3984 \nQ 2250 4219 1831 4219 \nQ 1534 4219 1204 4116 \nQ 875 4013 500 3803 \nL 500 4441 \nQ 881 4594 1212 4672 \nQ 1544 4750 1819 4750 \nQ 2544 4750 2975 4387 \nQ 3406 4025 3406 3419 \nQ 3406 3131 3298 2873 \nQ 3191 2616 2906 2266 \nQ 2828 2175 2409 1742 \nQ 1991 1309 1228 531 \nz\n\" transform=\"scale(0.015625)\"/>\n        <path id=\"DejaVuSans-35\" d=\"M 691 4666 \nL 3169 4666 \nL 3169 4134 \nL 1269 4134 \nL 1269 2991 \nQ 1406 3038 1543 3061 \nQ 1681 3084 1819 3084 \nQ 2600 3084 3056 2656 \nQ 3513 2228 3513 1497 \nQ 3513 744 3044 326 \nQ 2575 -91 1722 -91 \nQ 1428 -91 1123 -41 \nQ 819 9 494 109 \nL 494 744 \nQ 775 591 1075 516 \nQ 1375 441 1709 441 \nQ 2250 441 2565 725 \nQ 2881 1009 2881 1497 \nQ 2881 1984 2565 2268 \nQ 2250 2553 1709 2553 \nQ 1456 2553 1204 2497 \nQ 953 2441 691 2322 \nL 691 4666 \nz\n\" transform=\"scale(0.015625)\"/>\n       </defs>\n       <use xlink:href=\"#DejaVuSans-30\"/>\n       <use xlink:href=\"#DejaVuSans-2e\" x=\"63.623047\"/>\n       <use xlink:href=\"#DejaVuSans-32\" x=\"95.410156\"/>\n       <use xlink:href=\"#DejaVuSans-35\" x=\"159.033203\"/>\n      </g>\n     </g>\n    </g>\n    <g id=\"xtick_3\">\n     <g id=\"line2d_5\">\n      <path d=\"M 127.337485 288.910125 \nL 127.337485 22.798125 \n\" clip-path=\"url(#p4845021747)\" style=\"fill: none; stroke: #b0b0b0; stroke-width: 0.8; stroke-linecap: square\"/>\n     </g>\n     <g id=\"line2d_6\">\n      <g>\n       <use xlink:href=\"#mdaaec19dc0\" x=\"127.337485\" y=\"288.910125\" style=\"stroke: #000000; stroke-width: 0.8\"/>\n      </g>\n     </g>\n     <g id=\"text_3\">\n      <!-- 0.50 -->\n      <g transform=\"translate(116.204673 303.508562)scale(0.1 -0.1)\">\n       <use xlink:href=\"#DejaVuSans-30\"/>\n       <use xlink:href=\"#DejaVuSans-2e\" x=\"63.623047\"/>\n       <use xlink:href=\"#DejaVuSans-35\" x=\"95.410156\"/>\n       <use xlink:href=\"#DejaVuSans-30\" x=\"159.033203\"/>\n      </g>\n     </g>\n    </g>\n    <g id=\"xtick_4\">\n     <g id=\"line2d_7\">\n      <path d=\"M 167.838302 288.910125 \nL 167.838302 22.798125 \n\" clip-path=\"url(#p4845021747)\" style=\"fill: none; stroke: #b0b0b0; stroke-width: 0.8; stroke-linecap: square\"/>\n     </g>\n     <g id=\"line2d_8\">\n      <g>\n       <use xlink:href=\"#mdaaec19dc0\" x=\"167.838302\" y=\"288.910125\" style=\"stroke: #000000; stroke-width: 0.8\"/>\n      </g>\n     </g>\n     <g id=\"text_4\">\n      <!-- 0.75 -->\n      <g transform=\"translate(156.705489 303.508562)scale(0.1 -0.1)\">\n       <defs>\n        <path id=\"DejaVuSans-37\" d=\"M 525 4666 \nL 3525 4666 \nL 3525 4397 \nL 1831 0 \nL 1172 0 \nL 2766 4134 \nL 525 4134 \nL 525 4666 \nz\n\" transform=\"scale(0.015625)\"/>\n       </defs>\n       <use xlink:href=\"#DejaVuSans-30\"/>\n       <use xlink:href=\"#DejaVuSans-2e\" x=\"63.623047\"/>\n       <use xlink:href=\"#DejaVuSans-37\" x=\"95.410156\"/>\n       <use xlink:href=\"#DejaVuSans-35\" x=\"159.033203\"/>\n      </g>\n     </g>\n    </g>\n    <g id=\"xtick_5\">\n     <g id=\"line2d_9\">\n      <path d=\"M 208.339118 288.910125 \nL 208.339118 22.798125 \n\" clip-path=\"url(#p4845021747)\" style=\"fill: none; stroke: #b0b0b0; stroke-width: 0.8; stroke-linecap: square\"/>\n     </g>\n     <g id=\"line2d_10\">\n      <g>\n       <use xlink:href=\"#mdaaec19dc0\" x=\"208.339118\" y=\"288.910125\" style=\"stroke: #000000; stroke-width: 0.8\"/>\n      </g>\n     </g>\n     <g id=\"text_5\">\n      <!-- 1.00 -->\n      <g transform=\"translate(197.206306 303.508562)scale(0.1 -0.1)\">\n       <defs>\n        <path id=\"DejaVuSans-31\" d=\"M 794 531 \nL 1825 531 \nL 1825 4091 \nL 703 3866 \nL 703 4441 \nL 1819 4666 \nL 2450 4666 \nL 2450 531 \nL 3481 531 \nL 3481 0 \nL 794 0 \nL 794 531 \nz\n\" transform=\"scale(0.015625)\"/>\n       </defs>\n       <use xlink:href=\"#DejaVuSans-31\"/>\n       <use xlink:href=\"#DejaVuSans-2e\" x=\"63.623047\"/>\n       <use xlink:href=\"#DejaVuSans-30\" x=\"95.410156\"/>\n       <use xlink:href=\"#DejaVuSans-30\" x=\"159.033203\"/>\n      </g>\n     </g>\n    </g>\n    <g id=\"xtick_6\">\n     <g id=\"line2d_11\">\n      <path d=\"M 248.839935 288.910125 \nL 248.839935 22.798125 \n\" clip-path=\"url(#p4845021747)\" style=\"fill: none; stroke: #b0b0b0; stroke-width: 0.8; stroke-linecap: square\"/>\n     </g>\n     <g id=\"line2d_12\">\n      <g>\n       <use xlink:href=\"#mdaaec19dc0\" x=\"248.839935\" y=\"288.910125\" style=\"stroke: #000000; stroke-width: 0.8\"/>\n      </g>\n     </g>\n     <g id=\"text_6\">\n      <!-- 1.25 -->\n      <g transform=\"translate(237.707123 303.508562)scale(0.1 -0.1)\">\n       <use xlink:href=\"#DejaVuSans-31\"/>\n       <use xlink:href=\"#DejaVuSans-2e\" x=\"63.623047\"/>\n       <use xlink:href=\"#DejaVuSans-32\" x=\"95.410156\"/>\n       <use xlink:href=\"#DejaVuSans-35\" x=\"159.033203\"/>\n      </g>\n     </g>\n    </g>\n    <g id=\"xtick_7\">\n     <g id=\"line2d_13\">\n      <path d=\"M 289.340752 288.910125 \nL 289.340752 22.798125 \n\" clip-path=\"url(#p4845021747)\" style=\"fill: none; stroke: #b0b0b0; stroke-width: 0.8; stroke-linecap: square\"/>\n     </g>\n     <g id=\"line2d_14\">\n      <g>\n       <use xlink:href=\"#mdaaec19dc0\" x=\"289.340752\" y=\"288.910125\" style=\"stroke: #000000; stroke-width: 0.8\"/>\n      </g>\n     </g>\n     <g id=\"text_7\">\n      <!-- 1.50 -->\n      <g transform=\"translate(278.207939 303.508562)scale(0.1 -0.1)\">\n       <use xlink:href=\"#DejaVuSans-31\"/>\n       <use xlink:href=\"#DejaVuSans-2e\" x=\"63.623047\"/>\n       <use xlink:href=\"#DejaVuSans-35\" x=\"95.410156\"/>\n       <use xlink:href=\"#DejaVuSans-30\" x=\"159.033203\"/>\n      </g>\n     </g>\n    </g>\n    <g id=\"xtick_8\">\n     <g id=\"line2d_15\">\n      <path d=\"M 329.841568 288.910125 \nL 329.841568 22.798125 \n\" clip-path=\"url(#p4845021747)\" style=\"fill: none; stroke: #b0b0b0; stroke-width: 0.8; stroke-linecap: square\"/>\n     </g>\n     <g id=\"line2d_16\">\n      <g>\n       <use xlink:href=\"#mdaaec19dc0\" x=\"329.841568\" y=\"288.910125\" style=\"stroke: #000000; stroke-width: 0.8\"/>\n      </g>\n     </g>\n     <g id=\"text_8\">\n      <!-- 1.75 -->\n      <g transform=\"translate(318.708756 303.508562)scale(0.1 -0.1)\">\n       <use xlink:href=\"#DejaVuSans-31\"/>\n       <use xlink:href=\"#DejaVuSans-2e\" x=\"63.623047\"/>\n       <use xlink:href=\"#DejaVuSans-37\" x=\"95.410156\"/>\n       <use xlink:href=\"#DejaVuSans-35\" x=\"159.033203\"/>\n      </g>\n     </g>\n    </g>\n    <g id=\"xtick_9\">\n     <g id=\"line2d_17\">\n      <path d=\"M 370.342385 288.910125 \nL 370.342385 22.798125 \n\" clip-path=\"url(#p4845021747)\" style=\"fill: none; stroke: #b0b0b0; stroke-width: 0.8; stroke-linecap: square\"/>\n     </g>\n     <g id=\"line2d_18\">\n      <g>\n       <use xlink:href=\"#mdaaec19dc0\" x=\"370.342385\" y=\"288.910125\" style=\"stroke: #000000; stroke-width: 0.8\"/>\n      </g>\n     </g>\n     <g id=\"text_9\">\n      <!-- 2.00 -->\n      <g transform=\"translate(359.209572 303.508562)scale(0.1 -0.1)\">\n       <use xlink:href=\"#DejaVuSans-32\"/>\n       <use xlink:href=\"#DejaVuSans-2e\" x=\"63.623047\"/>\n       <use xlink:href=\"#DejaVuSans-30\" x=\"95.410156\"/>\n       <use xlink:href=\"#DejaVuSans-30\" x=\"159.033203\"/>\n      </g>\n     </g>\n    </g>\n    <g id=\"text_10\">\n     <!-- Tempo (seg) -->\n     <g transform=\"translate(177.932656 317.186687)scale(0.1 -0.1)\">\n      <defs>\n       <path id=\"DejaVuSans-54\" d=\"M -19 4666 \nL 3928 4666 \nL 3928 4134 \nL 2272 4134 \nL 2272 0 \nL 1638 0 \nL 1638 4134 \nL -19 4134 \nL -19 4666 \nz\n\" transform=\"scale(0.015625)\"/>\n       <path id=\"DejaVuSans-65\" d=\"M 3597 1894 \nL 3597 1613 \nL 953 1613 \nQ 991 1019 1311 708 \nQ 1631 397 2203 397 \nQ 2534 397 2845 478 \nQ 3156 559 3463 722 \nL 3463 178 \nQ 3153 47 2828 -22 \nQ 2503 -91 2169 -91 \nQ 1331 -91 842 396 \nQ 353 884 353 1716 \nQ 353 2575 817 3079 \nQ 1281 3584 2069 3584 \nQ 2775 3584 3186 3129 \nQ 3597 2675 3597 1894 \nz\nM 3022 2063 \nQ 3016 2534 2758 2815 \nQ 2500 3097 2075 3097 \nQ 1594 3097 1305 2825 \nQ 1016 2553 972 2059 \nL 3022 2063 \nz\n\" transform=\"scale(0.015625)\"/>\n       <path id=\"DejaVuSans-6d\" d=\"M 3328 2828 \nQ 3544 3216 3844 3400 \nQ 4144 3584 4550 3584 \nQ 5097 3584 5394 3201 \nQ 5691 2819 5691 2113 \nL 5691 0 \nL 5113 0 \nL 5113 2094 \nQ 5113 2597 4934 2840 \nQ 4756 3084 4391 3084 \nQ 3944 3084 3684 2787 \nQ 3425 2491 3425 1978 \nL 3425 0 \nL 2847 0 \nL 2847 2094 \nQ 2847 2600 2669 2842 \nQ 2491 3084 2119 3084 \nQ 1678 3084 1418 2786 \nQ 1159 2488 1159 1978 \nL 1159 0 \nL 581 0 \nL 581 3500 \nL 1159 3500 \nL 1159 2956 \nQ 1356 3278 1631 3431 \nQ 1906 3584 2284 3584 \nQ 2666 3584 2933 3390 \nQ 3200 3197 3328 2828 \nz\n\" transform=\"scale(0.015625)\"/>\n       <path id=\"DejaVuSans-70\" d=\"M 1159 525 \nL 1159 -1331 \nL 581 -1331 \nL 581 3500 \nL 1159 3500 \nL 1159 2969 \nQ 1341 3281 1617 3432 \nQ 1894 3584 2278 3584 \nQ 2916 3584 3314 3078 \nQ 3713 2572 3713 1747 \nQ 3713 922 3314 415 \nQ 2916 -91 2278 -91 \nQ 1894 -91 1617 61 \nQ 1341 213 1159 525 \nz\nM 3116 1747 \nQ 3116 2381 2855 2742 \nQ 2594 3103 2138 3103 \nQ 1681 3103 1420 2742 \nQ 1159 2381 1159 1747 \nQ 1159 1113 1420 752 \nQ 1681 391 2138 391 \nQ 2594 391 2855 752 \nQ 3116 1113 3116 1747 \nz\n\" transform=\"scale(0.015625)\"/>\n       <path id=\"DejaVuSans-6f\" d=\"M 1959 3097 \nQ 1497 3097 1228 2736 \nQ 959 2375 959 1747 \nQ 959 1119 1226 758 \nQ 1494 397 1959 397 \nQ 2419 397 2687 759 \nQ 2956 1122 2956 1747 \nQ 2956 2369 2687 2733 \nQ 2419 3097 1959 3097 \nz\nM 1959 3584 \nQ 2709 3584 3137 3096 \nQ 3566 2609 3566 1747 \nQ 3566 888 3137 398 \nQ 2709 -91 1959 -91 \nQ 1206 -91 779 398 \nQ 353 888 353 1747 \nQ 353 2609 779 3096 \nQ 1206 3584 1959 3584 \nz\n\" transform=\"scale(0.015625)\"/>\n       <path id=\"DejaVuSans-20\" transform=\"scale(0.015625)\"/>\n       <path id=\"DejaVuSans-28\" d=\"M 1984 4856 \nQ 1566 4138 1362 3434 \nQ 1159 2731 1159 2009 \nQ 1159 1288 1364 580 \nQ 1569 -128 1984 -844 \nL 1484 -844 \nQ 1016 -109 783 600 \nQ 550 1309 550 2009 \nQ 550 2706 781 3412 \nQ 1013 4119 1484 4856 \nL 1984 4856 \nz\n\" transform=\"scale(0.015625)\"/>\n       <path id=\"DejaVuSans-73\" d=\"M 2834 3397 \nL 2834 2853 \nQ 2591 2978 2328 3040 \nQ 2066 3103 1784 3103 \nQ 1356 3103 1142 2972 \nQ 928 2841 928 2578 \nQ 928 2378 1081 2264 \nQ 1234 2150 1697 2047 \nL 1894 2003 \nQ 2506 1872 2764 1633 \nQ 3022 1394 3022 966 \nQ 3022 478 2636 193 \nQ 2250 -91 1575 -91 \nQ 1294 -91 989 -36 \nQ 684 19 347 128 \nL 347 722 \nQ 666 556 975 473 \nQ 1284 391 1588 391 \nQ 1994 391 2212 530 \nQ 2431 669 2431 922 \nQ 2431 1156 2273 1281 \nQ 2116 1406 1581 1522 \nL 1381 1569 \nQ 847 1681 609 1914 \nQ 372 2147 372 2553 \nQ 372 3047 722 3315 \nQ 1072 3584 1716 3584 \nQ 2034 3584 2315 3537 \nQ 2597 3491 2834 3397 \nz\n\" transform=\"scale(0.015625)\"/>\n       <path id=\"DejaVuSans-67\" d=\"M 2906 1791 \nQ 2906 2416 2648 2759 \nQ 2391 3103 1925 3103 \nQ 1463 3103 1205 2759 \nQ 947 2416 947 1791 \nQ 947 1169 1205 825 \nQ 1463 481 1925 481 \nQ 2391 481 2648 825 \nQ 2906 1169 2906 1791 \nz\nM 3481 434 \nQ 3481 -459 3084 -895 \nQ 2688 -1331 1869 -1331 \nQ 1566 -1331 1297 -1286 \nQ 1028 -1241 775 -1147 \nL 775 -588 \nQ 1028 -725 1275 -790 \nQ 1522 -856 1778 -856 \nQ 2344 -856 2625 -561 \nQ 2906 -266 2906 331 \nL 2906 616 \nQ 2728 306 2450 153 \nQ 2172 0 1784 0 \nQ 1141 0 747 490 \nQ 353 981 353 1791 \nQ 353 2603 747 3093 \nQ 1141 3584 1784 3584 \nQ 2172 3584 2450 3431 \nQ 2728 3278 2906 2969 \nL 2906 3500 \nL 3481 3500 \nL 3481 434 \nz\n\" transform=\"scale(0.015625)\"/>\n       <path id=\"DejaVuSans-29\" d=\"M 513 4856 \nL 1013 4856 \nQ 1481 4119 1714 3412 \nQ 1947 2706 1947 2009 \nQ 1947 1309 1714 600 \nQ 1481 -109 1013 -844 \nL 513 -844 \nQ 928 -128 1133 580 \nQ 1338 1288 1338 2009 \nQ 1338 2731 1133 3434 \nQ 928 4138 513 4856 \nz\n\" transform=\"scale(0.015625)\"/>\n      </defs>\n      <use xlink:href=\"#DejaVuSans-54\"/>\n      <use xlink:href=\"#DejaVuSans-65\" x=\"44.083984\"/>\n      <use xlink:href=\"#DejaVuSans-6d\" x=\"105.607422\"/>\n      <use xlink:href=\"#DejaVuSans-70\" x=\"203.019531\"/>\n      <use xlink:href=\"#DejaVuSans-6f\" x=\"266.496094\"/>\n      <use xlink:href=\"#DejaVuSans-20\" x=\"327.677734\"/>\n      <use xlink:href=\"#DejaVuSans-28\" x=\"359.464844\"/>\n      <use xlink:href=\"#DejaVuSans-73\" x=\"398.478516\"/>\n      <use xlink:href=\"#DejaVuSans-65\" x=\"450.578125\"/>\n      <use xlink:href=\"#DejaVuSans-67\" x=\"512.101562\"/>\n      <use xlink:href=\"#DejaVuSans-29\" x=\"575.578125\"/>\n     </g>\n    </g>\n   </g>\n   <g id=\"matplotlib.axis_2\">\n    <g id=\"ytick_1\">\n     <g id=\"line2d_19\">\n      <path d=\"M 30.103125 276.814125 \nL 387.223125 276.814125 \n\" clip-path=\"url(#p4845021747)\" style=\"fill: none; stroke: #b0b0b0; stroke-width: 0.8; stroke-linecap: square\"/>\n     </g>\n     <g id=\"line2d_20\">\n      <defs>\n       <path id=\"mba66bced42\" d=\"M 0 0 \nL -3.5 0 \n\" style=\"stroke: #000000; stroke-width: 0.8\"/>\n      </defs>\n      <g>\n       <use xlink:href=\"#mba66bced42\" x=\"30.103125\" y=\"276.814125\" style=\"stroke: #000000; stroke-width: 0.8\"/>\n      </g>\n     </g>\n     <g id=\"text_11\">\n      <!-- 0.0 -->\n      <g transform=\"translate(7.2 280.613344)scale(0.1 -0.1)\">\n       <use xlink:href=\"#DejaVuSans-30\"/>\n       <use xlink:href=\"#DejaVuSans-2e\" x=\"63.623047\"/>\n       <use xlink:href=\"#DejaVuSans-30\" x=\"95.410156\"/>\n      </g>\n     </g>\n    </g>\n    <g id=\"ytick_2\">\n     <g id=\"line2d_21\">\n      <path d=\"M 30.103125 234.36529 \nL 387.223125 234.36529 \n\" clip-path=\"url(#p4845021747)\" style=\"fill: none; stroke: #b0b0b0; stroke-width: 0.8; stroke-linecap: square\"/>\n     </g>\n     <g id=\"line2d_22\">\n      <g>\n       <use xlink:href=\"#mba66bced42\" x=\"30.103125\" y=\"234.36529\" style=\"stroke: #000000; stroke-width: 0.8\"/>\n      </g>\n     </g>\n     <g id=\"text_12\">\n      <!-- 0.2 -->\n      <g transform=\"translate(7.2 238.164509)scale(0.1 -0.1)\">\n       <use xlink:href=\"#DejaVuSans-30\"/>\n       <use xlink:href=\"#DejaVuSans-2e\" x=\"63.623047\"/>\n       <use xlink:href=\"#DejaVuSans-32\" x=\"95.410156\"/>\n      </g>\n     </g>\n    </g>\n    <g id=\"ytick_3\">\n     <g id=\"line2d_23\">\n      <path d=\"M 30.103125 191.916455 \nL 387.223125 191.916455 \n\" clip-path=\"url(#p4845021747)\" style=\"fill: none; stroke: #b0b0b0; stroke-width: 0.8; stroke-linecap: square\"/>\n     </g>\n     <g id=\"line2d_24\">\n      <g>\n       <use xlink:href=\"#mba66bced42\" x=\"30.103125\" y=\"191.916455\" style=\"stroke: #000000; stroke-width: 0.8\"/>\n      </g>\n     </g>\n     <g id=\"text_13\">\n      <!-- 0.4 -->\n      <g transform=\"translate(7.2 195.715674)scale(0.1 -0.1)\">\n       <defs>\n        <path id=\"DejaVuSans-34\" d=\"M 2419 4116 \nL 825 1625 \nL 2419 1625 \nL 2419 4116 \nz\nM 2253 4666 \nL 3047 4666 \nL 3047 1625 \nL 3713 1625 \nL 3713 1100 \nL 3047 1100 \nL 3047 0 \nL 2419 0 \nL 2419 1100 \nL 313 1100 \nL 313 1709 \nL 2253 4666 \nz\n\" transform=\"scale(0.015625)\"/>\n       </defs>\n       <use xlink:href=\"#DejaVuSans-30\"/>\n       <use xlink:href=\"#DejaVuSans-2e\" x=\"63.623047\"/>\n       <use xlink:href=\"#DejaVuSans-34\" x=\"95.410156\"/>\n      </g>\n     </g>\n    </g>\n    <g id=\"ytick_4\">\n     <g id=\"line2d_25\">\n      <path d=\"M 30.103125 149.46762 \nL 387.223125 149.46762 \n\" clip-path=\"url(#p4845021747)\" style=\"fill: none; stroke: #b0b0b0; stroke-width: 0.8; stroke-linecap: square\"/>\n     </g>\n     <g id=\"line2d_26\">\n      <g>\n       <use xlink:href=\"#mba66bced42\" x=\"30.103125\" y=\"149.46762\" style=\"stroke: #000000; stroke-width: 0.8\"/>\n      </g>\n     </g>\n     <g id=\"text_14\">\n      <!-- 0.6 -->\n      <g transform=\"translate(7.2 153.266839)scale(0.1 -0.1)\">\n       <defs>\n        <path id=\"DejaVuSans-36\" d=\"M 2113 2584 \nQ 1688 2584 1439 2293 \nQ 1191 2003 1191 1497 \nQ 1191 994 1439 701 \nQ 1688 409 2113 409 \nQ 2538 409 2786 701 \nQ 3034 994 3034 1497 \nQ 3034 2003 2786 2293 \nQ 2538 2584 2113 2584 \nz\nM 3366 4563 \nL 3366 3988 \nQ 3128 4100 2886 4159 \nQ 2644 4219 2406 4219 \nQ 1781 4219 1451 3797 \nQ 1122 3375 1075 2522 \nQ 1259 2794 1537 2939 \nQ 1816 3084 2150 3084 \nQ 2853 3084 3261 2657 \nQ 3669 2231 3669 1497 \nQ 3669 778 3244 343 \nQ 2819 -91 2113 -91 \nQ 1303 -91 875 529 \nQ 447 1150 447 2328 \nQ 447 3434 972 4092 \nQ 1497 4750 2381 4750 \nQ 2619 4750 2861 4703 \nQ 3103 4656 3366 4563 \nz\n\" transform=\"scale(0.015625)\"/>\n       </defs>\n       <use xlink:href=\"#DejaVuSans-30\"/>\n       <use xlink:href=\"#DejaVuSans-2e\" x=\"63.623047\"/>\n       <use xlink:href=\"#DejaVuSans-36\" x=\"95.410156\"/>\n      </g>\n     </g>\n    </g>\n    <g id=\"ytick_5\">\n     <g id=\"line2d_27\">\n      <path d=\"M 30.103125 107.018785 \nL 387.223125 107.018785 \n\" clip-path=\"url(#p4845021747)\" style=\"fill: none; stroke: #b0b0b0; stroke-width: 0.8; stroke-linecap: square\"/>\n     </g>\n     <g id=\"line2d_28\">\n      <g>\n       <use xlink:href=\"#mba66bced42\" x=\"30.103125\" y=\"107.018785\" style=\"stroke: #000000; stroke-width: 0.8\"/>\n      </g>\n     </g>\n     <g id=\"text_15\">\n      <!-- 0.8 -->\n      <g transform=\"translate(7.2 110.818004)scale(0.1 -0.1)\">\n       <defs>\n        <path id=\"DejaVuSans-38\" d=\"M 2034 2216 \nQ 1584 2216 1326 1975 \nQ 1069 1734 1069 1313 \nQ 1069 891 1326 650 \nQ 1584 409 2034 409 \nQ 2484 409 2743 651 \nQ 3003 894 3003 1313 \nQ 3003 1734 2745 1975 \nQ 2488 2216 2034 2216 \nz\nM 1403 2484 \nQ 997 2584 770 2862 \nQ 544 3141 544 3541 \nQ 544 4100 942 4425 \nQ 1341 4750 2034 4750 \nQ 2731 4750 3128 4425 \nQ 3525 4100 3525 3541 \nQ 3525 3141 3298 2862 \nQ 3072 2584 2669 2484 \nQ 3125 2378 3379 2068 \nQ 3634 1759 3634 1313 \nQ 3634 634 3220 271 \nQ 2806 -91 2034 -91 \nQ 1263 -91 848 271 \nQ 434 634 434 1313 \nQ 434 1759 690 2068 \nQ 947 2378 1403 2484 \nz\nM 1172 3481 \nQ 1172 3119 1398 2916 \nQ 1625 2713 2034 2713 \nQ 2441 2713 2670 2916 \nQ 2900 3119 2900 3481 \nQ 2900 3844 2670 4047 \nQ 2441 4250 2034 4250 \nQ 1625 4250 1398 4047 \nQ 1172 3844 1172 3481 \nz\n\" transform=\"scale(0.015625)\"/>\n       </defs>\n       <use xlink:href=\"#DejaVuSans-30\"/>\n       <use xlink:href=\"#DejaVuSans-2e\" x=\"63.623047\"/>\n       <use xlink:href=\"#DejaVuSans-38\" x=\"95.410156\"/>\n      </g>\n     </g>\n    </g>\n    <g id=\"ytick_6\">\n     <g id=\"line2d_29\">\n      <path d=\"M 30.103125 64.56995 \nL 387.223125 64.56995 \n\" clip-path=\"url(#p4845021747)\" style=\"fill: none; stroke: #b0b0b0; stroke-width: 0.8; stroke-linecap: square\"/>\n     </g>\n     <g id=\"line2d_30\">\n      <g>\n       <use xlink:href=\"#mba66bced42\" x=\"30.103125\" y=\"64.56995\" style=\"stroke: #000000; stroke-width: 0.8\"/>\n      </g>\n     </g>\n     <g id=\"text_16\">\n      <!-- 1.0 -->\n      <g transform=\"translate(7.2 68.369169)scale(0.1 -0.1)\">\n       <use xlink:href=\"#DejaVuSans-31\"/>\n       <use xlink:href=\"#DejaVuSans-2e\" x=\"63.623047\"/>\n       <use xlink:href=\"#DejaVuSans-30\" x=\"95.410156\"/>\n      </g>\n     </g>\n    </g>\n   </g>\n   <g id=\"line2d_31\">\n    <path d=\"M 46.335852 276.814125 \nL 49.608646 274.483785 \nL 52.881439 268.012642 \nL 56.154232 258.157011 \nL 59.427025 245.632708 \nL 62.699819 231.105791 \nL 65.972612 215.185742 \nL 69.245405 198.420878 \nL 72.518198 181.295754 \nL 75.790992 164.230317 \nL 79.063785 147.580568 \nL 82.336578 131.640492 \nL 85.609371 116.645029 \nL 88.882165 102.773858 \nL 92.154958 90.155803 \nL 95.427751 78.873671 \nL 98.700544 68.969342 \nL 101.973338 60.448987 \nL 105.246131 53.288263 \nL 108.518924 47.437385 \nL 111.791717 42.825991 \nL 115.064511 39.367714 \nL 118.337304 36.96442 \nL 121.610097 35.510062 \nL 124.88289 34.894125 \nL 128.155684 35.004661 \nL 131.428477 35.730892 \nL 134.70127 36.965409 \nL 137.974063 38.60596 \nL 141.246857 40.556874 \nL 144.51965 42.730117 \nL 147.792443 45.04604 \nL 151.065236 47.433831 \nL 154.33803 49.831706 \nL 157.610823 52.186887 \nL 160.883616 54.455384 \nL 164.15641 56.601627 \nL 167.429203 58.597967 \nL 170.701996 60.424086 \nL 173.974789 62.066341 \nL 177.247583 63.517052 \nL 180.520376 64.773784 \nL 183.793169 65.838613 \nL 187.065962 66.717407 \nL 190.338756 67.419138 \nL 193.611549 67.955224 \nL 196.884342 68.338922 \nL 200.157135 68.584768 \nL 203.429929 68.708078 \nL 206.702722 68.724501 \nL 209.975515 68.649636 \nL 213.248308 68.498709 \nL 216.521102 68.286296 \nL 219.793895 68.026116 \nL 223.066688 67.730861 \nL 226.339481 67.412077 \nL 229.612275 67.080094 \nL 232.885068 66.743979 \nL 236.157861 66.411536 \nL 239.430654 66.089327 \nL 242.703448 65.782712 \nL 245.976241 65.495922 \nL 249.249034 65.232131 \nL 252.521827 64.993546 \nL 255.794621 64.781508 \nL 259.067414 64.596589 \nL 262.340207 64.438697 \nL 265.613 64.307174 \nL 268.885794 64.200897 \nL 272.158587 64.118371 \nL 275.43138 64.057818 \nL 278.704173 64.017251 \nL 281.976967 63.994557 \nL 285.24976 63.987553 \nL 288.522553 63.994047 \nL 291.795347 64.011887 \nL 295.06814 64.038998 \nL 298.340933 64.073416 \nL 301.613726 64.113315 \nL 304.88652 64.157024 \nL 308.159313 64.20304 \nL 311.432106 64.250034 \nL 314.704899 64.296856 \nL 317.977693 64.342531 \nL 321.250486 64.386252 \nL 324.523279 64.427376 \nL 327.796072 64.465412 \nL 331.068866 64.500007 \nL 334.341659 64.530935 \nL 337.614452 64.558082 \nL 340.887245 64.581431 \nL 344.160039 64.601051 \nL 347.432832 64.617077 \nL 350.705625 64.629705 \nL 353.978418 64.63917 \nL 357.251212 64.645742 \nL 360.524005 64.649713 \nL 363.796798 64.651386 \nL 367.069591 64.651068 \nL 370.342385 64.649063 \n\" clip-path=\"url(#p4845021747)\" style=\"fill: none; stroke: #1f77b4; stroke-width: 1.5; stroke-linecap: square\"/>\n   </g>\n   <g id=\"line2d_32\">\n    <path d=\"M 46.335852 276.454084 \nL 46.335852 275.047391 \nL 48.279891 275.047391 \nL 48.279891 272.333882 \nL 50.223931 272.333882 \nL 50.223931 268.445077 \nL 52.16797 268.445077 \nL 52.16797 263.509524 \nL 54.112009 263.509524 \nL 54.112009 257.652074 \nL 56.056048 257.652074 \nL 56.056048 250.993266 \nL 58.000087 250.993266 \nL 58.000087 243.648799 \nL 59.944127 243.648799 \nL 59.944127 235.729108 \nL 61.888166 235.729108 \nL 61.888166 227.339016 \nL 63.832205 227.339016 \nL 63.832205 218.577468 \nL 65.776244 218.577468 \nL 65.776244 209.537334 \nL 67.720283 209.537334 \nL 67.720283 200.305276 \nL 69.664323 200.305276 \nL 69.664323 190.96168 \nL 71.608362 190.96168 \nL 71.608362 181.580638 \nL 73.552401 181.580638 \nL 73.552401 172.229975 \nL 75.49644 172.229975 \nL 75.49644 162.971329 \nL 77.440479 162.971329 \nL 77.440479 153.860261 \nL 79.384519 153.860261 \nL 79.384519 144.9464 \nL 81.328558 144.9464 \nL 81.328558 136.273626 \nL 83.272597 136.273626 \nL 83.272597 127.880267 \nL 85.216636 127.880267 \nL 85.216636 119.799323 \nL 87.160675 119.799323 \nL 87.160675 112.058714 \nL 89.104715 112.058714 \nL 89.104715 104.681526 \nL 91.048754 104.681526 \nL 91.048754 97.686288 \nL 92.992793 97.686288 \nL 92.992793 91.087244 \nL 94.936832 91.087244 \nL 94.936832 84.894633 \nL 96.880871 84.894633 \nL 96.880871 79.114976 \nL 98.824911 79.114976 \nL 98.824911 73.751361 \nL 100.76895 73.751361 \nL 100.76895 68.803726 \nL 102.712989 68.803726 \nL 102.712989 64.269138 \nL 104.657028 64.269138 \nL 104.657028 60.142071 \nL 106.601067 60.142071 \nL 106.601067 56.414676 \nL 108.545106 56.414676 \nL 108.545106 53.077038 \nL 110.489146 53.077038 \nL 110.489146 50.117433 \nL 112.433185 50.117433 \nL 112.433185 47.522567 \nL 114.377224 47.522567 \nL 114.377224 45.27781 \nL 116.321263 45.27781 \nL 116.321263 43.367417 \nL 118.265302 43.367417 \nL 118.265302 41.774732 \nL 120.209342 41.774732 \nL 120.209342 40.48239 \nL 122.153381 40.48239 \nL 122.153381 39.472498 \nL 124.09742 39.472498 \nL 124.09742 38.726805 \nL 126.041459 38.726805 \nL 126.041459 38.226861 \nL 127.985498 38.226861 \nL 127.985498 37.954165 \nL 133.817616 38.017022 \nL 133.817616 38.316438 \nL 135.761655 38.316438 \nL 135.761655 38.77103 \nL 137.705694 38.77103 \nL 137.705694 39.363779 \nL 139.649734 39.363779 \nL 139.649734 40.078229 \nL 141.593773 40.078229 \nL 141.593773 40.89855 \nL 143.537812 40.89855 \nL 143.537812 41.809597 \nL 145.481851 41.809597 \nL 145.481851 42.796947 \nL 147.42589 42.796947 \nL 147.42589 43.846937 \nL 149.36993 43.846937 \nL 149.36993 44.946694 \nL 151.313969 44.946694 \nL 151.313969 46.084149 \nL 153.258008 46.084149 \nL 153.258008 47.24805 \nL 155.202047 47.24805 \nL 155.202047 48.427967 \nL 157.146086 48.427967 \nL 157.146086 49.614294 \nL 159.090126 49.614294 \nL 159.090126 50.798236 \nL 161.034165 50.798236 \nL 161.034165 51.971802 \nL 162.978204 51.971802 \nL 162.978204 53.127787 \nL 164.922243 53.127787 \nL 164.922243 54.259751 \nL 166.866282 54.259751 \nL 166.866282 55.361998 \nL 168.810322 55.361998 \nL 168.810322 56.429545 \nL 170.754361 56.429545 \nL 170.754361 57.458095 \nL 172.6984 57.458095 \nL 172.6984 58.444006 \nL 174.642439 58.444006 \nL 174.642439 59.384257 \nL 176.586478 59.384257 \nL 176.586478 60.276413 \nL 178.530517 60.276413 \nL 178.530517 61.11859 \nL 180.474557 61.11859 \nL 180.474557 61.909419 \nL 182.418596 61.909419 \nL 182.418596 62.648008 \nL 184.362635 62.648008 \nL 184.362635 63.333908 \nL 186.306674 63.333908 \nL 186.306674 63.967075 \nL 188.250713 63.967075 \nL 188.250713 64.547834 \nL 190.194753 64.547834 \nL 190.194753 65.076844 \nL 192.138792 65.076844 \nL 192.138792 65.555065 \nL 194.082831 65.555065 \nL 194.082831 65.983721 \nL 196.02687 65.983721 \nL 196.02687 66.364272 \nL 197.970909 66.364272 \nL 197.970909 66.69838 \nL 199.914949 66.69838 \nL 199.914949 66.98788 \nL 201.858988 66.98788 \nL 201.858988 67.234752 \nL 203.803027 67.234752 \nL 203.803027 67.441096 \nL 205.747066 67.441096 \nL 205.747066 67.609104 \nL 207.691105 67.609104 \nL 207.691105 67.741037 \nL 211.579184 67.839206 \nL 211.579184 67.905947 \nL 223.243419 67.849756 \nL 223.243419 67.776407 \nL 227.131497 67.687394 \nL 227.131497 67.584734 \nL 229.075537 67.584734 \nL 229.075537 67.470358 \nL 231.019576 67.470358 \nL 231.019576 67.346105 \nL 232.963615 67.346105 \nL 232.963615 67.213719 \nL 234.907654 67.213719 \nL 234.907654 67.074844 \nL 236.851693 67.074844 \nL 236.851693 66.931023 \nL 238.795733 66.931023 \nL 238.795733 66.783694 \nL 240.739772 66.783694 \nL 240.739772 66.634192 \nL 242.683811 66.634192 \nL 242.683811 66.483746 \nL 244.62785 66.483746 \nL 244.62785 66.333484 \nL 246.571889 66.333484 \nL 246.571889 66.184431 \nL 248.515928 66.184431 \nL 248.515928 66.037511 \nL 250.459968 66.037511 \nL 250.459968 65.893551 \nL 252.404007 65.893551 \nL 252.404007 65.753286 \nL 254.348046 65.753286 \nL 254.348046 65.617355 \nL 256.292085 65.617355 \nL 256.292085 65.486315 \nL 258.236124 65.486315 \nL 258.236124 65.360636 \nL 260.180164 65.360636 \nL 260.180164 65.24071 \nL 262.124203 65.24071 \nL 262.124203 65.126853 \nL 266.012281 65.019313 \nL 266.012281 64.918269 \nL 269.90036 64.823842 \nL 269.90036 64.736095 \nL 273.788438 64.655038 \nL 273.788438 64.580636 \nL 277.676516 64.512809 \nL 277.676516 64.451439 \nL 283.508634 64.347435 \nL 283.508634 64.304411 \nL 291.284791 64.208436 \nL 291.284791 64.186598 \nL 326.277496 64.287054 \nL 326.277496 64.305995 \nL 337.941731 64.400048 \nL 337.941731 64.417897 \nL 353.494045 64.524382 \nL 353.494045 64.536454 \nL 370.990398 64.60306 \nL 370.990398 64.60306 \n\" clip-path=\"url(#p4845021747)\" style=\"fill: none; stroke: #ff7f0e; stroke-width: 1.5; stroke-linecap: square\"/>\n   </g>\n   <g id=\"patch_3\">\n    <path d=\"M 30.103125 288.910125 \nL 30.103125 22.798125 \n\" style=\"fill: none; stroke: #000000; stroke-width: 0.8; stroke-linejoin: miter; stroke-linecap: square\"/>\n   </g>\n   <g id=\"patch_4\">\n    <path d=\"M 387.223125 288.910125 \nL 387.223125 22.798125 \n\" style=\"fill: none; stroke: #000000; stroke-width: 0.8; stroke-linejoin: miter; stroke-linecap: square\"/>\n   </g>\n   <g id=\"patch_5\">\n    <path d=\"M 30.103125 288.910125 \nL 387.223125 288.910125 \n\" style=\"fill: none; stroke: #000000; stroke-width: 0.8; stroke-linejoin: miter; stroke-linecap: square\"/>\n   </g>\n   <g id=\"patch_6\">\n    <path d=\"M 30.103125 22.798125 \nL 387.223125 22.798125 \n\" style=\"fill: none; stroke: #000000; stroke-width: 0.8; stroke-linejoin: miter; stroke-linecap: square\"/>\n   </g>\n   <g id=\"text_17\">\n    <!-- Comparação das simulações contínua e discreta -->\n    <g transform=\"translate(63.245625 16.798125)scale(0.12 -0.12)\">\n     <defs>\n      <path id=\"DejaVuSans-43\" d=\"M 4122 4306 \nL 4122 3641 \nQ 3803 3938 3442 4084 \nQ 3081 4231 2675 4231 \nQ 1875 4231 1450 3742 \nQ 1025 3253 1025 2328 \nQ 1025 1406 1450 917 \nQ 1875 428 2675 428 \nQ 3081 428 3442 575 \nQ 3803 722 4122 1019 \nL 4122 359 \nQ 3791 134 3420 21 \nQ 3050 -91 2638 -91 \nQ 1578 -91 968 557 \nQ 359 1206 359 2328 \nQ 359 3453 968 4101 \nQ 1578 4750 2638 4750 \nQ 3056 4750 3426 4639 \nQ 3797 4528 4122 4306 \nz\n\" transform=\"scale(0.015625)\"/>\n      <path id=\"DejaVuSans-61\" d=\"M 2194 1759 \nQ 1497 1759 1228 1600 \nQ 959 1441 959 1056 \nQ 959 750 1161 570 \nQ 1363 391 1709 391 \nQ 2188 391 2477 730 \nQ 2766 1069 2766 1631 \nL 2766 1759 \nL 2194 1759 \nz\nM 3341 1997 \nL 3341 0 \nL 2766 0 \nL 2766 531 \nQ 2569 213 2275 61 \nQ 1981 -91 1556 -91 \nQ 1019 -91 701 211 \nQ 384 513 384 1019 \nQ 384 1609 779 1909 \nQ 1175 2209 1959 2209 \nL 2766 2209 \nL 2766 2266 \nQ 2766 2663 2505 2880 \nQ 2244 3097 1772 3097 \nQ 1472 3097 1187 3025 \nQ 903 2953 641 2809 \nL 641 3341 \nQ 956 3463 1253 3523 \nQ 1550 3584 1831 3584 \nQ 2591 3584 2966 3190 \nQ 3341 2797 3341 1997 \nz\n\" transform=\"scale(0.015625)\"/>\n      <path id=\"DejaVuSans-72\" d=\"M 2631 2963 \nQ 2534 3019 2420 3045 \nQ 2306 3072 2169 3072 \nQ 1681 3072 1420 2755 \nQ 1159 2438 1159 1844 \nL 1159 0 \nL 581 0 \nL 581 3500 \nL 1159 3500 \nL 1159 2956 \nQ 1341 3275 1631 3429 \nQ 1922 3584 2338 3584 \nQ 2397 3584 2469 3576 \nQ 2541 3569 2628 3553 \nL 2631 2963 \nz\n\" transform=\"scale(0.015625)\"/>\n      <path id=\"DejaVuSans-e7\" d=\"M 3122 3366 \nL 3122 2828 \nQ 2878 2963 2633 3030 \nQ 2388 3097 2138 3097 \nQ 1578 3097 1268 2742 \nQ 959 2388 959 1747 \nQ 959 1106 1268 751 \nQ 1578 397 2138 397 \nQ 2388 397 2633 464 \nQ 2878 531 3122 666 \nL 3122 134 \nQ 2881 22 2623 -34 \nQ 2366 -91 2075 -91 \nQ 1284 -91 818 406 \nQ 353 903 353 1747 \nQ 353 2603 823 3093 \nQ 1294 3584 2113 3584 \nQ 2378 3584 2631 3529 \nQ 2884 3475 3122 3366 \nz\nM 2309 0 \nQ 2481 -194 2565 -358 \nQ 2650 -522 2650 -672 \nQ 2650 -950 2462 -1092 \nQ 2275 -1234 1906 -1234 \nQ 1763 -1234 1627 -1215 \nQ 1491 -1197 1356 -1159 \nL 1356 -750 \nQ 1463 -803 1578 -826 \nQ 1694 -850 1841 -850 \nQ 2025 -850 2119 -775 \nQ 2213 -700 2213 -556 \nQ 2213 -463 2145 -327 \nQ 2078 -191 1938 0 \nL 2309 0 \nz\n\" transform=\"scale(0.015625)\"/>\n      <path id=\"DejaVuSans-e3\" d=\"M 2194 1759 \nQ 1497 1759 1228 1600 \nQ 959 1441 959 1056 \nQ 959 750 1161 570 \nQ 1363 391 1709 391 \nQ 2188 391 2477 730 \nQ 2766 1069 2766 1631 \nL 2766 1759 \nL 2194 1759 \nz\nM 3341 1997 \nL 3341 0 \nL 2766 0 \nL 2766 531 \nQ 2569 213 2275 61 \nQ 1981 -91 1556 -91 \nQ 1019 -91 701 211 \nQ 384 513 384 1019 \nQ 384 1609 779 1909 \nQ 1175 2209 1959 2209 \nL 2766 2209 \nL 2766 2266 \nQ 2766 2663 2505 2880 \nQ 2244 3097 1772 3097 \nQ 1472 3097 1187 3025 \nQ 903 2953 641 2809 \nL 641 3341 \nQ 956 3463 1253 3523 \nQ 1550 3584 1831 3584 \nQ 2591 3584 2966 3190 \nQ 3341 2797 3341 1997 \nz\nM 1844 4281 \nL 1666 4453 \nQ 1597 4516 1545 4545 \nQ 1494 4575 1453 4575 \nQ 1334 4575 1278 4461 \nQ 1222 4347 1216 4091 \nL 825 4091 \nQ 831 4513 990 4742 \nQ 1150 4972 1434 4972 \nQ 1553 4972 1653 4928 \nQ 1753 4884 1869 4781 \nL 2047 4609 \nQ 2116 4547 2167 4517 \nQ 2219 4488 2259 4488 \nQ 2378 4488 2434 4602 \nQ 2491 4716 2497 4972 \nL 2888 4972 \nQ 2881 4550 2722 4320 \nQ 2563 4091 2278 4091 \nQ 2159 4091 2059 4134 \nQ 1959 4178 1844 4281 \nz\n\" transform=\"scale(0.015625)\"/>\n      <path id=\"DejaVuSans-64\" d=\"M 2906 2969 \nL 2906 4863 \nL 3481 4863 \nL 3481 0 \nL 2906 0 \nL 2906 525 \nQ 2725 213 2448 61 \nQ 2172 -91 1784 -91 \nQ 1150 -91 751 415 \nQ 353 922 353 1747 \nQ 353 2572 751 3078 \nQ 1150 3584 1784 3584 \nQ 2172 3584 2448 3432 \nQ 2725 3281 2906 2969 \nz\nM 947 1747 \nQ 947 1113 1208 752 \nQ 1469 391 1925 391 \nQ 2381 391 2643 752 \nQ 2906 1113 2906 1747 \nQ 2906 2381 2643 2742 \nQ 2381 3103 1925 3103 \nQ 1469 3103 1208 2742 \nQ 947 2381 947 1747 \nz\n\" transform=\"scale(0.015625)\"/>\n      <path id=\"DejaVuSans-69\" d=\"M 603 3500 \nL 1178 3500 \nL 1178 0 \nL 603 0 \nL 603 3500 \nz\nM 603 4863 \nL 1178 4863 \nL 1178 4134 \nL 603 4134 \nL 603 4863 \nz\n\" transform=\"scale(0.015625)\"/>\n      <path id=\"DejaVuSans-75\" d=\"M 544 1381 \nL 544 3500 \nL 1119 3500 \nL 1119 1403 \nQ 1119 906 1312 657 \nQ 1506 409 1894 409 \nQ 2359 409 2629 706 \nQ 2900 1003 2900 1516 \nL 2900 3500 \nL 3475 3500 \nL 3475 0 \nL 2900 0 \nL 2900 538 \nQ 2691 219 2414 64 \nQ 2138 -91 1772 -91 \nQ 1169 -91 856 284 \nQ 544 659 544 1381 \nz\nM 1991 3584 \nL 1991 3584 \nz\n\" transform=\"scale(0.015625)\"/>\n      <path id=\"DejaVuSans-6c\" d=\"M 603 4863 \nL 1178 4863 \nL 1178 0 \nL 603 0 \nL 603 4863 \nz\n\" transform=\"scale(0.015625)\"/>\n      <path id=\"DejaVuSans-f5\" d=\"M 1959 3097 \nQ 1497 3097 1228 2736 \nQ 959 2375 959 1747 \nQ 959 1119 1226 758 \nQ 1494 397 1959 397 \nQ 2419 397 2687 759 \nQ 2956 1122 2956 1747 \nQ 2956 2369 2687 2733 \nQ 2419 3097 1959 3097 \nz\nM 1959 3584 \nQ 2709 3584 3137 3096 \nQ 3566 2609 3566 1747 \nQ 3566 888 3137 398 \nQ 2709 -91 1959 -91 \nQ 1206 -91 779 398 \nQ 353 888 353 1747 \nQ 353 2609 779 3096 \nQ 1206 3584 1959 3584 \nz\nM 1947 4281 \nL 1769 4453 \nQ 1700 4516 1648 4545 \nQ 1597 4575 1556 4575 \nQ 1438 4575 1381 4461 \nQ 1325 4347 1319 4091 \nL 928 4091 \nQ 934 4513 1093 4742 \nQ 1253 4972 1538 4972 \nQ 1656 4972 1756 4928 \nQ 1856 4884 1972 4781 \nL 2150 4609 \nQ 2219 4547 2270 4517 \nQ 2322 4488 2363 4488 \nQ 2481 4488 2537 4602 \nQ 2594 4716 2600 4972 \nL 2991 4972 \nQ 2984 4550 2825 4320 \nQ 2666 4091 2381 4091 \nQ 2263 4091 2163 4134 \nQ 2063 4178 1947 4281 \nz\n\" transform=\"scale(0.015625)\"/>\n      <path id=\"DejaVuSans-63\" d=\"M 3122 3366 \nL 3122 2828 \nQ 2878 2963 2633 3030 \nQ 2388 3097 2138 3097 \nQ 1578 3097 1268 2742 \nQ 959 2388 959 1747 \nQ 959 1106 1268 751 \nQ 1578 397 2138 397 \nQ 2388 397 2633 464 \nQ 2878 531 3122 666 \nL 3122 134 \nQ 2881 22 2623 -34 \nQ 2366 -91 2075 -91 \nQ 1284 -91 818 406 \nQ 353 903 353 1747 \nQ 353 2603 823 3093 \nQ 1294 3584 2113 3584 \nQ 2378 3584 2631 3529 \nQ 2884 3475 3122 3366 \nz\n\" transform=\"scale(0.015625)\"/>\n      <path id=\"DejaVuSans-6e\" d=\"M 3513 2113 \nL 3513 0 \nL 2938 0 \nL 2938 2094 \nQ 2938 2591 2744 2837 \nQ 2550 3084 2163 3084 \nQ 1697 3084 1428 2787 \nQ 1159 2491 1159 1978 \nL 1159 0 \nL 581 0 \nL 581 3500 \nL 1159 3500 \nL 1159 2956 \nQ 1366 3272 1645 3428 \nQ 1925 3584 2291 3584 \nQ 2894 3584 3203 3211 \nQ 3513 2838 3513 2113 \nz\n\" transform=\"scale(0.015625)\"/>\n      <path id=\"DejaVuSans-74\" d=\"M 1172 4494 \nL 1172 3500 \nL 2356 3500 \nL 2356 3053 \nL 1172 3053 \nL 1172 1153 \nQ 1172 725 1289 603 \nQ 1406 481 1766 481 \nL 2356 481 \nL 2356 0 \nL 1766 0 \nQ 1100 0 847 248 \nQ 594 497 594 1153 \nL 594 3053 \nL 172 3053 \nL 172 3500 \nL 594 3500 \nL 594 4494 \nL 1172 4494 \nz\n\" transform=\"scale(0.015625)\"/>\n      <path id=\"DejaVuSans-ed\" d=\"M 1325 5119 \nL 1947 5119 \nL 928 3944 \nL 450 3944 \nL 1325 5119 \nz\nM 603 3500 \nL 1178 3500 \nL 1178 0 \nL 603 0 \nL 603 3500 \nz\nM 891 3584 \nL 891 3584 \nz\n\" transform=\"scale(0.015625)\"/>\n     </defs>\n     <use xlink:href=\"#DejaVuSans-43\"/>\n     <use xlink:href=\"#DejaVuSans-6f\" x=\"69.824219\"/>\n     <use xlink:href=\"#DejaVuSans-6d\" x=\"131.005859\"/>\n     <use xlink:href=\"#DejaVuSans-70\" x=\"228.417969\"/>\n     <use xlink:href=\"#DejaVuSans-61\" x=\"291.894531\"/>\n     <use xlink:href=\"#DejaVuSans-72\" x=\"353.173828\"/>\n     <use xlink:href=\"#DejaVuSans-61\" x=\"394.287109\"/>\n     <use xlink:href=\"#DejaVuSans-e7\" x=\"455.566406\"/>\n     <use xlink:href=\"#DejaVuSans-e3\" x=\"510.546875\"/>\n     <use xlink:href=\"#DejaVuSans-6f\" x=\"571.826172\"/>\n     <use xlink:href=\"#DejaVuSans-20\" x=\"633.007812\"/>\n     <use xlink:href=\"#DejaVuSans-64\" x=\"664.794922\"/>\n     <use xlink:href=\"#DejaVuSans-61\" x=\"728.271484\"/>\n     <use xlink:href=\"#DejaVuSans-73\" x=\"789.550781\"/>\n     <use xlink:href=\"#DejaVuSans-20\" x=\"841.650391\"/>\n     <use xlink:href=\"#DejaVuSans-73\" x=\"873.4375\"/>\n     <use xlink:href=\"#DejaVuSans-69\" x=\"925.537109\"/>\n     <use xlink:href=\"#DejaVuSans-6d\" x=\"953.320312\"/>\n     <use xlink:href=\"#DejaVuSans-75\" x=\"1050.732422\"/>\n     <use xlink:href=\"#DejaVuSans-6c\" x=\"1114.111328\"/>\n     <use xlink:href=\"#DejaVuSans-61\" x=\"1141.894531\"/>\n     <use xlink:href=\"#DejaVuSans-e7\" x=\"1203.173828\"/>\n     <use xlink:href=\"#DejaVuSans-f5\" x=\"1258.154297\"/>\n     <use xlink:href=\"#DejaVuSans-65\" x=\"1319.335938\"/>\n     <use xlink:href=\"#DejaVuSans-73\" x=\"1380.859375\"/>\n     <use xlink:href=\"#DejaVuSans-20\" x=\"1432.958984\"/>\n     <use xlink:href=\"#DejaVuSans-63\" x=\"1464.746094\"/>\n     <use xlink:href=\"#DejaVuSans-6f\" x=\"1519.726562\"/>\n     <use xlink:href=\"#DejaVuSans-6e\" x=\"1580.908203\"/>\n     <use xlink:href=\"#DejaVuSans-74\" x=\"1644.287109\"/>\n     <use xlink:href=\"#DejaVuSans-ed\" x=\"1683.496094\"/>\n     <use xlink:href=\"#DejaVuSans-6e\" x=\"1711.279297\"/>\n     <use xlink:href=\"#DejaVuSans-75\" x=\"1774.658203\"/>\n     <use xlink:href=\"#DejaVuSans-61\" x=\"1838.037109\"/>\n     <use xlink:href=\"#DejaVuSans-20\" x=\"1899.316406\"/>\n     <use xlink:href=\"#DejaVuSans-65\" x=\"1931.103516\"/>\n     <use xlink:href=\"#DejaVuSans-20\" x=\"1992.626953\"/>\n     <use xlink:href=\"#DejaVuSans-64\" x=\"2024.414062\"/>\n     <use xlink:href=\"#DejaVuSans-69\" x=\"2087.890625\"/>\n     <use xlink:href=\"#DejaVuSans-73\" x=\"2115.673828\"/>\n     <use xlink:href=\"#DejaVuSans-63\" x=\"2167.773438\"/>\n     <use xlink:href=\"#DejaVuSans-72\" x=\"2222.753906\"/>\n     <use xlink:href=\"#DejaVuSans-65\" x=\"2261.617188\"/>\n     <use xlink:href=\"#DejaVuSans-74\" x=\"2323.140625\"/>\n     <use xlink:href=\"#DejaVuSans-61\" x=\"2362.349609\"/>\n    </g>\n   </g>\n  </g>\n </g>\n <defs>\n  <clipPath id=\"p4845021747\">\n   <rect x=\"30.103125\" y=\"22.798125\" width=\"357.12\" height=\"266.112\"/>\n  </clipPath>\n </defs>\n</svg>\n",
      "text/plain": [
       "<Figure size 640x480 with 1 Axes>"
      ]
     },
     "metadata": {},
     "output_type": "display_data"
    }
   ],
   "source": [
    "# Simulação\n",
    "plt.plot(t,y)\n",
    "plt.title('Comparação das simulações contínua e discreta')\n",
    "plt.step(td,yd)\n",
    "plt.xlabel('Tempo (seg)')\n",
    "plt.grid()\n",
    "print('O máximo sinal contínuo foi: ', max(y))\n",
    "print('O máximo sinal discreto foi: ', max(yd))"
   ]
  },
  {
   "attachments": {},
   "cell_type": "markdown",
   "metadata": {},
   "source": [
    "Observe que no analógico fomos bem, dentro das especificações.\n",
    "\n",
    "Note que o discreto pode às vezes parecer um pouco adiantado em relação ao contínuo, mas isso é apenas um problema gráfico de como o Python liga os pontos no gráfico. \n",
    "\n",
    "Se a perda no tempo de acodomodação for incômoda, podemos tentar fazer um ajuste fino no ganho do controlador, variando um pouco em torno do que foi calculado para ver se melhora. Para isso, basta ajustar o valor da variável \"ka\" na <a href='#ajuste'> célula que calcula a função de malha </a> e rodar a simulação novamente (sugerido uma redução ou aumento em torno de 10%). "
   ]
  },
  {
   "attachments": {},
   "cell_type": "markdown",
   "metadata": {},
   "source": [
    "Por fim, uma breve análise do sinal de controle"
   ]
  },
  {
   "cell_type": "code",
   "execution_count": 150,
   "metadata": {},
   "outputs": [
    {
     "name": "stdout",
     "output_type": "stream",
     "text": [
      "O máximo sinal de controle foi:  0.06945513544669092\n"
     ]
    },
    {
     "data": {
      "image/png": "[encoded data removed]",
      "image/svg+xml": "<?xml version=\"1.0\" encoding=\"utf-8\" standalone=\"no\"?>\n<!DOCTYPE svg PUBLIC \"-//W3C//DTD SVG 1.1//EN\"\n  \"http://www.w3.org/Graphics/SVG/1.1/DTD/svg11.dtd\">\n<svg xmlns:xlink=\"http://www.w3.org/1999/xlink\" width=\"400.785625pt\" height=\"312.30825pt\" viewBox=\"0 0 400.785625 312.30825\" xmlns=\"http://www.w3.org/2000/svg\" version=\"1.1\">\n <metadata>\n  <rdf:RDF xmlns:dc=\"http://purl.org/dc/elements/1.1/\" xmlns:cc=\"http://creativecommons.org/ns#\" xmlns:rdf=\"http://www.w3.org/1999/02/22-rdf-syntax-ns#\">\n   <cc:Work>\n    <dc:type rdf:resource=\"http://purl.org/dc/dcmitype/StillImage\"/>\n    <dc:date>2022-12-30T10:02:55.484725</dc:date>\n    <dc:format>image/svg+xml</dc:format>\n    <dc:creator>\n     <cc:Agent>\n      <dc:title>Matplotlib v3.5.1, https://matplotlib.org/</dc:title>\n     </cc:Agent>\n    </dc:creator>\n   </cc:Work>\n  </rdf:RDF>\n </metadata>\n <defs>\n  <style type=\"text/css\">*{stroke-linejoin: round; stroke-linecap: butt}</style>\n </defs>\n <g id=\"figure_1\">\n  <g id=\"patch_1\">\n   <path d=\"M 0 312.30825 \nL 400.785625 312.30825 \nL 400.785625 0 \nL 0 0 \nz\n\" style=\"fill: #ffffff\"/>\n  </g>\n  <g id=\"axes_1\">\n   <g id=\"patch_2\">\n    <path d=\"M 36.465625 288.430125 \nL 393.585625 288.430125 \nL 393.585625 22.318125 \nL 36.465625 22.318125 \nz\n\" style=\"fill: #ffffff\"/>\n   </g>\n   <g id=\"matplotlib.axis_1\">\n    <g id=\"xtick_1\">\n     <g id=\"line2d_1\">\n      <path d=\"M 52.698352 288.430125 \nL 52.698352 22.318125 \n\" clip-path=\"url(#p430d5a451a)\" style=\"fill: none; stroke: #b0b0b0; stroke-width: 0.8; stroke-linecap: square\"/>\n     </g>\n     <g id=\"line2d_2\">\n      <defs>\n       <path id=\"m8a247e95a2\" d=\"M 0 0 \nL 0 3.5 \n\" style=\"stroke: #000000; stroke-width: 0.8\"/>\n      </defs>\n      <g>\n       <use xlink:href=\"#m8a247e95a2\" x=\"52.698352\" y=\"288.430125\" style=\"stroke: #000000; stroke-width: 0.8\"/>\n      </g>\n     </g>\n     <g id=\"text_1\">\n      <!-- 0.00 -->\n      <g transform=\"translate(41.56554 303.028562)scale(0.1 -0.1)\">\n       <defs>\n        <path id=\"DejaVuSans-30\" d=\"M 2034 4250 \nQ 1547 4250 1301 3770 \nQ 1056 3291 1056 2328 \nQ 1056 1369 1301 889 \nQ 1547 409 2034 409 \nQ 2525 409 2770 889 \nQ 3016 1369 3016 2328 \nQ 3016 3291 2770 3770 \nQ 2525 4250 2034 4250 \nz\nM 2034 4750 \nQ 2819 4750 3233 4129 \nQ 3647 3509 3647 2328 \nQ 3647 1150 3233 529 \nQ 2819 -91 2034 -91 \nQ 1250 -91 836 529 \nQ 422 1150 422 2328 \nQ 422 3509 836 4129 \nQ 1250 4750 2034 4750 \nz\n\" transform=\"scale(0.015625)\"/>\n        <path id=\"DejaVuSans-2e\" d=\"M 684 794 \nL 1344 794 \nL 1344 0 \nL 684 0 \nL 684 794 \nz\n\" transform=\"scale(0.015625)\"/>\n       </defs>\n       <use xlink:href=\"#DejaVuSans-30\"/>\n       <use xlink:href=\"#DejaVuSans-2e\" x=\"63.623047\"/>\n       <use xlink:href=\"#DejaVuSans-30\" x=\"95.410156\"/>\n       <use xlink:href=\"#DejaVuSans-30\" x=\"159.033203\"/>\n      </g>\n     </g>\n    </g>\n    <g id=\"xtick_2\">\n     <g id=\"line2d_3\">\n      <path d=\"M 93.199169 288.430125 \nL 93.199169 22.318125 \n\" clip-path=\"url(#p430d5a451a)\" style=\"fill: none; stroke: #b0b0b0; stroke-width: 0.8; stroke-linecap: square\"/>\n     </g>\n     <g id=\"line2d_4\">\n      <g>\n       <use xlink:href=\"#m8a247e95a2\" x=\"93.199169\" y=\"288.430125\" style=\"stroke: #000000; stroke-width: 0.8\"/>\n      </g>\n     </g>\n     <g id=\"text_2\">\n      <!-- 0.25 -->\n      <g transform=\"translate(82.066356 303.028562)scale(0.1 -0.1)\">\n       <defs>\n        <path id=\"DejaVuSans-32\" d=\"M 1228 531 \nL 3431 531 \nL 3431 0 \nL 469 0 \nL 469 531 \nQ 828 903 1448 1529 \nQ 2069 2156 2228 2338 \nQ 2531 2678 2651 2914 \nQ 2772 3150 2772 3378 \nQ 2772 3750 2511 3984 \nQ 2250 4219 1831 4219 \nQ 1534 4219 1204 4116 \nQ 875 4013 500 3803 \nL 500 4441 \nQ 881 4594 1212 4672 \nQ 1544 4750 1819 4750 \nQ 2544 4750 2975 4387 \nQ 3406 4025 3406 3419 \nQ 3406 3131 3298 2873 \nQ 3191 2616 2906 2266 \nQ 2828 2175 2409 1742 \nQ 1991 1309 1228 531 \nz\n\" transform=\"scale(0.015625)\"/>\n        <path id=\"DejaVuSans-35\" d=\"M 691 4666 \nL 3169 4666 \nL 3169 4134 \nL 1269 4134 \nL 1269 2991 \nQ 1406 3038 1543 3061 \nQ 1681 3084 1819 3084 \nQ 2600 3084 3056 2656 \nQ 3513 2228 3513 1497 \nQ 3513 744 3044 326 \nQ 2575 -91 1722 -91 \nQ 1428 -91 1123 -41 \nQ 819 9 494 109 \nL 494 744 \nQ 775 591 1075 516 \nQ 1375 441 1709 441 \nQ 2250 441 2565 725 \nQ 2881 1009 2881 1497 \nQ 2881 1984 2565 2268 \nQ 2250 2553 1709 2553 \nQ 1456 2553 1204 2497 \nQ 953 2441 691 2322 \nL 691 4666 \nz\n\" transform=\"scale(0.015625)\"/>\n       </defs>\n       <use xlink:href=\"#DejaVuSans-30\"/>\n       <use xlink:href=\"#DejaVuSans-2e\" x=\"63.623047\"/>\n       <use xlink:href=\"#DejaVuSans-32\" x=\"95.410156\"/>\n       <use xlink:href=\"#DejaVuSans-35\" x=\"159.033203\"/>\n      </g>\n     </g>\n    </g>\n    <g id=\"xtick_3\">\n     <g id=\"line2d_5\">\n      <path d=\"M 133.699985 288.430125 \nL 133.699985 22.318125 \n\" clip-path=\"url(#p430d5a451a)\" style=\"fill: none; stroke: #b0b0b0; stroke-width: 0.8; stroke-linecap: square\"/>\n     </g>\n     <g id=\"line2d_6\">\n      <g>\n       <use xlink:href=\"#m8a247e95a2\" x=\"133.699985\" y=\"288.430125\" style=\"stroke: #000000; stroke-width: 0.8\"/>\n      </g>\n     </g>\n     <g id=\"text_3\">\n      <!-- 0.50 -->\n      <g transform=\"translate(122.567173 303.028562)scale(0.1 -0.1)\">\n       <use xlink:href=\"#DejaVuSans-30\"/>\n       <use xlink:href=\"#DejaVuSans-2e\" x=\"63.623047\"/>\n       <use xlink:href=\"#DejaVuSans-35\" x=\"95.410156\"/>\n       <use xlink:href=\"#DejaVuSans-30\" x=\"159.033203\"/>\n      </g>\n     </g>\n    </g>\n    <g id=\"xtick_4\">\n     <g id=\"line2d_7\">\n      <path d=\"M 174.200802 288.430125 \nL 174.200802 22.318125 \n\" clip-path=\"url(#p430d5a451a)\" style=\"fill: none; stroke: #b0b0b0; stroke-width: 0.8; stroke-linecap: square\"/>\n     </g>\n     <g id=\"line2d_8\">\n      <g>\n       <use xlink:href=\"#m8a247e95a2\" x=\"174.200802\" y=\"288.430125\" style=\"stroke: #000000; stroke-width: 0.8\"/>\n      </g>\n     </g>\n     <g id=\"text_4\">\n      <!-- 0.75 -->\n      <g transform=\"translate(163.067989 303.028562)scale(0.1 -0.1)\">\n       <defs>\n        <path id=\"DejaVuSans-37\" d=\"M 525 4666 \nL 3525 4666 \nL 3525 4397 \nL 1831 0 \nL 1172 0 \nL 2766 4134 \nL 525 4134 \nL 525 4666 \nz\n\" transform=\"scale(0.015625)\"/>\n       </defs>\n       <use xlink:href=\"#DejaVuSans-30\"/>\n       <use xlink:href=\"#DejaVuSans-2e\" x=\"63.623047\"/>\n       <use xlink:href=\"#DejaVuSans-37\" x=\"95.410156\"/>\n       <use xlink:href=\"#DejaVuSans-35\" x=\"159.033203\"/>\n      </g>\n     </g>\n    </g>\n    <g id=\"xtick_5\">\n     <g id=\"line2d_9\">\n      <path d=\"M 214.701618 288.430125 \nL 214.701618 22.318125 \n\" clip-path=\"url(#p430d5a451a)\" style=\"fill: none; stroke: #b0b0b0; stroke-width: 0.8; stroke-linecap: square\"/>\n     </g>\n     <g id=\"line2d_10\">\n      <g>\n       <use xlink:href=\"#m8a247e95a2\" x=\"214.701618\" y=\"288.430125\" style=\"stroke: #000000; stroke-width: 0.8\"/>\n      </g>\n     </g>\n     <g id=\"text_5\">\n      <!-- 1.00 -->\n      <g transform=\"translate(203.568806 303.028562)scale(0.1 -0.1)\">\n       <defs>\n        <path id=\"DejaVuSans-31\" d=\"M 794 531 \nL 1825 531 \nL 1825 4091 \nL 703 3866 \nL 703 4441 \nL 1819 4666 \nL 2450 4666 \nL 2450 531 \nL 3481 531 \nL 3481 0 \nL 794 0 \nL 794 531 \nz\n\" transform=\"scale(0.015625)\"/>\n       </defs>\n       <use xlink:href=\"#DejaVuSans-31\"/>\n       <use xlink:href=\"#DejaVuSans-2e\" x=\"63.623047\"/>\n       <use xlink:href=\"#DejaVuSans-30\" x=\"95.410156\"/>\n       <use xlink:href=\"#DejaVuSans-30\" x=\"159.033203\"/>\n      </g>\n     </g>\n    </g>\n    <g id=\"xtick_6\">\n     <g id=\"line2d_11\">\n      <path d=\"M 255.202435 288.430125 \nL 255.202435 22.318125 \n\" clip-path=\"url(#p430d5a451a)\" style=\"fill: none; stroke: #b0b0b0; stroke-width: 0.8; stroke-linecap: square\"/>\n     </g>\n     <g id=\"line2d_12\">\n      <g>\n       <use xlink:href=\"#m8a247e95a2\" x=\"255.202435\" y=\"288.430125\" style=\"stroke: #000000; stroke-width: 0.8\"/>\n      </g>\n     </g>\n     <g id=\"text_6\">\n      <!-- 1.25 -->\n      <g transform=\"translate(244.069623 303.028562)scale(0.1 -0.1)\">\n       <use xlink:href=\"#DejaVuSans-31\"/>\n       <use xlink:href=\"#DejaVuSans-2e\" x=\"63.623047\"/>\n       <use xlink:href=\"#DejaVuSans-32\" x=\"95.410156\"/>\n       <use xlink:href=\"#DejaVuSans-35\" x=\"159.033203\"/>\n      </g>\n     </g>\n    </g>\n    <g id=\"xtick_7\">\n     <g id=\"line2d_13\">\n      <path d=\"M 295.703252 288.430125 \nL 295.703252 22.318125 \n\" clip-path=\"url(#p430d5a451a)\" style=\"fill: none; stroke: #b0b0b0; stroke-width: 0.8; stroke-linecap: square\"/>\n     </g>\n     <g id=\"line2d_14\">\n      <g>\n       <use xlink:href=\"#m8a247e95a2\" x=\"295.703252\" y=\"288.430125\" style=\"stroke: #000000; stroke-width: 0.8\"/>\n      </g>\n     </g>\n     <g id=\"text_7\">\n      <!-- 1.50 -->\n      <g transform=\"translate(284.570439 303.028562)scale(0.1 -0.1)\">\n       <use xlink:href=\"#DejaVuSans-31\"/>\n       <use xlink:href=\"#DejaVuSans-2e\" x=\"63.623047\"/>\n       <use xlink:href=\"#DejaVuSans-35\" x=\"95.410156\"/>\n       <use xlink:href=\"#DejaVuSans-30\" x=\"159.033203\"/>\n      </g>\n     </g>\n    </g>\n    <g id=\"xtick_8\">\n     <g id=\"line2d_15\">\n      <path d=\"M 336.204068 288.430125 \nL 336.204068 22.318125 \n\" clip-path=\"url(#p430d5a451a)\" style=\"fill: none; stroke: #b0b0b0; stroke-width: 0.8; stroke-linecap: square\"/>\n     </g>\n     <g id=\"line2d_16\">\n      <g>\n       <use xlink:href=\"#m8a247e95a2\" x=\"336.204068\" y=\"288.430125\" style=\"stroke: #000000; stroke-width: 0.8\"/>\n      </g>\n     </g>\n     <g id=\"text_8\">\n      <!-- 1.75 -->\n      <g transform=\"translate(325.071256 303.028562)scale(0.1 -0.1)\">\n       <use xlink:href=\"#DejaVuSans-31\"/>\n       <use xlink:href=\"#DejaVuSans-2e\" x=\"63.623047\"/>\n       <use xlink:href=\"#DejaVuSans-37\" x=\"95.410156\"/>\n       <use xlink:href=\"#DejaVuSans-35\" x=\"159.033203\"/>\n      </g>\n     </g>\n    </g>\n    <g id=\"xtick_9\">\n     <g id=\"line2d_17\">\n      <path d=\"M 376.704885 288.430125 \nL 376.704885 22.318125 \n\" clip-path=\"url(#p430d5a451a)\" style=\"fill: none; stroke: #b0b0b0; stroke-width: 0.8; stroke-linecap: square\"/>\n     </g>\n     <g id=\"line2d_18\">\n      <g>\n       <use xlink:href=\"#m8a247e95a2\" x=\"376.704885\" y=\"288.430125\" style=\"stroke: #000000; stroke-width: 0.8\"/>\n      </g>\n     </g>\n     <g id=\"text_9\">\n      <!-- 2.00 -->\n      <g transform=\"translate(365.572072 303.028562)scale(0.1 -0.1)\">\n       <use xlink:href=\"#DejaVuSans-32\"/>\n       <use xlink:href=\"#DejaVuSans-2e\" x=\"63.623047\"/>\n       <use xlink:href=\"#DejaVuSans-30\" x=\"95.410156\"/>\n       <use xlink:href=\"#DejaVuSans-30\" x=\"159.033203\"/>\n      </g>\n     </g>\n    </g>\n   </g>\n   <g id=\"matplotlib.axis_2\">\n    <g id=\"ytick_1\">\n     <g id=\"line2d_19\">\n      <path d=\"M 36.465625 276.992297 \nL 393.585625 276.992297 \n\" clip-path=\"url(#p430d5a451a)\" style=\"fill: none; stroke: #b0b0b0; stroke-width: 0.8; stroke-linecap: square\"/>\n     </g>\n     <g id=\"line2d_20\">\n      <defs>\n       <path id=\"m2d9112fe41\" d=\"M 0 0 \nL -3.5 0 \n\" style=\"stroke: #000000; stroke-width: 0.8\"/>\n      </defs>\n      <g>\n       <use xlink:href=\"#m2d9112fe41\" x=\"36.465625\" y=\"276.992297\" style=\"stroke: #000000; stroke-width: 0.8\"/>\n      </g>\n     </g>\n     <g id=\"text_10\">\n      <!-- 0.00 -->\n      <g transform=\"translate(7.2 280.791516)scale(0.1 -0.1)\">\n       <use xlink:href=\"#DejaVuSans-30\"/>\n       <use xlink:href=\"#DejaVuSans-2e\" x=\"63.623047\"/>\n       <use xlink:href=\"#DejaVuSans-30\" x=\"95.410156\"/>\n       <use xlink:href=\"#DejaVuSans-30\" x=\"159.033203\"/>\n      </g>\n     </g>\n    </g>\n    <g id=\"ytick_2\">\n     <g id=\"line2d_21\">\n      <path d=\"M 36.465625 242.066417 \nL 393.585625 242.066417 \n\" clip-path=\"url(#p430d5a451a)\" style=\"fill: none; stroke: #b0b0b0; stroke-width: 0.8; stroke-linecap: square\"/>\n     </g>\n     <g id=\"line2d_22\">\n      <g>\n       <use xlink:href=\"#m2d9112fe41\" x=\"36.465625\" y=\"242.066417\" style=\"stroke: #000000; stroke-width: 0.8\"/>\n      </g>\n     </g>\n     <g id=\"text_11\">\n      <!-- 0.01 -->\n      <g transform=\"translate(7.2 245.865636)scale(0.1 -0.1)\">\n       <use xlink:href=\"#DejaVuSans-30\"/>\n       <use xlink:href=\"#DejaVuSans-2e\" x=\"63.623047\"/>\n       <use xlink:href=\"#DejaVuSans-30\" x=\"95.410156\"/>\n       <use xlink:href=\"#DejaVuSans-31\" x=\"159.033203\"/>\n      </g>\n     </g>\n    </g>\n    <g id=\"ytick_3\">\n     <g id=\"line2d_23\">\n      <path d=\"M 36.465625 207.140537 \nL 393.585625 207.140537 \n\" clip-path=\"url(#p430d5a451a)\" style=\"fill: none; stroke: #b0b0b0; stroke-width: 0.8; stroke-linecap: square\"/>\n     </g>\n     <g id=\"line2d_24\">\n      <g>\n       <use xlink:href=\"#m2d9112fe41\" x=\"36.465625\" y=\"207.140537\" style=\"stroke: #000000; stroke-width: 0.8\"/>\n      </g>\n     </g>\n     <g id=\"text_12\">\n      <!-- 0.02 -->\n      <g transform=\"translate(7.2 210.939756)scale(0.1 -0.1)\">\n       <use xlink:href=\"#DejaVuSans-30\"/>\n       <use xlink:href=\"#DejaVuSans-2e\" x=\"63.623047\"/>\n       <use xlink:href=\"#DejaVuSans-30\" x=\"95.410156\"/>\n       <use xlink:href=\"#DejaVuSans-32\" x=\"159.033203\"/>\n      </g>\n     </g>\n    </g>\n    <g id=\"ytick_4\">\n     <g id=\"line2d_25\">\n      <path d=\"M 36.465625 172.214657 \nL 393.585625 172.214657 \n\" clip-path=\"url(#p430d5a451a)\" style=\"fill: none; stroke: #b0b0b0; stroke-width: 0.8; stroke-linecap: square\"/>\n     </g>\n     <g id=\"line2d_26\">\n      <g>\n       <use xlink:href=\"#m2d9112fe41\" x=\"36.465625\" y=\"172.214657\" style=\"stroke: #000000; stroke-width: 0.8\"/>\n      </g>\n     </g>\n     <g id=\"text_13\">\n      <!-- 0.03 -->\n      <g transform=\"translate(7.2 176.013876)scale(0.1 -0.1)\">\n       <defs>\n        <path id=\"DejaVuSans-33\" d=\"M 2597 2516 \nQ 3050 2419 3304 2112 \nQ 3559 1806 3559 1356 \nQ 3559 666 3084 287 \nQ 2609 -91 1734 -91 \nQ 1441 -91 1130 -33 \nQ 819 25 488 141 \nL 488 750 \nQ 750 597 1062 519 \nQ 1375 441 1716 441 \nQ 2309 441 2620 675 \nQ 2931 909 2931 1356 \nQ 2931 1769 2642 2001 \nQ 2353 2234 1838 2234 \nL 1294 2234 \nL 1294 2753 \nL 1863 2753 \nQ 2328 2753 2575 2939 \nQ 2822 3125 2822 3475 \nQ 2822 3834 2567 4026 \nQ 2313 4219 1838 4219 \nQ 1578 4219 1281 4162 \nQ 984 4106 628 3988 \nL 628 4550 \nQ 988 4650 1302 4700 \nQ 1616 4750 1894 4750 \nQ 2613 4750 3031 4423 \nQ 3450 4097 3450 3541 \nQ 3450 3153 3228 2886 \nQ 3006 2619 2597 2516 \nz\n\" transform=\"scale(0.015625)\"/>\n       </defs>\n       <use xlink:href=\"#DejaVuSans-30\"/>\n       <use xlink:href=\"#DejaVuSans-2e\" x=\"63.623047\"/>\n       <use xlink:href=\"#DejaVuSans-30\" x=\"95.410156\"/>\n       <use xlink:href=\"#DejaVuSans-33\" x=\"159.033203\"/>\n      </g>\n     </g>\n    </g>\n    <g id=\"ytick_5\">\n     <g id=\"line2d_27\">\n      <path d=\"M 36.465625 137.288777 \nL 393.585625 137.288777 \n\" clip-path=\"url(#p430d5a451a)\" style=\"fill: none; stroke: #b0b0b0; stroke-width: 0.8; stroke-linecap: square\"/>\n     </g>\n     <g id=\"line2d_28\">\n      <g>\n       <use xlink:href=\"#m2d9112fe41\" x=\"36.465625\" y=\"137.288777\" style=\"stroke: #000000; stroke-width: 0.8\"/>\n      </g>\n     </g>\n     <g id=\"text_14\">\n      <!-- 0.04 -->\n      <g transform=\"translate(7.2 141.087996)scale(0.1 -0.1)\">\n       <defs>\n        <path id=\"DejaVuSans-34\" d=\"M 2419 4116 \nL 825 1625 \nL 2419 1625 \nL 2419 4116 \nz\nM 2253 4666 \nL 3047 4666 \nL 3047 1625 \nL 3713 1625 \nL 3713 1100 \nL 3047 1100 \nL 3047 0 \nL 2419 0 \nL 2419 1100 \nL 313 1100 \nL 313 1709 \nL 2253 4666 \nz\n\" transform=\"scale(0.015625)\"/>\n       </defs>\n       <use xlink:href=\"#DejaVuSans-30\"/>\n       <use xlink:href=\"#DejaVuSans-2e\" x=\"63.623047\"/>\n       <use xlink:href=\"#DejaVuSans-30\" x=\"95.410156\"/>\n       <use xlink:href=\"#DejaVuSans-34\" x=\"159.033203\"/>\n      </g>\n     </g>\n    </g>\n    <g id=\"ytick_6\">\n     <g id=\"line2d_29\">\n      <path d=\"M 36.465625 102.362898 \nL 393.585625 102.362898 \n\" clip-path=\"url(#p430d5a451a)\" style=\"fill: none; stroke: #b0b0b0; stroke-width: 0.8; stroke-linecap: square\"/>\n     </g>\n     <g id=\"line2d_30\">\n      <g>\n       <use xlink:href=\"#m2d9112fe41\" x=\"36.465625\" y=\"102.362898\" style=\"stroke: #000000; stroke-width: 0.8\"/>\n      </g>\n     </g>\n     <g id=\"text_15\">\n      <!-- 0.05 -->\n      <g transform=\"translate(7.2 106.162116)scale(0.1 -0.1)\">\n       <use xlink:href=\"#DejaVuSans-30\"/>\n       <use xlink:href=\"#DejaVuSans-2e\" x=\"63.623047\"/>\n       <use xlink:href=\"#DejaVuSans-30\" x=\"95.410156\"/>\n       <use xlink:href=\"#DejaVuSans-35\" x=\"159.033203\"/>\n      </g>\n     </g>\n    </g>\n    <g id=\"ytick_7\">\n     <g id=\"line2d_31\">\n      <path d=\"M 36.465625 67.437018 \nL 393.585625 67.437018 \n\" clip-path=\"url(#p430d5a451a)\" style=\"fill: none; stroke: #b0b0b0; stroke-width: 0.8; stroke-linecap: square\"/>\n     </g>\n     <g id=\"line2d_32\">\n      <g>\n       <use xlink:href=\"#m2d9112fe41\" x=\"36.465625\" y=\"67.437018\" style=\"stroke: #000000; stroke-width: 0.8\"/>\n      </g>\n     </g>\n     <g id=\"text_16\">\n      <!-- 0.06 -->\n      <g transform=\"translate(7.2 71.236236)scale(0.1 -0.1)\">\n       <defs>\n        <path id=\"DejaVuSans-36\" d=\"M 2113 2584 \nQ 1688 2584 1439 2293 \nQ 1191 2003 1191 1497 \nQ 1191 994 1439 701 \nQ 1688 409 2113 409 \nQ 2538 409 2786 701 \nQ 3034 994 3034 1497 \nQ 3034 2003 2786 2293 \nQ 2538 2584 2113 2584 \nz\nM 3366 4563 \nL 3366 3988 \nQ 3128 4100 2886 4159 \nQ 2644 4219 2406 4219 \nQ 1781 4219 1451 3797 \nQ 1122 3375 1075 2522 \nQ 1259 2794 1537 2939 \nQ 1816 3084 2150 3084 \nQ 2853 3084 3261 2657 \nQ 3669 2231 3669 1497 \nQ 3669 778 3244 343 \nQ 2819 -91 2113 -91 \nQ 1303 -91 875 529 \nQ 447 1150 447 2328 \nQ 447 3434 972 4092 \nQ 1497 4750 2381 4750 \nQ 2619 4750 2861 4703 \nQ 3103 4656 3366 4563 \nz\n\" transform=\"scale(0.015625)\"/>\n       </defs>\n       <use xlink:href=\"#DejaVuSans-30\"/>\n       <use xlink:href=\"#DejaVuSans-2e\" x=\"63.623047\"/>\n       <use xlink:href=\"#DejaVuSans-30\" x=\"95.410156\"/>\n       <use xlink:href=\"#DejaVuSans-36\" x=\"159.033203\"/>\n      </g>\n     </g>\n    </g>\n    <g id=\"ytick_8\">\n     <g id=\"line2d_33\">\n      <path d=\"M 36.465625 32.511138 \nL 393.585625 32.511138 \n\" clip-path=\"url(#p430d5a451a)\" style=\"fill: none; stroke: #b0b0b0; stroke-width: 0.8; stroke-linecap: square\"/>\n     </g>\n     <g id=\"line2d_34\">\n      <g>\n       <use xlink:href=\"#m2d9112fe41\" x=\"36.465625\" y=\"32.511138\" style=\"stroke: #000000; stroke-width: 0.8\"/>\n      </g>\n     </g>\n     <g id=\"text_17\">\n      <!-- 0.07 -->\n      <g transform=\"translate(7.2 36.310356)scale(0.1 -0.1)\">\n       <use xlink:href=\"#DejaVuSans-30\"/>\n       <use xlink:href=\"#DejaVuSans-2e\" x=\"63.623047\"/>\n       <use xlink:href=\"#DejaVuSans-30\" x=\"95.410156\"/>\n       <use xlink:href=\"#DejaVuSans-37\" x=\"159.033203\"/>\n      </g>\n     </g>\n    </g>\n   </g>\n   <g id=\"line2d_35\">\n    <path d=\"M 52.698352 276.334125 \nL 52.698352 273.808294 \nL 54.642391 273.808294 \nL 54.642391 269.065152 \nL 56.586431 269.065152 \nL 56.586431 262.485321 \nL 58.53047 262.485321 \nL 58.53047 254.406621 \nL 60.474509 254.406621 \nL 60.474509 245.128902 \nL 62.418548 245.128902 \nL 62.418548 234.918158 \nL 64.362587 234.918158 \nL 64.362587 224.010069 \nL 66.306627 224.010069 \nL 66.306627 212.613053 \nL 68.250666 212.613053 \nL 68.250666 200.910911 \nL 70.194705 200.910911 \nL 70.194705 189.065151 \nL 72.138744 189.065151 \nL 72.138744 177.217024 \nL 74.082783 177.217024 \nL 74.082783 165.489341 \nL 76.026823 165.489341 \nL 76.026823 153.988088 \nL 77.970862 153.988088 \nL 77.970862 142.803889 \nL 79.914901 142.803889 \nL 79.914901 132.013336 \nL 81.85894 132.013336 \nL 81.85894 121.680198 \nL 83.802979 121.680198 \nL 83.802979 111.856544 \nL 85.747019 111.856544 \nL 85.747019 102.583774 \nL 87.691058 102.583774 \nL 87.691058 93.893584 \nL 89.635097 93.893584 \nL 89.635097 85.808868 \nL 91.579136 85.808868 \nL 91.579136 78.344558 \nL 93.523175 78.344558 \nL 93.523175 71.508422 \nL 95.467215 71.508422 \nL 95.467215 65.301805 \nL 97.411254 65.301805 \nL 97.411254 59.720338 \nL 99.355293 59.720338 \nL 99.355293 54.754595 \nL 101.299332 54.754595 \nL 101.299332 50.390717 \nL 103.243371 50.390717 \nL 103.243371 46.611004 \nL 105.187411 46.611004 \nL 105.187411 43.394457 \nL 107.13145 43.394457 \nL 107.13145 40.717298 \nL 109.075489 40.717298 \nL 109.075489 38.553451 \nL 111.019528 38.553451 \nL 111.019528 36.874991 \nL 112.963567 36.874991 \nL 112.963567 35.652556 \nL 114.907606 35.652556 \nL 114.907606 34.855735 \nL 116.851646 34.855735 \nL 116.851646 34.453419 \nL 120.739724 34.414125 \nL 120.739724 34.70629 \nL 122.683763 34.70629 \nL 122.683763 35.298534 \nL 124.627802 35.298534 \nL 124.627802 36.1599 \nL 126.571842 36.1599 \nL 126.571842 37.260066 \nL 128.515881 37.260066 \nL 128.515881 38.569526 \nL 130.45992 38.569526 \nL 130.45992 40.05976 \nL 132.403959 40.05976 \nL 132.403959 41.703362 \nL 134.347998 41.703362 \nL 134.347998 43.474166 \nL 136.292038 43.474166 \nL 136.292038 45.347335 \nL 138.236077 45.347335 \nL 138.236077 47.29944 \nL 140.180116 47.29944 \nL 140.180116 49.308519 \nL 142.124155 49.308519 \nL 142.124155 51.354114 \nL 144.068194 51.354114 \nL 144.068194 53.417301 \nL 146.012234 53.417301 \nL 146.012234 55.480697 \nL 147.956273 55.480697 \nL 147.956273 57.528459 \nL 149.900312 57.528459 \nL 149.900312 59.546272 \nL 151.844351 59.546272 \nL 151.844351 61.521322 \nL 153.78839 61.521322 \nL 153.78839 63.442259 \nL 155.73243 63.442259 \nL 155.73243 65.299161 \nL 157.676469 65.299161 \nL 157.676469 67.083479 \nL 159.620508 67.083479 \nL 159.620508 68.78798 \nL 161.564547 68.78798 \nL 161.564547 70.406689 \nL 163.508586 70.406689 \nL 163.508586 71.934822 \nL 165.452626 71.934822 \nL 165.452626 73.368716 \nL 167.396665 73.368716 \nL 167.396665 74.705758 \nL 169.340704 74.705758 \nL 169.340704 75.944312 \nL 171.284743 75.944312 \nL 171.284743 77.083645 \nL 173.228782 77.083645 \nL 173.228782 78.123851 \nL 175.172822 78.123851 \nL 175.172822 79.065776 \nL 177.116861 79.065776 \nL 177.116861 79.910948 \nL 179.0609 79.910948 \nL 179.0609 80.6615 \nL 181.004939 80.6615 \nL 181.004939 81.320106 \nL 182.948978 81.320106 \nL 182.948978 81.889903 \nL 184.893017 81.889903 \nL 184.893017 82.374435 \nL 186.837057 82.374435 \nL 186.837057 82.777583 \nL 188.781096 82.777583 \nL 188.781096 83.103509 \nL 190.725135 83.103509 \nL 190.725135 83.356596 \nL 192.669174 83.356596 \nL 192.669174 83.541397 \nL 194.613213 83.541397 \nL 194.613213 83.662584 \nL 204.333409 83.606282 \nL 204.333409 83.480581 \nL 206.277449 83.480581 \nL 206.277449 83.319438 \nL 208.221488 83.319438 \nL 208.221488 83.127256 \nL 210.165527 83.127256 \nL 210.165527 82.908282 \nL 212.109566 82.908282 \nL 212.109566 82.666592 \nL 214.053605 82.666592 \nL 214.053605 82.406071 \nL 215.997645 82.406071 \nL 215.997645 82.130403 \nL 217.941684 82.130403 \nL 217.941684 81.84306 \nL 219.885723 81.84306 \nL 219.885723 81.547294 \nL 221.829762 81.547294 \nL 221.829762 81.246132 \nL 223.773801 81.246132 \nL 223.773801 80.942371 \nL 225.717841 80.942371 \nL 225.717841 80.63858 \nL 227.66188 80.63858 \nL 227.66188 80.337099 \nL 229.605919 80.337099 \nL 229.605919 80.04004 \nL 231.549958 80.04004 \nL 231.549958 79.749293 \nL 233.493997 79.749293 \nL 233.493997 79.466533 \nL 235.438037 79.466533 \nL 235.438037 79.193221 \nL 237.382076 79.193221 \nL 237.382076 78.930617 \nL 239.326115 78.930617 \nL 239.326115 78.679785 \nL 241.270154 78.679785 \nL 241.270154 78.441604 \nL 243.214193 78.441604 \nL 243.214193 78.216778 \nL 245.158233 78.216778 \nL 245.158233 78.005845 \nL 247.102272 78.005845 \nL 247.102272 77.809187 \nL 249.046311 77.809187 \nL 249.046311 77.627044 \nL 250.99035 77.627044 \nL 250.99035 77.459522 \nL 252.934389 77.459522 \nL 252.934389 77.306604 \nL 254.878428 77.306604 \nL 254.878428 77.168164 \nL 256.822468 77.168164 \nL 256.822468 77.043976 \nL 260.710546 76.933722 \nL 260.710546 76.837008 \nL 264.598624 76.75337 \nL 264.598624 76.682284 \nL 270.430742 76.575436 \nL 270.430742 76.538413 \nL 293.759212 76.642011 \nL 293.759212 76.680483 \nL 299.59133 76.763571 \nL 299.59133 76.807199 \nL 305.423448 76.896393 \nL 305.423448 76.941171 \nL 311.255565 77.029369 \nL 311.255565 77.072201 \nL 317.087683 77.154099 \nL 317.087683 77.192765 \nL 324.863839 77.297841 \nL 324.863839 77.328879 \nL 334.584035 77.431727 \nL 334.584035 77.452078 \nL 377.352898 77.517288 \nL 377.352898 77.517288 \n\" clip-path=\"url(#p430d5a451a)\" style=\"fill: none; stroke: #1f77b4; stroke-width: 1.5; stroke-linecap: square\"/>\n   </g>\n   <g id=\"patch_3\">\n    <path d=\"M 36.465625 288.430125 \nL 36.465625 22.318125 \n\" style=\"fill: none; stroke: #000000; stroke-width: 0.8; stroke-linejoin: miter; stroke-linecap: square\"/>\n   </g>\n   <g id=\"patch_4\">\n    <path d=\"M 393.585625 288.430125 \nL 393.585625 22.318125 \n\" style=\"fill: none; stroke: #000000; stroke-width: 0.8; stroke-linejoin: miter; stroke-linecap: square\"/>\n   </g>\n   <g id=\"patch_5\">\n    <path d=\"M 36.465625 288.430125 \nL 393.585625 288.430125 \n\" style=\"fill: none; stroke: #000000; stroke-width: 0.8; stroke-linejoin: miter; stroke-linecap: square\"/>\n   </g>\n   <g id=\"patch_6\">\n    <path d=\"M 36.465625 22.318125 \nL 393.585625 22.318125 \n\" style=\"fill: none; stroke: #000000; stroke-width: 0.8; stroke-linejoin: miter; stroke-linecap: square\"/>\n   </g>\n   <g id=\"text_18\">\n    <!-- Sinal de controle (discreto) -->\n    <g transform=\"translate(134.065938 16.318125)scale(0.12 -0.12)\">\n     <defs>\n      <path id=\"DejaVuSans-53\" d=\"M 3425 4513 \nL 3425 3897 \nQ 3066 4069 2747 4153 \nQ 2428 4238 2131 4238 \nQ 1616 4238 1336 4038 \nQ 1056 3838 1056 3469 \nQ 1056 3159 1242 3001 \nQ 1428 2844 1947 2747 \nL 2328 2669 \nQ 3034 2534 3370 2195 \nQ 3706 1856 3706 1288 \nQ 3706 609 3251 259 \nQ 2797 -91 1919 -91 \nQ 1588 -91 1214 -16 \nQ 841 59 441 206 \nL 441 856 \nQ 825 641 1194 531 \nQ 1563 422 1919 422 \nQ 2459 422 2753 634 \nQ 3047 847 3047 1241 \nQ 3047 1584 2836 1778 \nQ 2625 1972 2144 2069 \nL 1759 2144 \nQ 1053 2284 737 2584 \nQ 422 2884 422 3419 \nQ 422 4038 858 4394 \nQ 1294 4750 2059 4750 \nQ 2388 4750 2728 4690 \nQ 3069 4631 3425 4513 \nz\n\" transform=\"scale(0.015625)\"/>\n      <path id=\"DejaVuSans-69\" d=\"M 603 3500 \nL 1178 3500 \nL 1178 0 \nL 603 0 \nL 603 3500 \nz\nM 603 4863 \nL 1178 4863 \nL 1178 4134 \nL 603 4134 \nL 603 4863 \nz\n\" transform=\"scale(0.015625)\"/>\n      <path id=\"DejaVuSans-6e\" d=\"M 3513 2113 \nL 3513 0 \nL 2938 0 \nL 2938 2094 \nQ 2938 2591 2744 2837 \nQ 2550 3084 2163 3084 \nQ 1697 3084 1428 2787 \nQ 1159 2491 1159 1978 \nL 1159 0 \nL 581 0 \nL 581 3500 \nL 1159 3500 \nL 1159 2956 \nQ 1366 3272 1645 3428 \nQ 1925 3584 2291 3584 \nQ 2894 3584 3203 3211 \nQ 3513 2838 3513 2113 \nz\n\" transform=\"scale(0.015625)\"/>\n      <path id=\"DejaVuSans-61\" d=\"M 2194 1759 \nQ 1497 1759 1228 1600 \nQ 959 1441 959 1056 \nQ 959 750 1161 570 \nQ 1363 391 1709 391 \nQ 2188 391 2477 730 \nQ 2766 1069 2766 1631 \nL 2766 1759 \nL 2194 1759 \nz\nM 3341 1997 \nL 3341 0 \nL 2766 0 \nL 2766 531 \nQ 2569 213 2275 61 \nQ 1981 -91 1556 -91 \nQ 1019 -91 701 211 \nQ 384 513 384 1019 \nQ 384 1609 779 1909 \nQ 1175 2209 1959 2209 \nL 2766 2209 \nL 2766 2266 \nQ 2766 2663 2505 2880 \nQ 2244 3097 1772 3097 \nQ 1472 3097 1187 3025 \nQ 903 2953 641 2809 \nL 641 3341 \nQ 956 3463 1253 3523 \nQ 1550 3584 1831 3584 \nQ 2591 3584 2966 3190 \nQ 3341 2797 3341 1997 \nz\n\" transform=\"scale(0.015625)\"/>\n      <path id=\"DejaVuSans-6c\" d=\"M 603 4863 \nL 1178 4863 \nL 1178 0 \nL 603 0 \nL 603 4863 \nz\n\" transform=\"scale(0.015625)\"/>\n      <path id=\"DejaVuSans-20\" transform=\"scale(0.015625)\"/>\n      <path id=\"DejaVuSans-64\" d=\"M 2906 2969 \nL 2906 4863 \nL 3481 4863 \nL 3481 0 \nL 2906 0 \nL 2906 525 \nQ 2725 213 2448 61 \nQ 2172 -91 1784 -91 \nQ 1150 -91 751 415 \nQ 353 922 353 1747 \nQ 353 2572 751 3078 \nQ 1150 3584 1784 3584 \nQ 2172 3584 2448 3432 \nQ 2725 3281 2906 2969 \nz\nM 947 1747 \nQ 947 1113 1208 752 \nQ 1469 391 1925 391 \nQ 2381 391 2643 752 \nQ 2906 1113 2906 1747 \nQ 2906 2381 2643 2742 \nQ 2381 3103 1925 3103 \nQ 1469 3103 1208 2742 \nQ 947 2381 947 1747 \nz\n\" transform=\"scale(0.015625)\"/>\n      <path id=\"DejaVuSans-65\" d=\"M 3597 1894 \nL 3597 1613 \nL 953 1613 \nQ 991 1019 1311 708 \nQ 1631 397 2203 397 \nQ 2534 397 2845 478 \nQ 3156 559 3463 722 \nL 3463 178 \nQ 3153 47 2828 -22 \nQ 2503 -91 2169 -91 \nQ 1331 -91 842 396 \nQ 353 884 353 1716 \nQ 353 2575 817 3079 \nQ 1281 3584 2069 3584 \nQ 2775 3584 3186 3129 \nQ 3597 2675 3597 1894 \nz\nM 3022 2063 \nQ 3016 2534 2758 2815 \nQ 2500 3097 2075 3097 \nQ 1594 3097 1305 2825 \nQ 1016 2553 972 2059 \nL 3022 2063 \nz\n\" transform=\"scale(0.015625)\"/>\n      <path id=\"DejaVuSans-63\" d=\"M 3122 3366 \nL 3122 2828 \nQ 2878 2963 2633 3030 \nQ 2388 3097 2138 3097 \nQ 1578 3097 1268 2742 \nQ 959 2388 959 1747 \nQ 959 1106 1268 751 \nQ 1578 397 2138 397 \nQ 2388 397 2633 464 \nQ 2878 531 3122 666 \nL 3122 134 \nQ 2881 22 2623 -34 \nQ 2366 -91 2075 -91 \nQ 1284 -91 818 406 \nQ 353 903 353 1747 \nQ 353 2603 823 3093 \nQ 1294 3584 2113 3584 \nQ 2378 3584 2631 3529 \nQ 2884 3475 3122 3366 \nz\n\" transform=\"scale(0.015625)\"/>\n      <path id=\"DejaVuSans-6f\" d=\"M 1959 3097 \nQ 1497 3097 1228 2736 \nQ 959 2375 959 1747 \nQ 959 1119 1226 758 \nQ 1494 397 1959 397 \nQ 2419 397 2687 759 \nQ 2956 1122 2956 1747 \nQ 2956 2369 2687 2733 \nQ 2419 3097 1959 3097 \nz\nM 1959 3584 \nQ 2709 3584 3137 3096 \nQ 3566 2609 3566 1747 \nQ 3566 888 3137 398 \nQ 2709 -91 1959 -91 \nQ 1206 -91 779 398 \nQ 353 888 353 1747 \nQ 353 2609 779 3096 \nQ 1206 3584 1959 3584 \nz\n\" transform=\"scale(0.015625)\"/>\n      <path id=\"DejaVuSans-74\" d=\"M 1172 4494 \nL 1172 3500 \nL 2356 3500 \nL 2356 3053 \nL 1172 3053 \nL 1172 1153 \nQ 1172 725 1289 603 \nQ 1406 481 1766 481 \nL 2356 481 \nL 2356 0 \nL 1766 0 \nQ 1100 0 847 248 \nQ 594 497 594 1153 \nL 594 3053 \nL 172 3053 \nL 172 3500 \nL 594 3500 \nL 594 4494 \nL 1172 4494 \nz\n\" transform=\"scale(0.015625)\"/>\n      <path id=\"DejaVuSans-72\" d=\"M 2631 2963 \nQ 2534 3019 2420 3045 \nQ 2306 3072 2169 3072 \nQ 1681 3072 1420 2755 \nQ 1159 2438 1159 1844 \nL 1159 0 \nL 581 0 \nL 581 3500 \nL 1159 3500 \nL 1159 2956 \nQ 1341 3275 1631 3429 \nQ 1922 3584 2338 3584 \nQ 2397 3584 2469 3576 \nQ 2541 3569 2628 3553 \nL 2631 2963 \nz\n\" transform=\"scale(0.015625)\"/>\n      <path id=\"DejaVuSans-28\" d=\"M 1984 4856 \nQ 1566 4138 1362 3434 \nQ 1159 2731 1159 2009 \nQ 1159 1288 1364 580 \nQ 1569 -128 1984 -844 \nL 1484 -844 \nQ 1016 -109 783 600 \nQ 550 1309 550 2009 \nQ 550 2706 781 3412 \nQ 1013 4119 1484 4856 \nL 1984 4856 \nz\n\" transform=\"scale(0.015625)\"/>\n      <path id=\"DejaVuSans-73\" d=\"M 2834 3397 \nL 2834 2853 \nQ 2591 2978 2328 3040 \nQ 2066 3103 1784 3103 \nQ 1356 3103 1142 2972 \nQ 928 2841 928 2578 \nQ 928 2378 1081 2264 \nQ 1234 2150 1697 2047 \nL 1894 2003 \nQ 2506 1872 2764 1633 \nQ 3022 1394 3022 966 \nQ 3022 478 2636 193 \nQ 2250 -91 1575 -91 \nQ 1294 -91 989 -36 \nQ 684 19 347 128 \nL 347 722 \nQ 666 556 975 473 \nQ 1284 391 1588 391 \nQ 1994 391 2212 530 \nQ 2431 669 2431 922 \nQ 2431 1156 2273 1281 \nQ 2116 1406 1581 1522 \nL 1381 1569 \nQ 847 1681 609 1914 \nQ 372 2147 372 2553 \nQ 372 3047 722 3315 \nQ 1072 3584 1716 3584 \nQ 2034 3584 2315 3537 \nQ 2597 3491 2834 3397 \nz\n\" transform=\"scale(0.015625)\"/>\n      <path id=\"DejaVuSans-29\" d=\"M 513 4856 \nL 1013 4856 \nQ 1481 4119 1714 3412 \nQ 1947 2706 1947 2009 \nQ 1947 1309 1714 600 \nQ 1481 -109 1013 -844 \nL 513 -844 \nQ 928 -128 1133 580 \nQ 1338 1288 1338 2009 \nQ 1338 2731 1133 3434 \nQ 928 4138 513 4856 \nz\n\" transform=\"scale(0.015625)\"/>\n     </defs>\n     <use xlink:href=\"#DejaVuSans-53\"/>\n     <use xlink:href=\"#DejaVuSans-69\" x=\"63.476562\"/>\n     <use xlink:href=\"#DejaVuSans-6e\" x=\"91.259766\"/>\n     <use xlink:href=\"#DejaVuSans-61\" x=\"154.638672\"/>\n     <use xlink:href=\"#DejaVuSans-6c\" x=\"215.917969\"/>\n     <use xlink:href=\"#DejaVuSans-20\" x=\"243.701172\"/>\n     <use xlink:href=\"#DejaVuSans-64\" x=\"275.488281\"/>\n     <use xlink:href=\"#DejaVuSans-65\" x=\"338.964844\"/>\n     <use xlink:href=\"#DejaVuSans-20\" x=\"400.488281\"/>\n     <use xlink:href=\"#DejaVuSans-63\" x=\"432.275391\"/>\n     <use xlink:href=\"#DejaVuSans-6f\" x=\"487.255859\"/>\n     <use xlink:href=\"#DejaVuSans-6e\" x=\"548.4375\"/>\n     <use xlink:href=\"#DejaVuSans-74\" x=\"611.816406\"/>\n     <use xlink:href=\"#DejaVuSans-72\" x=\"651.025391\"/>\n     <use xlink:href=\"#DejaVuSans-6f\" x=\"689.888672\"/>\n     <use xlink:href=\"#DejaVuSans-6c\" x=\"751.070312\"/>\n     <use xlink:href=\"#DejaVuSans-65\" x=\"778.853516\"/>\n     <use xlink:href=\"#DejaVuSans-20\" x=\"840.376953\"/>\n     <use xlink:href=\"#DejaVuSans-28\" x=\"872.164062\"/>\n     <use xlink:href=\"#DejaVuSans-64\" x=\"911.177734\"/>\n     <use xlink:href=\"#DejaVuSans-69\" x=\"974.654297\"/>\n     <use xlink:href=\"#DejaVuSans-73\" x=\"1002.4375\"/>\n     <use xlink:href=\"#DejaVuSans-63\" x=\"1054.537109\"/>\n     <use xlink:href=\"#DejaVuSans-72\" x=\"1109.517578\"/>\n     <use xlink:href=\"#DejaVuSans-65\" x=\"1148.380859\"/>\n     <use xlink:href=\"#DejaVuSans-74\" x=\"1209.904297\"/>\n     <use xlink:href=\"#DejaVuSans-6f\" x=\"1249.113281\"/>\n     <use xlink:href=\"#DejaVuSans-29\" x=\"1310.294922\"/>\n    </g>\n   </g>\n  </g>\n </g>\n <defs>\n  <clipPath id=\"p430d5a451a\">\n   <rect x=\"36.465625\" y=\"22.318125\" width=\"357.12\" height=\"266.112\"/>\n  </clipPath>\n </defs>\n</svg>\n",
      "text/plain": [
       "<Figure size 640x480 with 1 Axes>"
      ]
     },
     "metadata": {},
     "output_type": "display_data"
    }
   ],
   "source": [
    "# Função de MF entre a referência e o sinal de controle\n",
    "URz = Cz/(1+Cz*Gz)\n",
    "td,ud = ct.step_response(URz,2)\n",
    "plt.step(td,ud)\n",
    "plt.grid()\n",
    "plt.title('Sinal de controle (discreto)')\n",
    "print('O máximo sinal de controle foi: ', max(ud))"
   ]
  },
  {
   "attachments": {},
   "cell_type": "markdown",
   "metadata": {},
   "source": [
    "O transitório é semelhante ao da saída, sem variações bruscas. O valor máximo não chega a 1, o que parece razoável. "
   ]
  }
 ],
 "metadata": {
  "kernelspec": {
   "display_name": "Python 3.9.12 ('base')",
   "language": "python",
   "name": "python3"
  },
  "language_info": {
   "codemirror_mode": {
    "name": "ipython",
    "version": 3
   },
   "file_extension": ".py",
   "mimetype": "text/x-python",
   "name": "python",
   "nbconvert_exporter": "python",
   "pygments_lexer": "ipython3",
   "version": "3.9.12 (main, Apr  4 2022, 05:22:27) [MSC v.1916 64 bit (AMD64)]"
  },
  "orig_nbformat": 4,
  "vscode": {
   "interpreter": {
    "hash": "3e3763a57b4ffe0d06e963ec4b7f8ef3a748cbfdb342037439726ee83e94c05b"
   }
  }
 },
 "nbformat": 4,
 "nbformat_minor": 2
}
