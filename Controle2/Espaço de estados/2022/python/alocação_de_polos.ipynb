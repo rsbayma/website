{
  "nbformat": 4,
  "nbformat_minor": 0,
  "metadata": {
    "colab": {
      "provenance": [],
      "collapsed_sections": []
    },
    "kernelspec": {
      "name": "python3",
      "display_name": "Python 3"
    },
    "language_info": {
      "name": "python"
    }
  },
  "cells": [
    {
      "cell_type": "code",
      "execution_count": null,
      "metadata": {
        "id": "ZcRYJ6uGP777"
      },
      "outputs": [],
      "source": [
        "import numpy as np\n",
        "import sympy as sp\n",
        "from matplotlib import pyplot as plt"
      ]
    },
    {
      "cell_type": "code",
      "source": [
        "z = sp.symbols('z')\n",
        "k1,k2,k3,k4 = sp.symbols(['k1','k2','k3','k4'])\n",
        "S = k2*z**2+k3*z+k4\n",
        "R = k1*(z-1)*(z-0.8)\n",
        "B = (z+1)*(z-0.8)\n",
        "A = (z-0.9)*z"
      ],
      "metadata": {
        "id": "uEubitHHVrsg"
      },
      "execution_count": null,
      "outputs": []
    },
    {
      "cell_type": "code",
      "source": [
        "xi =0.5\n",
        "wn = 2\n",
        "s = -xi*wn+1j*wn*np.sqrt(1-xi**2)\n",
        "T = 0.1\n",
        "z1 = np.exp(s*T)\n",
        "np.poly([z1,np.conj(z1)])"
      ],
      "metadata": {
        "colab": {
          "base_uri": "https://localhost:8080/"
        },
        "id": "LFzb0tlYHK0x",
        "outputId": "83f5d413-3261-458b-ca52-b4b47f8e8c5f"
      },
      "execution_count": null,
      "outputs": [
        {
          "output_type": "execute_result",
          "data": {
            "text/plain": [
              "array([ 1.        , -1.78259751,  0.81873075])"
            ]
          },
          "metadata": {},
          "execution_count": 5
        }
      ]
    },
    {
      "cell_type": "code",
      "source": [
        "M=sp.expand(sp.numer(sp.simplify(1+(B*S/(A*R)))))\n",
        "M=sp.collect(M,z)\n",
        "print(M)\n",
        "MM = sp.collect(sp.expand((z**2-1.78*z+0.82)*z),z)\n",
        "print(MM)"
      ],
      "metadata": {
        "colab": {
          "base_uri": "https://localhost:8080/"
        },
        "id": "N-K0zSEjV0A0",
        "outputId": "ac60d9cc-5aa9-4886-9bc3-308dc5a0421f"
      },
      "execution_count": null,
      "outputs": [
        {
          "output_type": "stream",
          "name": "stdout",
          "text": [
            "k4 + z**3*(k1 + k2) + z**2*(-1.9*k1 + k2 + k3) + z*(0.9*k1 + k3 + k4)\n",
            "z**3 - 1.78*z**2 + 0.82*z\n"
          ]
        }
      ]
    },
    {
      "cell_type": "code",
      "source": [
        "eq=[M.coeff(z,n=p)-MM.coeff(z,n=p) for p in range(4)]\n",
        "sol=sp.solve(eq)\n",
        "sol"
      ],
      "metadata": {
        "colab": {
          "base_uri": "https://localhost:8080/"
        },
        "id": "RH_koB04iwqr",
        "outputId": "4cb84868-5d6b-46f6-cd53-c508164d4d11"
      },
      "execution_count": null,
      "outputs": [
        {
          "output_type": "execute_result",
          "data": {
            "text/plain": [
              "{k1: 0.947368421052632,\n",
              " k2: 0.0526315789473684,\n",
              " k3: -0.0326315789473684,\n",
              " k4: 0.0}"
            ]
          },
          "metadata": {},
          "execution_count": 13
        }
      ]
    },
    {
      "cell_type": "code",
      "source": [
        "C=S.subs(sol)/R.subs(sol)\n",
        "C.normal()"
      ],
      "metadata": {
        "colab": {
          "base_uri": "https://localhost:8080/",
          "height": 58
        },
        "id": "roqdE_qa5MyV",
        "outputId": "61922dfe-6ff9-4778-923f-d13b1c6a9666"
      },
      "execution_count": null,
      "outputs": [
        {
          "output_type": "execute_result",
          "data": {
            "text/plain": [
              "(0.0555555555555556*z**2 - 0.0344444444444444*z)/((z - 1)*(z - 0.8))"
            ],
            "text/latex": "$\\displaystyle \\frac{0.0555555555555556 z^{2} - 0.0344444444444444 z}{\\left(z - 1\\right) \\left(z - 0.8\\right)}$"
          },
          "metadata": {},
          "execution_count": 19
        }
      ]
    }
  ]
}