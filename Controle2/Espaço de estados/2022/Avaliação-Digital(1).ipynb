{
 "cells": [
  {
   "cell_type": "markdown",
   "metadata": {},
   "source": [
    "# Trabalho avaliativo\n",
    "\n",
    "Sistemas de controle II - 2022.4\n",
    "\n",
    "Controle Digital\n",
    "\n",
    "**Entrega: 14/12/2022**\n",
    "\n",
    "Aluno:\n",
    "\n",
    "Matrícula:\n",
    "\n"
   ]
  },
  {
   "cell_type": "markdown",
   "metadata": {},
   "source": [
    "## 1.\n",
    "\n",
    "*Faça um ensaio dissertativo do seu entendimento sobre controle digital. Procure responder as seguintes perguntas no seu texto:*\n",
    "\n",
    "* *O que é controle automático digital?* \n",
    "* *Qual a diferença entre controle automático digital e analógico?* \n",
    "* *O que é necessário para implantar um sistema de controle digital?* \n",
    "* *Quais as vantagens do controle digital sobre o analógico? E as desvantagens?* "
   ]
  },
  {
   "cell_type": "markdown",
   "metadata": {},
   "source": [
    "*Sua resposta aqui*"
   ]
  },
  {
   "cell_type": "markdown",
   "metadata": {},
   "source": [
    "## 2.\n",
    "Execute o código abaixo:"
   ]
  },
  {
   "cell_type": "code",
   "execution_count": 4,
   "metadata": {},
   "outputs": [
    {
     "name": "stdout",
     "output_type": "stream",
     "text": [
      "17\n",
      "2\n"
     ]
    }
   ],
   "source": [
    "import numpy as np\n",
    "a = np.random.randint(1,20)\n",
    "b = np.random.randint(1,20)\n",
    "print(a)\n",
    "print(b)"
   ]
  },
  {
   "cell_type": "markdown",
   "metadata": {},
   "source": [
    "No problema abaixo, use os valores de \"a\" e \"b\" resultantes do código anterior."
   ]
  },
  {
   "cell_type": "markdown",
   "metadata": {},
   "source": [
    "\n",
    "*Dado o sistema*\n",
    "$$\n",
    "\\begin{align}\n",
    "    G(s) &= \\frac{10(s+10)}{(s+a)(s+b)}\n",
    "\\end{align}\n",
    "$$\n",
    "\n",
    "1. *Defina um período de amostragem adequado para digitalizar a planta*\n",
    "2. *Projete um controlador digital que forneça um overshoot de no máximo 15% e um tempo de acomodação no máximo de 1 segundo. Utilize o método de projeto que julgar mais conveniente.*\n",
    "3. *Obtenha a equação de diferença para implementar o controlador*\n",
    "4. *Discretize a planta em malha aberta e faça uma simulação em malha fechada com o controlador projetado, para uma referência degrau unitário. Apresente gráficos dos sinais de saída e de controle. Discuta os resultados.*"
   ]
  },
  {
   "cell_type": "markdown",
   "metadata": {},
   "source": [
    "*Suas respostas e códigos a partir daqui*"
   ]
  },
  {
   "cell_type": "code",
   "execution_count": 5,
   "metadata": {},
   "outputs": [],
   "source": [
    "import numpy as np\n",
    "import control as ct\n",
    "import scipy as sci"
   ]
  },
  {
   "cell_type": "code",
   "execution_count": 6,
   "metadata": {},
   "outputs": [
    {
     "data": {
      "text/latex": [
       "$$\\frac{0.5443 z - 0.3286}{z^2 - 1.73 z + 0.7408}\\quad dt = 0.05$$"
      ],
      "text/plain": [
       "TransferFunction(array([ 0.54433991, -0.32857964]), array([ 1.        , -1.73003021,  0.74081822]), 0.05)"
      ]
     },
     "execution_count": 6,
     "metadata": {},
     "output_type": "execute_result"
    }
   ],
   "source": [
    "num = [10,100]\n",
    "den = np.convolve([1,1],[1,5])\n",
    "T = 0.05\n",
    "G = ct.TransferFunction(num,den)\n",
    "Gz = ct.c2d(G,T)\n",
    "(Gz)"
   ]
  },
  {
   "cell_type": "code",
   "execution_count": 7,
   "metadata": {},
   "outputs": [
    {
     "data": {
      "text/plain": [
       "20.00000000000024"
      ]
     },
     "execution_count": 7,
     "metadata": {},
     "output_type": "execute_result"
    }
   ],
   "source": [
    "B,A=ct.tfdata(Gz)\n",
    "B = B[0][0]\n",
    "A = A[0][0]\n",
    "b = Gz.zeros()[0]\n",
    "\n",
    "ct.dcgain(Gz)"
   ]
  },
  {
   "cell_type": "code",
   "execution_count": 8,
   "metadata": {},
   "outputs": [],
   "source": [
    "import sympy as sp\n",
    "\n",
    "z = sp.symbols('z')\n",
    "Bz = sp.factor(B @ [z,1])"
   ]
  },
  {
   "cell_type": "markdown",
   "metadata": {},
   "source": [
    "Controlador:\n",
    "$$\n",
    "\\begin{align}\n",
    "    C(z) = \\frac{s_2z^2+s_1z+s_0}{(z-1)(z−0.603629534321707)r_0}\n",
    "\\end{align}\n",
    "$$\n",
    "\n",
    "Malha aberta: \n",
    "$$\n",
    "\\begin{align}\n",
    "    H(z)C(z) = \\frac{s_2z^2+s_1z+s_0}{(z-1)(z−0.6036)r_0}\\frac{0.5443(z−0.6036)}{z^2−1.73z+0.7408}\n",
    "\\end{align}\n",
    "$$"
   ]
  },
  {
   "cell_type": "code",
   "execution_count": 75,
   "metadata": {},
   "outputs": [
    {
     "data": {
      "text/latex": [
       "$\\displaystyle 1.0 r_{2} z^{5} - 0.328579644220467 s_{0} + z^{4} \\cdot \\left(1.0 r_{1} - 2.73003020757212 r_{2}\\right) + z^{3} \\left(- 2.73003020757212 r_{1} + 2.47084842825384 r_{2} + 0.544339906412447 s_{2} + 1.0\\right) + z^{2} \\cdot \\left(2.47084842825384 r_{1} - 0.740818220681718 r_{2} + 0.544339906412447 s_{1} - 0.328579644220467 s_{2} - 2.73003020757212\\right) + z \\left(- 0.740818220681718 r_{1} + 0.544339906412447 s_{0} - 0.328579644220467 s_{1} + 2.47084842825384\\right) - 0.740818220681718$"
      ],
      "text/plain": [
       "1.0*r2*z**5 - 0.328579644220467*s0 + z**4*(1.0*r1 - 2.73003020757212*r2) + z**3*(-2.73003020757212*r1 + 2.47084842825384*r2 + 0.544339906412447*s2 + 1.0) + z**2*(2.47084842825384*r1 - 0.740818220681718*r2 + 0.544339906412447*s1 - 0.328579644220467*s2 - 2.73003020757212) + z*(-0.740818220681718*r1 + 0.544339906412447*s0 - 0.328579644220467*s1 + 2.47084842825384) - 0.740818220681718"
      ]
     },
     "execution_count": 75,
     "metadata": {},
     "output_type": "execute_result"
    }
   ],
   "source": [
    "r0,r1,r2 = sp.symbols(['r0','r1','r2'])\n",
    "s0,s1,s2,d0 = sp.symbols(['s0','s1','s2','d0'])\n",
    "Az = A @ [z**2,z,1]\n",
    "Bz = B @ [z,1]\n",
    "Rz = (z-1)*(z**2+r1*z+r0)\n",
    "Sz = (s2*z**2+s1*z+s0)\n",
    "malha = sp.collect(sp.expand(Az*Rz+Bz*Sz),z)\n",
    "malha"
   ]
  },
  {
   "cell_type": "code",
   "execution_count": 79,
   "metadata": {},
   "outputs": [
    {
     "data": {
      "text/latex": [
       "$\\displaystyle - 19.6741377547295 s_{0} + 0.544339906412447 s_{2} z^{5} + z^{4} \\cdot \\left(0.544339906412447 s_{1} + 4.02613960707911 s_{2}\\right) + z^{3} \\cdot \\left(0.544339906412447 s_{0} + 4.02613960707911 s_{1} + 29.9644296795832 s_{2}\\right) + z^{2} \\cdot \\left(4.02613960707911 s_{0} + 29.9644296795832 s_{1} - 19.6741377547295 s_{2}\\right) + z \\left(29.9644296795832 s_{0} - 19.6741377547295 s_{1}\\right)$"
      ],
      "text/plain": [
       "-19.6741377547295*s0 + 0.544339906412447*s2*z**5 + z**4*(0.544339906412447*s1 + 4.02613960707911*s2) + z**3*(0.544339906412447*s0 + 4.02613960707911*s1 + 29.9644296795832*s2) + z**2*(4.02613960707911*s0 + 29.9644296795832*s1 - 19.6741377547295*s2) + z*(29.9644296795832*s0 - 19.6741377547295*s1)"
      ]
     },
     "execution_count": 79,
     "metadata": {},
     "output_type": "execute_result"
    }
   ],
   "source": [
    "Mp = 0.15\n",
    "ts = 1\n",
    "xi = -np.log(Mp)/np.sqrt(np.pi**2+np.log(Mp)**2)\n",
    "wn = 4/(ts*xi)\n",
    "p = -xi*wn+1j*wn*np.sqrt(1-xi**2)\n",
    "pz = np.exp(p*T)\n",
    "desejado = sp.expand((z**2-2*np.real(p)*z+np.abs(p)**2)*(Bz)*(Sz))\n",
    "desejado = sp.collect(desejado,z)\n",
    "desejado"
   ]
  },
  {
   "cell_type": "code",
   "execution_count": 94,
   "metadata": {},
   "outputs": [],
   "source": [
    "eq = [sp.Eq(malha.coeff(z,n), desejado.coeff(z,n)) for n in range(5)]\n"
   ]
  },
  {
   "cell_type": "code",
   "execution_count": 86,
   "metadata": {},
   "outputs": [
    {
     "data": {
      "text/plain": [
       "{r1: 0.135885340464331,\n",
       " r2: 0.0169853460768739,\n",
       " s0: 0.0369363552662150,\n",
       " s1: -0.0663465585720845,\n",
       " s2: 0.0312035657808342}"
      ]
     },
     "execution_count": 86,
     "metadata": {},
     "output_type": "execute_result"
    }
   ],
   "source": [
    "sol = sp.solve(eq)\n",
    "sol"
   ]
  },
  {
   "cell_type": "code",
   "execution_count": 93,
   "metadata": {},
   "outputs": [
    {
     "data": {
      "text/plain": [
       "[0.603629534321703,\n",
       " -4.0 - 6.62391979130149*I,\n",
       " -4.0 + 6.62391979130149*I,\n",
       " 1.06312462873772 - 0.231275332205558*I,\n",
       " 1.06312462873772 + 0.231275332205558*I]"
      ]
     },
     "execution_count": 93,
     "metadata": {},
     "output_type": "execute_result"
    }
   ],
   "source": [
    "#sp.Eq(malha.subs(sol),desejado.subs(sol))\n",
    "#sp.solve(malha.subs(sol))\n",
    "sp.solve(desejado.subs(sol))"
   ]
  },
  {
   "cell_type": "code",
   "execution_count": 88,
   "metadata": {},
   "outputs": [
    {
     "data": {
      "text/latex": [
       "$$\\frac{0.0312 z^2 - 0.06635 z + 0.03694}{0.01699 z^3 + 0.1189 z^2 + 0.8641 z - 1}\\quad dt = 0.05$$"
      ],
      "text/plain": [
       "TransferFunction(array([ 0.03120357, -0.06634656,  0.03693636]), array([ 0.01698535,  0.11889999,  0.86411466, -1.        ]), 0.05)"
      ]
     },
     "execution_count": 88,
     "metadata": {},
     "output_type": "execute_result"
    }
   ],
   "source": [
    "Cz = (Sz/(Rz))\n",
    "Cz = Cz.subs(sol)\n",
    "numZ = sp.numer(Cz)\n",
    "denZ = sp.denom(Cz)\n",
    "S = np.array(numZ.as_poly(z).coeffs(),dtype=float)\n",
    "R = np.array(denZ.as_poly(z).coeffs(),dtype=float)\n",
    "C = ct.TransferFunction(S,R,T)\n",
    "C"
   ]
  },
  {
   "cell_type": "code",
   "execution_count": 89,
   "metadata": {},
   "outputs": [
    {
     "data": {
      "text/latex": [
       "$\\displaystyle \\frac{0.0312035657808342 z^{2} - 0.0663465585720845 z + 0.036936355266215}{\\left(z - 1\\right) \\left(0.0169853460768739 z^{2} + 0.135885340464331 z + 1\\right)}$"
      ],
      "text/plain": [
       "(0.0312035657808342*z**2 - 0.0663465585720845*z + 0.036936355266215)/((z - 1)*(0.0169853460768739*z**2 + 0.135885340464331*z + 1))"
      ]
     },
     "execution_count": 89,
     "metadata": {},
     "output_type": "execute_result"
    }
   ],
   "source": [
    "Cz"
   ]
  },
  {
   "cell_type": "code",
   "execution_count": 90,
   "metadata": {},
   "outputs": [
    {
     "data": {
      "text/plain": [
       "[0.770293347136040,\n",
       " -4.0000699550345 - 6.62372368360133*I,\n",
       " -4.0000699550345 + 6.62372368360133*I,\n",
       " 0.97986267736504 - 0.032161974185975*I,\n",
       " 0.97986267736504 + 0.032161974185975*I]"
      ]
     },
     "execution_count": 90,
     "metadata": {},
     "output_type": "execute_result"
    }
   ],
   "source": [
    "m=(1+(Bz/Az)*Cz).as_numer_denom()[0]\n",
    "sp.expand(m)\n",
    "sp.solve(m)"
   ]
  },
  {
   "cell_type": "code",
   "execution_count": 245,
   "metadata": {},
   "outputs": [
    {
     "name": "stdout",
     "output_type": "stream",
     "text": [
      "[0.7876498 +0.16660367j 0.7876498 -0.16660367j 0.60362953+0.j        ]\n"
     ]
    },
    {
     "data": {
      "text/plain": [
       "[0.787649796890904 - 0.166603666646283*I,\n",
       " 0.787649796890904 + 0.166603666646283*I]"
      ]
     },
     "execution_count": 245,
     "metadata": {},
     "output_type": "execute_result"
    }
   ],
   "source": [
    "MF = ct.feedback(ct.series(Gz,C))\n",
    "t,y = ct.step_response(MF)\n",
    "#ct.damp(MF)\n",
    "print(MF.zeros())\n",
    "#print(MF.poles())\n",
    "sp.solve(Sz.subs(sol))"
   ]
  },
  {
   "cell_type": "code",
   "execution_count": 237,
   "metadata": {},
   "outputs": [
    {
     "data": {
      "text/plain": [
       "[<matplotlib.lines.Line2D at 0x1e37c15a90>]"
      ]
     },
     "execution_count": 237,
     "metadata": {},
     "output_type": "execute_result"
    },
    {
     "data": {
      "image/png": "[encoded data removed]",
      "image/svg+xml": "<?xml version=\"1.0\" encoding=\"utf-8\" standalone=\"no\"?>\n<!DOCTYPE svg PUBLIC \"-//W3C//DTD SVG 1.1//EN\"\n  \"http://www.w3.org/Graphics/SVG/1.1/DTD/svg11.dtd\">\n<svg xmlns:xlink=\"http://www.w3.org/1999/xlink\" width=\"394.423125pt\" height=\"298.012043pt\" viewBox=\"0 0 394.423125 298.012043\" xmlns=\"http://www.w3.org/2000/svg\" version=\"1.1\">\n <metadata>\n  <rdf:RDF xmlns:dc=\"http://purl.org/dc/elements/1.1/\" xmlns:cc=\"http://creativecommons.org/ns#\" xmlns:rdf=\"http://www.w3.org/1999/02/22-rdf-syntax-ns#\">\n   <cc:Work>\n    <dc:type rdf:resource=\"http://purl.org/dc/dcmitype/StillImage\"/>\n    <dc:date>2022-11-18T16:10:32.803199</dc:date>\n    <dc:format>image/svg+xml</dc:format>\n    <dc:creator>\n     <cc:Agent>\n      <dc:title>Matplotlib v3.5.1, https://matplotlib.org/</dc:title>\n     </cc:Agent>\n    </dc:creator>\n   </cc:Work>\n  </rdf:RDF>\n </metadata>\n <defs>\n  <style type=\"text/css\">*{stroke-linejoin: round; stroke-linecap: butt}</style>\n </defs>\n <g id=\"figure_1\">\n  <g id=\"patch_1\">\n   <path d=\"M 0 298.012043 \nL 394.423125 298.012043 \nL 394.423125 0 \nL 0 0 \nz\n\" style=\"fill: #ffffff\"/>\n  </g>\n  <g id=\"axes_1\">\n   <g id=\"patch_2\">\n    <path d=\"M 30.103125 274.133918 \nL 387.223125 274.133918 \nL 387.223125 8.021918 \nL 30.103125 8.021918 \nz\n\" style=\"fill: #ffffff\"/>\n   </g>\n   <g id=\"matplotlib.axis_1\">\n    <g id=\"xtick_1\">\n     <g id=\"line2d_1\">\n      <defs>\n       <path id=\"m64ada3c907\" d=\"M 0 0 \nL 0 3.5 \n\" style=\"stroke: #000000; stroke-width: 0.8\"/>\n      </defs>\n      <g>\n       <use xlink:href=\"#m64ada3c907\" x=\"46.335852\" y=\"274.133918\" style=\"stroke: #000000; stroke-width: 0.8\"/>\n      </g>\n     </g>\n     <g id=\"text_1\">\n      <!-- 0 -->\n      <g transform=\"translate(43.154602 288.732356)scale(0.1 -0.1)\">\n       <defs>\n        <path id=\"DejaVuSans-30\" d=\"M 2034 4250 \nQ 1547 4250 1301 3770 \nQ 1056 3291 1056 2328 \nQ 1056 1369 1301 889 \nQ 1547 409 2034 409 \nQ 2525 409 2770 889 \nQ 3016 1369 3016 2328 \nQ 3016 3291 2770 3770 \nQ 2525 4250 2034 4250 \nz\nM 2034 4750 \nQ 2819 4750 3233 4129 \nQ 3647 3509 3647 2328 \nQ 3647 1150 3233 529 \nQ 2819 -91 2034 -91 \nQ 1250 -91 836 529 \nQ 422 1150 422 2328 \nQ 422 3509 836 4129 \nQ 1250 4750 2034 4750 \nz\n\" transform=\"scale(0.015625)\"/>\n       </defs>\n       <use xlink:href=\"#DejaVuSans-30\"/>\n      </g>\n     </g>\n    </g>\n    <g id=\"xtick_2\">\n     <g id=\"line2d_2\">\n      <g>\n       <use xlink:href=\"#m64ada3c907\" x=\"111.266761\" y=\"274.133918\" style=\"stroke: #000000; stroke-width: 0.8\"/>\n      </g>\n     </g>\n     <g id=\"text_2\">\n      <!-- 1 -->\n      <g transform=\"translate(108.085511 288.732356)scale(0.1 -0.1)\">\n       <defs>\n        <path id=\"DejaVuSans-31\" d=\"M 794 531 \nL 1825 531 \nL 1825 4091 \nL 703 3866 \nL 703 4441 \nL 1819 4666 \nL 2450 4666 \nL 2450 531 \nL 3481 531 \nL 3481 0 \nL 794 0 \nL 794 531 \nz\n\" transform=\"scale(0.015625)\"/>\n       </defs>\n       <use xlink:href=\"#DejaVuSans-31\"/>\n      </g>\n     </g>\n    </g>\n    <g id=\"xtick_3\">\n     <g id=\"line2d_3\">\n      <g>\n       <use xlink:href=\"#m64ada3c907\" x=\"176.19767\" y=\"274.133918\" style=\"stroke: #000000; stroke-width: 0.8\"/>\n      </g>\n     </g>\n     <g id=\"text_3\">\n      <!-- 2 -->\n      <g transform=\"translate(173.01642 288.732356)scale(0.1 -0.1)\">\n       <defs>\n        <path id=\"DejaVuSans-32\" d=\"M 1228 531 \nL 3431 531 \nL 3431 0 \nL 469 0 \nL 469 531 \nQ 828 903 1448 1529 \nQ 2069 2156 2228 2338 \nQ 2531 2678 2651 2914 \nQ 2772 3150 2772 3378 \nQ 2772 3750 2511 3984 \nQ 2250 4219 1831 4219 \nQ 1534 4219 1204 4116 \nQ 875 4013 500 3803 \nL 500 4441 \nQ 881 4594 1212 4672 \nQ 1544 4750 1819 4750 \nQ 2544 4750 2975 4387 \nQ 3406 4025 3406 3419 \nQ 3406 3131 3298 2873 \nQ 3191 2616 2906 2266 \nQ 2828 2175 2409 1742 \nQ 1991 1309 1228 531 \nz\n\" transform=\"scale(0.015625)\"/>\n       </defs>\n       <use xlink:href=\"#DejaVuSans-32\"/>\n      </g>\n     </g>\n    </g>\n    <g id=\"xtick_4\">\n     <g id=\"line2d_4\">\n      <g>\n       <use xlink:href=\"#m64ada3c907\" x=\"241.12858\" y=\"274.133918\" style=\"stroke: #000000; stroke-width: 0.8\"/>\n      </g>\n     </g>\n     <g id=\"text_4\">\n      <!-- 3 -->\n      <g transform=\"translate(237.94733 288.732356)scale(0.1 -0.1)\">\n       <defs>\n        <path id=\"DejaVuSans-33\" d=\"M 2597 2516 \nQ 3050 2419 3304 2112 \nQ 3559 1806 3559 1356 \nQ 3559 666 3084 287 \nQ 2609 -91 1734 -91 \nQ 1441 -91 1130 -33 \nQ 819 25 488 141 \nL 488 750 \nQ 750 597 1062 519 \nQ 1375 441 1716 441 \nQ 2309 441 2620 675 \nQ 2931 909 2931 1356 \nQ 2931 1769 2642 2001 \nQ 2353 2234 1838 2234 \nL 1294 2234 \nL 1294 2753 \nL 1863 2753 \nQ 2328 2753 2575 2939 \nQ 2822 3125 2822 3475 \nQ 2822 3834 2567 4026 \nQ 2313 4219 1838 4219 \nQ 1578 4219 1281 4162 \nQ 984 4106 628 3988 \nL 628 4550 \nQ 988 4650 1302 4700 \nQ 1616 4750 1894 4750 \nQ 2613 4750 3031 4423 \nQ 3450 4097 3450 3541 \nQ 3450 3153 3228 2886 \nQ 3006 2619 2597 2516 \nz\n\" transform=\"scale(0.015625)\"/>\n       </defs>\n       <use xlink:href=\"#DejaVuSans-33\"/>\n      </g>\n     </g>\n    </g>\n    <g id=\"xtick_5\">\n     <g id=\"line2d_5\">\n      <g>\n       <use xlink:href=\"#m64ada3c907\" x=\"306.059489\" y=\"274.133918\" style=\"stroke: #000000; stroke-width: 0.8\"/>\n      </g>\n     </g>\n     <g id=\"text_5\">\n      <!-- 4 -->\n      <g transform=\"translate(302.878239 288.732356)scale(0.1 -0.1)\">\n       <defs>\n        <path id=\"DejaVuSans-34\" d=\"M 2419 4116 \nL 825 1625 \nL 2419 1625 \nL 2419 4116 \nz\nM 2253 4666 \nL 3047 4666 \nL 3047 1625 \nL 3713 1625 \nL 3713 1100 \nL 3047 1100 \nL 3047 0 \nL 2419 0 \nL 2419 1100 \nL 313 1100 \nL 313 1709 \nL 2253 4666 \nz\n\" transform=\"scale(0.015625)\"/>\n       </defs>\n       <use xlink:href=\"#DejaVuSans-34\"/>\n      </g>\n     </g>\n    </g>\n    <g id=\"xtick_6\">\n     <g id=\"line2d_6\">\n      <g>\n       <use xlink:href=\"#m64ada3c907\" x=\"370.990398\" y=\"274.133918\" style=\"stroke: #000000; stroke-width: 0.8\"/>\n      </g>\n     </g>\n     <g id=\"text_6\">\n      <!-- 5 -->\n      <g transform=\"translate(367.809148 288.732356)scale(0.1 -0.1)\">\n       <defs>\n        <path id=\"DejaVuSans-35\" d=\"M 691 4666 \nL 3169 4666 \nL 3169 4134 \nL 1269 4134 \nL 1269 2991 \nQ 1406 3038 1543 3061 \nQ 1681 3084 1819 3084 \nQ 2600 3084 3056 2656 \nQ 3513 2228 3513 1497 \nQ 3513 744 3044 326 \nQ 2575 -91 1722 -91 \nQ 1428 -91 1123 -41 \nQ 819 9 494 109 \nL 494 744 \nQ 775 591 1075 516 \nQ 1375 441 1709 441 \nQ 2250 441 2565 725 \nQ 2881 1009 2881 1497 \nQ 2881 1984 2565 2268 \nQ 2250 2553 1709 2553 \nQ 1456 2553 1204 2497 \nQ 953 2441 691 2322 \nL 691 4666 \nz\n\" transform=\"scale(0.015625)\"/>\n       </defs>\n       <use xlink:href=\"#DejaVuSans-35\"/>\n      </g>\n     </g>\n    </g>\n   </g>\n   <g id=\"matplotlib.axis_2\">\n    <g id=\"ytick_1\">\n     <g id=\"line2d_7\">\n      <defs>\n       <path id=\"md065747d54\" d=\"M 0 0 \nL -3.5 0 \n\" style=\"stroke: #000000; stroke-width: 0.8\"/>\n      </defs>\n      <g>\n       <use xlink:href=\"#md065747d54\" x=\"30.103125\" y=\"262.037918\" style=\"stroke: #000000; stroke-width: 0.8\"/>\n      </g>\n     </g>\n     <g id=\"text_7\">\n      <!-- 0.0 -->\n      <g transform=\"translate(7.2 265.837137)scale(0.1 -0.1)\">\n       <defs>\n        <path id=\"DejaVuSans-2e\" d=\"M 684 794 \nL 1344 794 \nL 1344 0 \nL 684 0 \nL 684 794 \nz\n\" transform=\"scale(0.015625)\"/>\n       </defs>\n       <use xlink:href=\"#DejaVuSans-30\"/>\n       <use xlink:href=\"#DejaVuSans-2e\" x=\"63.623047\"/>\n       <use xlink:href=\"#DejaVuSans-30\" x=\"95.410156\"/>\n      </g>\n     </g>\n    </g>\n    <g id=\"ytick_2\">\n     <g id=\"line2d_8\">\n      <g>\n       <use xlink:href=\"#md065747d54\" x=\"30.103125\" y=\"220.198135\" style=\"stroke: #000000; stroke-width: 0.8\"/>\n      </g>\n     </g>\n     <g id=\"text_8\">\n      <!-- 0.2 -->\n      <g transform=\"translate(7.2 223.997354)scale(0.1 -0.1)\">\n       <use xlink:href=\"#DejaVuSans-30\"/>\n       <use xlink:href=\"#DejaVuSans-2e\" x=\"63.623047\"/>\n       <use xlink:href=\"#DejaVuSans-32\" x=\"95.410156\"/>\n      </g>\n     </g>\n    </g>\n    <g id=\"ytick_3\">\n     <g id=\"line2d_9\">\n      <g>\n       <use xlink:href=\"#md065747d54\" x=\"30.103125\" y=\"178.358352\" style=\"stroke: #000000; stroke-width: 0.8\"/>\n      </g>\n     </g>\n     <g id=\"text_9\">\n      <!-- 0.4 -->\n      <g transform=\"translate(7.2 182.15757)scale(0.1 -0.1)\">\n       <use xlink:href=\"#DejaVuSans-30\"/>\n       <use xlink:href=\"#DejaVuSans-2e\" x=\"63.623047\"/>\n       <use xlink:href=\"#DejaVuSans-34\" x=\"95.410156\"/>\n      </g>\n     </g>\n    </g>\n    <g id=\"ytick_4\">\n     <g id=\"line2d_10\">\n      <g>\n       <use xlink:href=\"#md065747d54\" x=\"30.103125\" y=\"136.518568\" style=\"stroke: #000000; stroke-width: 0.8\"/>\n      </g>\n     </g>\n     <g id=\"text_10\">\n      <!-- 0.6 -->\n      <g transform=\"translate(7.2 140.317787)scale(0.1 -0.1)\">\n       <defs>\n        <path id=\"DejaVuSans-36\" d=\"M 2113 2584 \nQ 1688 2584 1439 2293 \nQ 1191 2003 1191 1497 \nQ 1191 994 1439 701 \nQ 1688 409 2113 409 \nQ 2538 409 2786 701 \nQ 3034 994 3034 1497 \nQ 3034 2003 2786 2293 \nQ 2538 2584 2113 2584 \nz\nM 3366 4563 \nL 3366 3988 \nQ 3128 4100 2886 4159 \nQ 2644 4219 2406 4219 \nQ 1781 4219 1451 3797 \nQ 1122 3375 1075 2522 \nQ 1259 2794 1537 2939 \nQ 1816 3084 2150 3084 \nQ 2853 3084 3261 2657 \nQ 3669 2231 3669 1497 \nQ 3669 778 3244 343 \nQ 2819 -91 2113 -91 \nQ 1303 -91 875 529 \nQ 447 1150 447 2328 \nQ 447 3434 972 4092 \nQ 1497 4750 2381 4750 \nQ 2619 4750 2861 4703 \nQ 3103 4656 3366 4563 \nz\n\" transform=\"scale(0.015625)\"/>\n       </defs>\n       <use xlink:href=\"#DejaVuSans-30\"/>\n       <use xlink:href=\"#DejaVuSans-2e\" x=\"63.623047\"/>\n       <use xlink:href=\"#DejaVuSans-36\" x=\"95.410156\"/>\n      </g>\n     </g>\n    </g>\n    <g id=\"ytick_5\">\n     <g id=\"line2d_11\">\n      <g>\n       <use xlink:href=\"#md065747d54\" x=\"30.103125\" y=\"94.678785\" style=\"stroke: #000000; stroke-width: 0.8\"/>\n      </g>\n     </g>\n     <g id=\"text_11\">\n      <!-- 0.8 -->\n      <g transform=\"translate(7.2 98.478004)scale(0.1 -0.1)\">\n       <defs>\n        <path id=\"DejaVuSans-38\" d=\"M 2034 2216 \nQ 1584 2216 1326 1975 \nQ 1069 1734 1069 1313 \nQ 1069 891 1326 650 \nQ 1584 409 2034 409 \nQ 2484 409 2743 651 \nQ 3003 894 3003 1313 \nQ 3003 1734 2745 1975 \nQ 2488 2216 2034 2216 \nz\nM 1403 2484 \nQ 997 2584 770 2862 \nQ 544 3141 544 3541 \nQ 544 4100 942 4425 \nQ 1341 4750 2034 4750 \nQ 2731 4750 3128 4425 \nQ 3525 4100 3525 3541 \nQ 3525 3141 3298 2862 \nQ 3072 2584 2669 2484 \nQ 3125 2378 3379 2068 \nQ 3634 1759 3634 1313 \nQ 3634 634 3220 271 \nQ 2806 -91 2034 -91 \nQ 1263 -91 848 271 \nQ 434 634 434 1313 \nQ 434 1759 690 2068 \nQ 947 2378 1403 2484 \nz\nM 1172 3481 \nQ 1172 3119 1398 2916 \nQ 1625 2713 2034 2713 \nQ 2441 2713 2670 2916 \nQ 2900 3119 2900 3481 \nQ 2900 3844 2670 4047 \nQ 2441 4250 2034 4250 \nQ 1625 4250 1398 4047 \nQ 1172 3844 1172 3481 \nz\n\" transform=\"scale(0.015625)\"/>\n       </defs>\n       <use xlink:href=\"#DejaVuSans-30\"/>\n       <use xlink:href=\"#DejaVuSans-2e\" x=\"63.623047\"/>\n       <use xlink:href=\"#DejaVuSans-38\" x=\"95.410156\"/>\n      </g>\n     </g>\n    </g>\n    <g id=\"ytick_6\">\n     <g id=\"line2d_12\">\n      <g>\n       <use xlink:href=\"#md065747d54\" x=\"30.103125\" y=\"52.839002\" style=\"stroke: #000000; stroke-width: 0.8\"/>\n      </g>\n     </g>\n     <g id=\"text_12\">\n      <!-- 1.0 -->\n      <g transform=\"translate(7.2 56.638221)scale(0.1 -0.1)\">\n       <use xlink:href=\"#DejaVuSans-31\"/>\n       <use xlink:href=\"#DejaVuSans-2e\" x=\"63.623047\"/>\n       <use xlink:href=\"#DejaVuSans-30\" x=\"95.410156\"/>\n      </g>\n     </g>\n    </g>\n    <g id=\"ytick_7\">\n     <g id=\"line2d_13\">\n      <g>\n       <use xlink:href=\"#md065747d54\" x=\"30.103125\" y=\"10.999219\" style=\"stroke: #000000; stroke-width: 0.8\"/>\n      </g>\n     </g>\n     <g id=\"text_13\">\n      <!-- 1.2 -->\n      <g transform=\"translate(7.2 14.798437)scale(0.1 -0.1)\">\n       <use xlink:href=\"#DejaVuSans-31\"/>\n       <use xlink:href=\"#DejaVuSans-2e\" x=\"63.623047\"/>\n       <use xlink:href=\"#DejaVuSans-32\" x=\"95.410156\"/>\n      </g>\n     </g>\n    </g>\n   </g>\n   <g id=\"line2d_14\">\n    <path d=\"M 46.335852 262.037918 \nL 46.335852 22.928743 \nL 49.582398 22.928743 \nL 49.582398 20.117918 \nL 52.828943 20.117918 \nL 52.828943 20.958288 \nL 56.075489 20.958288 \nL 56.075489 24.176154 \nL 59.322034 24.176154 \nL 59.322034 28.719768 \nL 62.56858 28.719768 \nL 62.56858 33.773732 \nL 65.815125 33.773732 \nL 65.815125 38.748976 \nL 69.06167 38.748976 \nL 69.06167 43.257189 \nL 72.308216 43.257189 \nL 72.308216 47.076964 \nL 75.554761 47.076964 \nL 75.554761 50.117213 \nL 78.801307 50.117213 \nL 78.801307 52.381782 \nL 82.047852 52.381782 \nL 82.047852 53.937839 \nL 85.294398 53.937839 \nL 85.294398 54.8894 \nL 88.540943 54.8894 \nL 88.540943 55.356524 \nL 98.28058 55.311164 \nL 98.28058 55.005535 \nL 101.527125 55.005535 \nL 101.527125 54.620269 \nL 104.77367 54.620269 \nL 104.77367 54.213701 \nL 108.020216 54.213701 \nL 108.020216 53.826705 \nL 111.266761 53.826705 \nL 111.266761 53.485053 \nL 114.513307 53.485053 \nL 114.513307 53.202244 \nL 117.759852 53.202244 \nL 117.759852 52.982425 \nL 121.006398 52.982425 \nL 121.006398 52.823134 \nL 127.499489 52.71768 \nL 127.499489 52.657093 \nL 150.225307 52.74084 \nL 150.225307 52.770636 \nL 370.990398 52.839002 \nL 370.990398 52.839002 \n\" clip-path=\"url(#pc7f7bb7f97)\" style=\"fill: none; stroke: #1f77b4; stroke-width: 1.5; stroke-linecap: square\"/>\n   </g>\n   <g id=\"patch_3\">\n    <path d=\"M 30.103125 274.133918 \nL 30.103125 8.021918 \n\" style=\"fill: none; stroke: #000000; stroke-width: 0.8; stroke-linejoin: miter; stroke-linecap: square\"/>\n   </g>\n   <g id=\"patch_4\">\n    <path d=\"M 387.223125 274.133918 \nL 387.223125 8.021918 \n\" style=\"fill: none; stroke: #000000; stroke-width: 0.8; stroke-linejoin: miter; stroke-linecap: square\"/>\n   </g>\n   <g id=\"patch_5\">\n    <path d=\"M 30.103125 274.133918 \nL 387.223125 274.133918 \n\" style=\"fill: none; stroke: #000000; stroke-width: 0.8; stroke-linejoin: miter; stroke-linecap: square\"/>\n   </g>\n   <g id=\"patch_6\">\n    <path d=\"M 30.103125 8.021918 \nL 387.223125 8.021918 \n\" style=\"fill: none; stroke: #000000; stroke-width: 0.8; stroke-linejoin: miter; stroke-linecap: square\"/>\n   </g>\n  </g>\n </g>\n <defs>\n  <clipPath id=\"pc7f7bb7f97\">\n   <rect x=\"30.103125\" y=\"8.021918\" width=\"357.12\" height=\"266.112\"/>\n  </clipPath>\n </defs>\n</svg>\n",
      "text/plain": [
       "<Figure size 640x480 with 1 Axes>"
      ]
     },
     "metadata": {},
     "output_type": "display_data"
    }
   ],
   "source": [
    "from matplotlib import pyplot as plt\n",
    "plt.step(t,y)"
   ]
  }
 ],
 "metadata": {
  "kernelspec": {
   "display_name": "Python 3.9.12 ('base')",
   "language": "python",
   "name": "python3"
  },
  "language_info": {
   "codemirror_mode": {
    "name": "ipython",
    "version": 3
   },
   "file_extension": ".py",
   "mimetype": "text/x-python",
   "name": "python",
   "nbconvert_exporter": "python",
   "pygments_lexer": "ipython3",
   "version": "3.9.12"
  },
  "orig_nbformat": 4,
  "vscode": {
   "interpreter": {
    "hash": "3e3763a57b4ffe0d06e963ec4b7f8ef3a748cbfdb342037439726ee83e94c05b"
   }
  }
 },
 "nbformat": 4,
 "nbformat_minor": 2
}
