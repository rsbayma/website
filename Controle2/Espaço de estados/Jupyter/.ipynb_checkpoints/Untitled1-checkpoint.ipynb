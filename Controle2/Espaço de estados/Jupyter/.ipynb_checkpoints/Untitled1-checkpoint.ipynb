{
 "cells": [
  {
   "cell_type": "code",
   "execution_count": 6,
   "id": "3a41ed05",
   "metadata": {},
   "outputs": [
    {
     "name": "stdout",
     "output_type": "stream",
     "text": [
      "Requirement already satisfied: jupyterlab-kite>=2.0.2 in c:\\users\\rafael\\anaconda3\\lib\\site-packages (2.0.2)\n",
      "Requirement already satisfied: jupyter_kite>=2.0.0 in c:\\users\\rafael\\anaconda3\\lib\\site-packages (from jupyterlab-kite>=2.0.2) (2.0.2)\n",
      "Requirement already satisfied: jupyterlab<4.0.0a0,>=3.0.0 in c:\\users\\rafael\\anaconda3\\lib\\site-packages (from jupyterlab-kite>=2.0.2) (3.4.4)\n",
      "Requirement already satisfied: tornado>=5.1.0 in c:\\users\\rafael\\anaconda3\\lib\\site-packages (from jupyter_kite>=2.0.0->jupyterlab-kite>=2.0.2) (6.1)\n",
      "Requirement already satisfied: jupyter-server>=1.1.2 in c:\\users\\rafael\\anaconda3\\lib\\site-packages (from jupyter_kite>=2.0.0->jupyterlab-kite>=2.0.2) (1.18.1)\n",
      "Requirement already satisfied: entrypoints in c:\\users\\rafael\\anaconda3\\lib\\site-packages (from jupyter_kite>=2.0.0->jupyterlab-kite>=2.0.2) (0.4)\n",
      "Requirement already satisfied: jupyter-core in c:\\users\\rafael\\anaconda3\\lib\\site-packages (from jupyterlab<4.0.0a0,>=3.0.0->jupyterlab-kite>=2.0.2) (4.10.0)\n",
      "Requirement already satisfied: nbclassic in c:\\users\\rafael\\anaconda3\\lib\\site-packages (from jupyterlab<4.0.0a0,>=3.0.0->jupyterlab-kite>=2.0.2) (0.3.5)\n",
      "Requirement already satisfied: packaging in c:\\users\\rafael\\anaconda3\\lib\\site-packages (from jupyterlab<4.0.0a0,>=3.0.0->jupyterlab-kite>=2.0.2) (21.3)\n",
      "Requirement already satisfied: jupyterlab-server~=2.10 in c:\\users\\rafael\\anaconda3\\lib\\site-packages (from jupyterlab<4.0.0a0,>=3.0.0->jupyterlab-kite>=2.0.2) (2.10.3)\n",
      "Requirement already satisfied: notebook<7 in c:\\users\\rafael\\anaconda3\\lib\\site-packages (from jupyterlab<4.0.0a0,>=3.0.0->jupyterlab-kite>=2.0.2) (6.4.12)\n",
      "Requirement already satisfied: ipython in c:\\users\\rafael\\anaconda3\\lib\\site-packages (from jupyterlab<4.0.0a0,>=3.0.0->jupyterlab-kite>=2.0.2) (7.31.1)\n",
      "Requirement already satisfied: jinja2>=2.1 in c:\\users\\rafael\\anaconda3\\lib\\site-packages (from jupyterlab<4.0.0a0,>=3.0.0->jupyterlab-kite>=2.0.2) (2.11.3)\n",
      "Requirement already satisfied: MarkupSafe>=0.23 in c:\\users\\rafael\\anaconda3\\lib\\site-packages (from jinja2>=2.1->jupyterlab<4.0.0a0,>=3.0.0->jupyterlab-kite>=2.0.2) (2.0.1)\n",
      "Requirement already satisfied: pyzmq>=17 in c:\\users\\rafael\\anaconda3\\lib\\site-packages (from jupyter-server>=1.1.2->jupyter_kite>=2.0.0->jupyterlab-kite>=2.0.2) (23.2.0)\n",
      "Requirement already satisfied: anyio<4,>=3.1.0 in c:\\users\\rafael\\anaconda3\\lib\\site-packages (from jupyter-server>=1.1.2->jupyter_kite>=2.0.0->jupyterlab-kite>=2.0.2) (3.5.0)\n",
      "Requirement already satisfied: websocket-client in c:\\users\\rafael\\anaconda3\\lib\\site-packages (from jupyter-server>=1.1.2->jupyter_kite>=2.0.0->jupyterlab-kite>=2.0.2) (0.58.0)\n",
      "Requirement already satisfied: jupyter-client>=6.1.12 in c:\\users\\rafael\\anaconda3\\lib\\site-packages (from jupyter-server>=1.1.2->jupyter_kite>=2.0.0->jupyterlab-kite>=2.0.2) (7.3.4)\n",
      "Requirement already satisfied: nbformat>=5.2.0 in c:\\users\\rafael\\anaconda3\\lib\\site-packages (from jupyter-server>=1.1.2->jupyter_kite>=2.0.0->jupyterlab-kite>=2.0.2) (5.5.0)\n",
      "Requirement already satisfied: terminado>=0.8.3 in c:\\users\\rafael\\anaconda3\\lib\\site-packages (from jupyter-server>=1.1.2->jupyter_kite>=2.0.0->jupyterlab-kite>=2.0.2) (0.13.1)\n",
      "Requirement already satisfied: traitlets>=5.1 in c:\\users\\rafael\\anaconda3\\lib\\site-packages (from jupyter-server>=1.1.2->jupyter_kite>=2.0.0->jupyterlab-kite>=2.0.2) (5.1.1)\n",
      "Requirement already satisfied: pywinpty in c:\\users\\rafael\\anaconda3\\lib\\site-packages (from jupyter-server>=1.1.2->jupyter_kite>=2.0.0->jupyterlab-kite>=2.0.2) (2.0.2)\n",
      "Requirement already satisfied: prometheus-client in c:\\users\\rafael\\anaconda3\\lib\\site-packages (from jupyter-server>=1.1.2->jupyter_kite>=2.0.0->jupyterlab-kite>=2.0.2) (0.14.1)\n",
      "Requirement already satisfied: argon2-cffi in c:\\users\\rafael\\anaconda3\\lib\\site-packages (from jupyter-server>=1.1.2->jupyter_kite>=2.0.0->jupyterlab-kite>=2.0.2) (21.3.0)\n",
      "Requirement already satisfied: nbconvert>=6.4.4 in c:\\users\\rafael\\anaconda3\\lib\\site-packages (from jupyter-server>=1.1.2->jupyter_kite>=2.0.0->jupyterlab-kite>=2.0.2) (6.4.4)\n",
      "Requirement already satisfied: Send2Trash in c:\\users\\rafael\\anaconda3\\lib\\site-packages (from jupyter-server>=1.1.2->jupyter_kite>=2.0.0->jupyterlab-kite>=2.0.2) (1.8.0)\n",
      "Requirement already satisfied: pywin32>=1.0 in c:\\users\\rafael\\anaconda3\\lib\\site-packages (from jupyter-core->jupyterlab<4.0.0a0,>=3.0.0->jupyterlab-kite>=2.0.2) (302)\n",
      "Requirement already satisfied: json5 in c:\\users\\rafael\\anaconda3\\lib\\site-packages (from jupyterlab-server~=2.10->jupyterlab<4.0.0a0,>=3.0.0->jupyterlab-kite>=2.0.2) (0.9.6)\n",
      "Requirement already satisfied: requests in c:\\users\\rafael\\anaconda3\\lib\\site-packages (from jupyterlab-server~=2.10->jupyterlab<4.0.0a0,>=3.0.0->jupyterlab-kite>=2.0.2) (2.28.1)\n",
      "Requirement already satisfied: jsonschema>=3.0.1 in c:\\users\\rafael\\anaconda3\\lib\\site-packages (from jupyterlab-server~=2.10->jupyterlab<4.0.0a0,>=3.0.0->jupyterlab-kite>=2.0.2) (4.4.0)\n",
      "Requirement already satisfied: babel in c:\\users\\rafael\\anaconda3\\lib\\site-packages (from jupyterlab-server~=2.10->jupyterlab<4.0.0a0,>=3.0.0->jupyterlab-kite>=2.0.2) (2.9.1)\n",
      "Requirement already satisfied: ipython-genutils in c:\\users\\rafael\\anaconda3\\lib\\site-packages (from notebook<7->jupyterlab<4.0.0a0,>=3.0.0->jupyterlab-kite>=2.0.2) (0.2.0)\n",
      "Requirement already satisfied: nest-asyncio>=1.5 in c:\\users\\rafael\\anaconda3\\lib\\site-packages (from notebook<7->jupyterlab<4.0.0a0,>=3.0.0->jupyterlab-kite>=2.0.2) (1.5.5)\n",
      "Requirement already satisfied: ipykernel in c:\\users\\rafael\\anaconda3\\lib\\site-packages (from notebook<7->jupyterlab<4.0.0a0,>=3.0.0->jupyterlab-kite>=2.0.2) (6.15.2)\n",
      "Requirement already satisfied: backcall in c:\\users\\rafael\\anaconda3\\lib\\site-packages (from ipython->jupyterlab<4.0.0a0,>=3.0.0->jupyterlab-kite>=2.0.2) (0.2.0)\n",
      "Requirement already satisfied: decorator in c:\\users\\rafael\\anaconda3\\lib\\site-packages (from ipython->jupyterlab<4.0.0a0,>=3.0.0->jupyterlab-kite>=2.0.2) (5.1.1)\n",
      "Requirement already satisfied: pygments in c:\\users\\rafael\\anaconda3\\lib\\site-packages (from ipython->jupyterlab<4.0.0a0,>=3.0.0->jupyterlab-kite>=2.0.2) (2.11.2)\n",
      "Requirement already satisfied: matplotlib-inline in c:\\users\\rafael\\anaconda3\\lib\\site-packages (from ipython->jupyterlab<4.0.0a0,>=3.0.0->jupyterlab-kite>=2.0.2) (0.1.6)\n",
      "Requirement already satisfied: colorama in c:\\users\\rafael\\anaconda3\\lib\\site-packages (from ipython->jupyterlab<4.0.0a0,>=3.0.0->jupyterlab-kite>=2.0.2) (0.4.5)\n",
      "Requirement already satisfied: jedi>=0.16 in c:\\users\\rafael\\anaconda3\\lib\\site-packages (from ipython->jupyterlab<4.0.0a0,>=3.0.0->jupyterlab-kite>=2.0.2) (0.18.1)\n",
      "Requirement already satisfied: pickleshare in c:\\users\\rafael\\anaconda3\\lib\\site-packages (from ipython->jupyterlab<4.0.0a0,>=3.0.0->jupyterlab-kite>=2.0.2) (0.7.5)\n",
      "Requirement already satisfied: prompt-toolkit!=3.0.0,!=3.0.1,<3.1.0,>=2.0.0 in c:\\users\\rafael\\anaconda3\\lib\\site-packages (from ipython->jupyterlab<4.0.0a0,>=3.0.0->jupyterlab-kite>=2.0.2) (3.0.20)\n",
      "Requirement already satisfied: setuptools>=18.5 in c:\\users\\rafael\\anaconda3\\lib\\site-packages (from ipython->jupyterlab<4.0.0a0,>=3.0.0->jupyterlab-kite>=2.0.2) (63.4.1)\n",
      "Requirement already satisfied: pyparsing!=3.0.5,>=2.0.2 in c:\\users\\rafael\\anaconda3\\lib\\site-packages (from packaging->jupyterlab<4.0.0a0,>=3.0.0->jupyterlab-kite>=2.0.2) (3.0.9)\n",
      "Requirement already satisfied: sniffio>=1.1 in c:\\users\\rafael\\anaconda3\\lib\\site-packages (from anyio<4,>=3.1.0->jupyter-server>=1.1.2->jupyter_kite>=2.0.0->jupyterlab-kite>=2.0.2) (1.2.0)\n",
      "Requirement already satisfied: idna>=2.8 in c:\\users\\rafael\\anaconda3\\lib\\site-packages (from anyio<4,>=3.1.0->jupyter-server>=1.1.2->jupyter_kite>=2.0.0->jupyterlab-kite>=2.0.2) (3.3)\n",
      "Requirement already satisfied: parso<0.9.0,>=0.8.0 in c:\\users\\rafael\\anaconda3\\lib\\site-packages (from jedi>=0.16->ipython->jupyterlab<4.0.0a0,>=3.0.0->jupyterlab-kite>=2.0.2) (0.8.3)\n",
      "Requirement already satisfied: attrs>=17.4.0 in c:\\users\\rafael\\anaconda3\\lib\\site-packages (from jsonschema>=3.0.1->jupyterlab-server~=2.10->jupyterlab<4.0.0a0,>=3.0.0->jupyterlab-kite>=2.0.2) (21.4.0)\n",
      "Requirement already satisfied: pyrsistent!=0.17.0,!=0.17.1,!=0.17.2,>=0.14.0 in c:\\users\\rafael\\anaconda3\\lib\\site-packages (from jsonschema>=3.0.1->jupyterlab-server~=2.10->jupyterlab<4.0.0a0,>=3.0.0->jupyterlab-kite>=2.0.2) (0.18.0)\n",
      "Requirement already satisfied: python-dateutil>=2.8.2 in c:\\users\\rafael\\anaconda3\\lib\\site-packages (from jupyter-client>=6.1.12->jupyter-server>=1.1.2->jupyter_kite>=2.0.0->jupyterlab-kite>=2.0.2) (2.8.2)\n",
      "Requirement already satisfied: defusedxml in c:\\users\\rafael\\anaconda3\\lib\\site-packages (from nbconvert>=6.4.4->jupyter-server>=1.1.2->jupyter_kite>=2.0.0->jupyterlab-kite>=2.0.2) (0.7.1)\n",
      "Requirement already satisfied: testpath in c:\\users\\rafael\\anaconda3\\lib\\site-packages (from nbconvert>=6.4.4->jupyter-server>=1.1.2->jupyter_kite>=2.0.0->jupyterlab-kite>=2.0.2) (0.6.0)\n",
      "Requirement already satisfied: beautifulsoup4 in c:\\users\\rafael\\anaconda3\\lib\\site-packages (from nbconvert>=6.4.4->jupyter-server>=1.1.2->jupyter_kite>=2.0.0->jupyterlab-kite>=2.0.2) (4.11.1)\n",
      "Requirement already satisfied: nbclient<0.6.0,>=0.5.0 in c:\\users\\rafael\\anaconda3\\lib\\site-packages (from nbconvert>=6.4.4->jupyter-server>=1.1.2->jupyter_kite>=2.0.0->jupyterlab-kite>=2.0.2) (0.5.13)\n",
      "Requirement already satisfied: bleach in c:\\users\\rafael\\anaconda3\\lib\\site-packages (from nbconvert>=6.4.4->jupyter-server>=1.1.2->jupyter_kite>=2.0.0->jupyterlab-kite>=2.0.2) (4.1.0)\n",
      "Requirement already satisfied: mistune<2,>=0.8.1 in c:\\users\\rafael\\anaconda3\\lib\\site-packages (from nbconvert>=6.4.4->jupyter-server>=1.1.2->jupyter_kite>=2.0.0->jupyterlab-kite>=2.0.2) (0.8.4)\n",
      "Requirement already satisfied: pandocfilters>=1.4.1 in c:\\users\\rafael\\anaconda3\\lib\\site-packages (from nbconvert>=6.4.4->jupyter-server>=1.1.2->jupyter_kite>=2.0.0->jupyterlab-kite>=2.0.2) (1.5.0)\n",
      "Requirement already satisfied: jupyterlab-pygments in c:\\users\\rafael\\anaconda3\\lib\\site-packages (from nbconvert>=6.4.4->jupyter-server>=1.1.2->jupyter_kite>=2.0.0->jupyterlab-kite>=2.0.2) (0.1.2)\n",
      "Requirement already satisfied: fastjsonschema in c:\\users\\rafael\\anaconda3\\lib\\site-packages (from nbformat>=5.2.0->jupyter-server>=1.1.2->jupyter_kite>=2.0.0->jupyterlab-kite>=2.0.2) (2.16.2)\n",
      "Requirement already satisfied: wcwidth in c:\\users\\rafael\\anaconda3\\lib\\site-packages (from prompt-toolkit!=3.0.0,!=3.0.1,<3.1.0,>=2.0.0->ipython->jupyterlab<4.0.0a0,>=3.0.0->jupyterlab-kite>=2.0.2) (0.2.5)\n",
      "Requirement already satisfied: argon2-cffi-bindings in c:\\users\\rafael\\anaconda3\\lib\\site-packages (from argon2-cffi->jupyter-server>=1.1.2->jupyter_kite>=2.0.0->jupyterlab-kite>=2.0.2) (21.2.0)\n",
      "Requirement already satisfied: pytz>=2015.7 in c:\\users\\rafael\\anaconda3\\lib\\site-packages (from babel->jupyterlab-server~=2.10->jupyterlab<4.0.0a0,>=3.0.0->jupyterlab-kite>=2.0.2) (2022.1)\n",
      "Requirement already satisfied: psutil in c:\\users\\rafael\\anaconda3\\lib\\site-packages (from ipykernel->notebook<7->jupyterlab<4.0.0a0,>=3.0.0->jupyterlab-kite>=2.0.2) (5.9.0)\n",
      "Requirement already satisfied: debugpy>=1.0 in c:\\users\\rafael\\anaconda3\\lib\\site-packages (from ipykernel->notebook<7->jupyterlab<4.0.0a0,>=3.0.0->jupyterlab-kite>=2.0.2) (1.5.1)\n",
      "Requirement already satisfied: certifi>=2017.4.17 in c:\\users\\rafael\\anaconda3\\lib\\site-packages (from requests->jupyterlab-server~=2.10->jupyterlab<4.0.0a0,>=3.0.0->jupyterlab-kite>=2.0.2) (2022.9.14)\n",
      "Requirement already satisfied: charset-normalizer<3,>=2 in c:\\users\\rafael\\anaconda3\\lib\\site-packages (from requests->jupyterlab-server~=2.10->jupyterlab<4.0.0a0,>=3.0.0->jupyterlab-kite>=2.0.2) (2.0.4)\n",
      "Requirement already satisfied: urllib3<1.27,>=1.21.1 in c:\\users\\rafael\\anaconda3\\lib\\site-packages (from requests->jupyterlab-server~=2.10->jupyterlab<4.0.0a0,>=3.0.0->jupyterlab-kite>=2.0.2) (1.26.11)\n",
      "Requirement already satisfied: six in c:\\users\\rafael\\anaconda3\\lib\\site-packages (from websocket-client->jupyter-server>=1.1.2->jupyter_kite>=2.0.0->jupyterlab-kite>=2.0.2) (1.16.0)\n",
      "Requirement already satisfied: cffi>=1.0.1 in c:\\users\\rafael\\anaconda3\\lib\\site-packages (from argon2-cffi-bindings->argon2-cffi->jupyter-server>=1.1.2->jupyter_kite>=2.0.0->jupyterlab-kite>=2.0.2) (1.15.1)\n",
      "Requirement already satisfied: soupsieve>1.2 in c:\\users\\rafael\\anaconda3\\lib\\site-packages (from beautifulsoup4->nbconvert>=6.4.4->jupyter-server>=1.1.2->jupyter_kite>=2.0.0->jupyterlab-kite>=2.0.2) (2.3.1)\n",
      "Requirement already satisfied: webencodings in c:\\users\\rafael\\anaconda3\\lib\\site-packages (from bleach->nbconvert>=6.4.4->jupyter-server>=1.1.2->jupyter_kite>=2.0.0->jupyterlab-kite>=2.0.2) (0.5.1)\n",
      "Requirement already satisfied: pycparser in c:\\users\\rafael\\anaconda3\\lib\\site-packages (from cffi>=1.0.1->argon2-cffi-bindings->argon2-cffi->jupyter-server>=1.1.2->jupyter_kite>=2.0.0->jupyterlab-kite>=2.0.2) (2.21)\n"
     ]
    }
   ],
   "source": [
    "!pip install \"jupyterlab-kite>=2.0.2\""
   ]
  },
  {
   "cell_type": "markdown",
   "id": "b61e6f5e",
   "metadata": {},
   "source": [
    "# **Método de espaços de estados**\n",
    "## Roteiro livro \"Sistemas de controle para Engenharia (Gene Franklin)\"\n",
    "\n",
    "Fundamento principal: representar uma equação diferencial de ordem $n$ através de $n$ equações de primeira ordem, *acopladas*. Essas equações são chamadas de **equações de estados**\n",
    "\n",
    "O termo \"acopladas\" quer dizer que a diferencial de uma variável depende de outras variáveis diferenciais\n",
    "\n",
    "Na equação diferencial ordinária (EDO) queremos encontrar uma função que resolva a equação. Em termos de sistema, isso representa o sinal de saída do sistema.\n",
    "\n",
    "Vamos usar muito a representação de \"ponto\" para derivada, isto é: \n",
    "\n",
    "$$\n",
    "\\begin{align}\n",
    "    \\frac{dx(t)}{dt} &= \\dot{x}(t) \\text{ ou simplesmente } \\dot{x}\\\\\n",
    "    \\frac{d^2x(t)}{dt^2} &= \\ddot{x}(t) \\text{ ou simplesmente } \\ddot{x}\n",
    "\\end{align}\n",
    "$$"
   ]
  },
  {
   "cell_type": "markdown",
   "id": "4947f013",
   "metadata": {},
   "source": [
    "Exemplo: supondo $x_1$ e $x_2$ variáveis de estado, $u$ sinal e entrada e $y$ sinal de saída\n",
    "\n",
    "$$\n",
    "\\begin{align}\n",
    "    \\dot{x}_1 &= x_2\\\\\n",
    "    \\dot{x}_2 &= -x_1-x_2+8u\\\\\n",
    "    y &= 9x_1+x_2\n",
    "\\end{align}\n",
    "$$"
   ]
  },
  {
   "cell_type": "markdown",
   "id": "2938dc8a",
   "metadata": {},
   "source": [
    "## Detalhes da representação\n",
    "\n",
    "* Repare o uso de negrito para representar grandezas matriciais\n",
    "* O número de equações de estado (diferenciais) é igual ao número de variáveis de estado, que é igual a ordem do sistema.\n",
    "* A interpretação de ordem aqui é a mesma de \"ordem\" da equação diferencial\n",
    "\n",
    "Quando o sistema é linear, a representação de estados de qualquer ordem pode ser dada por uma representação através de **matrizes**\n",
    "\n",
    "$$\n",
    "\\begin{align}\n",
    "    \\mathbf{\\dot{x}} &= \\mathbf{Ax} + \\mathbf{B}u\\\\\n",
    "    y &= \\mathbf{Cx} + Du\n",
    "\\end{align}\n",
    "$$\n",
    "\n",
    "No nosso caso, vamos sempre considerar que o sistema é 1-entrada-1-saída (SISO). Neste caso as matrizes de um sistema de ordem $n$ tem, necessariamente, as dimensões:\n",
    "* $\\mathbf{A}$: $n\\times n$ (quadrada de ordem $n$)\n",
    "* $\\mathbf{B}$: $n\\times 1$ (vetor coluna de $n$ elementos)\n",
    "* $\\mathbf{C}$: $n\\times n$ (vetor linha de $n$ elementos)\n",
    "* $D$: $1\\times 1$ (escalar)\n",
    "\n",
    "**Exemplo: **\n",
    "$$\n",
    "\\begin{align}\n",
    "    \\mathbf{\\dot{x}} &= \\left[\\begin{array}{rr} 0 & 1\\\\-1 & -1 \\end{array} \\right]\\mathbf{x} + \n",
    "    \\left[\\begin{array}{r} -2 \\\\ 5\\end{array}\\right]u\\\\\n",
    "    y &= \\left[\\begin{array}{rr} 3 & 1\\end{array} \\right]\\mathbf{x}\n",
    "\\end{align}\n",
    "$$"
   ]
  },
  {
   "cell_type": "markdown",
   "id": "2944c32e",
   "metadata": {},
   "source": [
    "Solução do exemplo 7.2"
   ]
  },
  {
   "cell_type": "code",
   "execution_count": 11,
   "id": "9e18bdf0",
   "metadata": {},
   "outputs": [],
   "source": [
    "from control import *\n",
    "b_m = 0.05\n",
    "_1m = 0.001\n",
    "F = [[0,1],[0, -b_m]]\n",
    "G = [[0],[_1m]]\n",
    "H = [[1,0]]\n",
    "J = 0\n",
    "sys = ss(F,G,H,J)"
   ]
  },
  {
   "cell_type": "code",
   "execution_count": 13,
   "id": "d9ddfffa",
   "metadata": {},
   "outputs": [
    {
     "ename": "NameError",
     "evalue": "name 'kite' is not defined",
     "output_type": "error",
     "traceback": [
      "\u001b[1;31m---------------------------------------------------------------------------\u001b[0m",
      "\u001b[1;31mNameError\u001b[0m                                 Traceback (most recent call last)",
      "\u001b[1;32m~\\AppData\\Local\\Temp\\ipykernel_8408\\358474012.py\u001b[0m in \u001b[0;36m<module>\u001b[1;34m\u001b[0m\n\u001b[1;32m----> 1\u001b[1;33m \u001b[0mkite\u001b[0m\u001b[1;33m\u001b[0m\u001b[1;33m\u001b[0m\u001b[0m\n\u001b[0m",
      "\u001b[1;31mNameError\u001b[0m: name 'kite' is not defined"
     ]
    }
   ],
   "source": [
    "kite"
   ]
  }
 ],
 "metadata": {
  "kernelspec": {
   "display_name": "Python 3 (ipykernel)",
   "language": "python",
   "name": "python3"
  },
  "language_info": {
   "codemirror_mode": {
    "name": "ipython",
    "version": 3
   },
   "file_extension": ".py",
   "mimetype": "text/x-python",
   "name": "python",
   "nbconvert_exporter": "python",
   "pygments_lexer": "ipython3",
   "version": "3.9.12"
  }
 },
 "nbformat": 4,
 "nbformat_minor": 5
}
