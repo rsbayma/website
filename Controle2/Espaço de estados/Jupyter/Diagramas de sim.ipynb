## Diagramas de simulação, formas canônicas
