{
 "cells": [
  {
   "cell_type": "markdown",
   "metadata": {},
   "source": [
    "<br> <br> <br>\n",
    "\n",
    "[Sistemas de controle II - Formato apostila](./Livro/index.html)\n",
    "\n",
    "[Sistemas de controle II - Formato slides](./Slides/slides_index.html)\n",
    "\n",
    "\n"
   ]
  }
 ],
 "metadata": {
  "kernelspec": {
   "display_name": "Python 3",
   "language": "python",
   "name": "python3"
  },
  "language_info": {
   "name": "python",
   "version": "3.12.1"
  }
 },
 "nbformat": 4,
 "nbformat_minor": 2
}
