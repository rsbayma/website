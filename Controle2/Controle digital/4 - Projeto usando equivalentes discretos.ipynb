{
 "cells": [
  {
   "attachments": {},
   "cell_type": "markdown",
   "id": "124cc0b7",
   "metadata": {},
   "source": [
    "# Projeto usando equivalentes discretos\n",
    "\n",
    "Objetivo: digitalizar (isto é, obter a equação de diferenças) de um controlador **contínuo** que já está projetado. \n",
    "\n",
    "O resultado é obtido em duas partes:  \n",
    "\n",
    "    1 - Obtem-se uma função de transferência discreta a partir de uma contínua\n",
    "    2 - Converte-se a função discreta em uma equação de diferenças\n",
    "\n",
    "A equação de diferenças pode ser implementada no microcontrolador sem grandes dificuldades. \n",
    "\n",
    "A seguir vemos 2 métodos para fazer a parte (1)."
   ]
  },
  {
   "attachments": {},
   "cell_type": "markdown",
   "id": "49edc179",
   "metadata": {
    "toc-hr-collapsed": true
   },
   "source": [
    "## Método de Tustin\n",
    "\n",
    "Idéia central: tratar a aproximação discreta como integração numérica\n",
    "\n",
    "<p align=\"center\">\n",
    "    <img src=\"Fig8.7.svg\">\n",
    "</p>\n",
    "\n",
    "$$\n",
    "\\begin{align}\n",
    "    u[k] = u[k-1] + \\frac{T}{2}\\left(e[k]+e[k-1]\\right)\n",
    "\\end{align}\n",
    "$$\n",
    "\n",
    "Transformando:  \n",
    "$$\n",
    "\\begin{align}\n",
    "    \\frac{U(z)}{E(z)} = \\frac{T}{2}\\,\\frac{1+z^{-1}}{1-z^{-1}}\n",
    "\\end{align}\n",
    "$$\n",
    "\n",
    "$$\n",
    "\\begin{align}\n",
    "    s \\longmapsto \\frac{2}{T}\\,\\frac{1-z^{-1}}{1+z^{-1}} = \\frac{2}{T}\\,\\frac{z-1}{z+1}\n",
    "\\end{align}\n",
    "$$"
   ]
  },
  {
   "attachments": {},
   "cell_type": "markdown",
   "id": "41efcfbb",
   "metadata": {},
   "source": [
    "**Outra forma de deduzir**\n",
    "\n",
    "Série de Taylor: $e^{x} \\approx 1 + x$\n",
    "\n",
    "Então\n",
    "$$\n",
    "\\begin{align}\n",
    "    z = e^{sT} = \\frac{e^{sT/2}}{e^{-sT/2}} \\approx \\frac{1+sT/2}{1-sT/2} \n",
    "\\end{align}\n",
    "$$\n",
    "\n",
    "Resolvendo $s$ em função de $z$ resulta na mesma equação.\n"
   ]
  },
  {
   "attachments": {},
   "cell_type": "markdown",
   "id": "ecd894d5",
   "metadata": {},
   "source": [
    "**Exemplo 8.1:**\n",
    "\n",
    "$$\n",
    "\\begin{align}\n",
    "    D(s) = 10\\,\\frac{s/2+1}{s/10+1}\n",
    "\\end{align}\n",
    "$$\n",
    "\n",
    "$\\omega_s = 25\\cdot \\omega_{BW} =250$ rad/s. \n",
    "\n",
    "$f_s \\approx 40$ Hz. $T =1/40 = 0.025$ seg. "
   ]
  },
  {
   "cell_type": "code",
   "execution_count": 1,
   "id": "8c6a82c1-8d48-4e8c-8edc-72f759bc0d1c",
   "metadata": {
    "tags": []
   },
   "outputs": [
    {
     "name": "stdout",
     "output_type": "stream",
     "text": [
      "Contínuo:  \n",
      "5 s + 10\n",
      "---------\n",
      "0.1 s + 1\n",
      "\n",
      "Discreto:  \n",
      "45.56 z - 43.33\n",
      "---------------\n",
      "  z - 0.7778\n",
      "\n",
      "dt = 0.025\n",
      "\n"
     ]
    }
   ],
   "source": [
    "#@ Conversão usando função c2d\n",
    "import control as ct\n",
    "\n",
    "T = 0.025\n",
    "Ds = 10*ct.tf([1/2,1],[1/10,1])\n",
    "print('Contínuo: ',Ds)\n",
    "Dz = ct.c2d(Ds,T,method='bilinear')\n",
    "print('Discreto: ', Dz)"
   ]
  },
  {
   "cell_type": "code",
   "execution_count": 2,
   "id": "e9ba6a21-0705-4214-b331-50f25758c421",
   "metadata": {
    "tags": []
   },
   "outputs": [
    {
     "name": "stdout",
     "output_type": "stream",
     "text": [
      "Usando simbólico\n"
     ]
    },
    {
     "data": {
      "text/latex": [
       "$\\displaystyle \\frac{10 \\cdot \\left(410.0 z - 390.0\\right)}{90.0 z - 70.0}$"
      ],
      "text/plain": [
       "10*(410.0*z - 390.0)/(90.0*z - 70.0)"
      ]
     },
     "execution_count": 2,
     "metadata": {},
     "output_type": "execute_result"
    }
   ],
   "source": [
    "# Pode-se fazer usando SymPy também\n",
    "import sympy as sp\n",
    "from IPython.display import display \n",
    "\n",
    "T = 0.025\n",
    "s,z = sp.symbols(['s', 'z'])\n",
    "Ds = 10*(s/2+1)/(s/10+1)\n",
    "Dz =  Ds.subs(s,(2/T)*(z-1)/(z+1))\n",
    "print('Usando simbólico')\n",
    "Dz = Dz.simplify()\n",
    "Dz"
   ]
  },
  {
   "attachments": {},
   "cell_type": "markdown",
   "id": "67090df0-75b2-4b75-9792-964cbc62daf9",
   "metadata": {},
   "source": [
    "Sempre é bom fazer uma simulação e ver se os resultados são coerentes. Tente melhorar os resultados com o período de amostragem. "
   ]
  },
  {
   "cell_type": "code",
   "execution_count": 3,
   "id": "efa2a666-850c-481f-9f95-e9cbb3d3c51f",
   "metadata": {
    "tags": []
   },
   "outputs": [
    {
     "data": {
      "image/png": "[encoded data removed]",
      "text/plain": [
       "<Figure size 640x480 with 1 Axes>"
      ]
     },
     "metadata": {},
     "output_type": "display_data"
    }
   ],
   "source": [
    "T = 0.001\n",
    "Ds = 10*ct.tf([1/2,1],[1/10,1])\n",
    "Dz = ct.c2d(Ds,T,method='bilinear')\n",
    "td,yd = ct.step_response(Dz,0.5)\n",
    "t,y = ct.step_response(Ds,0.5)\n",
    "from matplotlib import pyplot as plt\n",
    "\n",
    "plt.plot(t,y,label='contínuo')\n",
    "plt.step(td,yd,label='Tustin')\n",
    "plt.grid()\n",
    "plt.legend()\n",
    "plt.show()"
   ]
  },
  {
   "cell_type": "code",
   "execution_count": 4,
   "id": "87323145",
   "metadata": {},
   "outputs": [],
   "source": [
    "#u_1\n",
    "#e_1\n",
    "\n",
    "#while True:\n",
    "#    y = le_sensor();\n",
    "#    r = 1;\n",
    "#    e = r-y;\n",
    "#    u = 0.7778*u_1+45.56*e-43.33*e_1;\n",
    "#    U = map(u,0,255)\n",
    "#    analog_write(U)\n",
    "#    u_1 = u\n",
    "#    e_1 = e\n",
    "#    k = k+1\n"
   ]
  },
  {
   "attachments": {},
   "cell_type": "markdown",
   "id": "f8278806",
   "metadata": {
    "tags": []
   },
   "source": [
    "## Mapeamento de pólos e zeros\n",
    "\n",
    "- Calcule um pólo/zero discreto para cada pólo/zero contínuo usando $z=e^{sT}$. \n",
    "- Iguale o número de zeros ao de pólos adicionando termos $(z+1)$ ao numerador\n",
    "- Multiplique a função de transferência por um ganho de modo que o ganho DC discreto seja igual ao contínuo. "
   ]
  },
  {
   "attachments": {},
   "cell_type": "markdown",
   "id": "f2545079",
   "metadata": {},
   "source": [
    "**Exemplo 8.2**: \n",
    "\n",
    "O controlador encontrado é $D(s) = 0.81\\,\\displaystyle\\frac{s+0.2}{s+2}$. O período de amostragem estabelecido é 1 segundo. O controlador possui um pólo em $s=-2$ e um zero $s=-0.2$.\n",
    "\n",
    "Como o controlador tem o mesmo número de pólos e zeros, então o controlador digital deverá ser da forma:\n",
    "$$\n",
    "\\begin{align}\n",
    "    \\hat{D}(z) &= K \\frac{z-a}{z-b}\n",
    "\\end{align}\n",
    "$$\n",
    "\n",
    "Cálculo do pólo: $b = \\exp(-2\\cdot 1)$ (resultado será visto em Python)  \n",
    "Cálculo do zero: $a = \\exp(-0.2\\cdot 1)$  \n",
    "\n",
    "O ganho digital $K$ é calculado igualando os ganhos DC da FT contínua e discreta, $D(0)=\\hat{D}(1)$.\n"
   ]
  },
  {
   "cell_type": "code",
   "execution_count": 5,
   "id": "b545c32d-838b-4928-b4eb-3edb6dd0dd7b",
   "metadata": {
    "jupyter": {
     "source_hidden": true
    },
    "tags": []
   },
   "outputs": [
    {
     "name": "stdout",
     "output_type": "stream",
     "text": [
      "Substituindo s=0 e z=1 nas funções resulta na igualdade: \n",
      "\n"
     ]
    },
    {
     "data": {
      "text/latex": [
       "$\\displaystyle 0.081 = 0.209668092980224 K$"
      ],
      "text/plain": [
       "<IPython.core.display.Math object>"
      ]
     },
     "metadata": {},
     "output_type": "display_data"
    }
   ],
   "source": [
    "## Exemplo 8.2 - resolução simbólica\n",
    "import numpy as np\n",
    "from IPython.display import display, Math\n",
    "\n",
    "dmath = lambda s: display(Math(s))\n",
    "\n",
    "T = 1\n",
    "a = np.exp(-0.2*T).round(4)\n",
    "b = np.exp(-2*T).round(4)\n",
    "\n",
    "# Resolvido com simbólico\n",
    "Ds = 0.81*(s+0.2)/(s+2)\n",
    "K = sp.symbols('K')\n",
    "Dz = K*(z-a)/(z-b)\n",
    "equacao = sp.Eq(Ds.subs(s,0), Dz.subs(z,1))\n",
    "print('Substituindo s=0 e z=1 nas funções resulta na igualdade: \\n')\n",
    "dmath(sp.latex(equacao))\n"
   ]
  },
  {
   "cell_type": "code",
   "execution_count": 6,
   "id": "5587e467-1a36-4d25-ae98-fb55b4b47831",
   "metadata": {
    "jupyter": {
     "source_hidden": true
    },
    "tags": []
   },
   "outputs": [
    {
     "name": "stdout",
     "output_type": "stream",
     "text": [
      "Resolvendo para K\n"
     ]
    },
    {
     "data": {
      "text/latex": [
       "$\\displaystyle K = 0.386324875896305$"
      ],
      "text/plain": [
       "<IPython.core.display.Math object>"
      ]
     },
     "metadata": {},
     "output_type": "display_data"
    }
   ],
   "source": [
    "print('Resolvendo para K')\n",
    "sol = sp.solve(equacao)\n",
    "display(Math('K = ' + sp.latex(sol[0])))"
   ]
  },
  {
   "cell_type": "code",
   "execution_count": 7,
   "id": "f8c26047-8e75-4bf2-8dc1-28044c54de98",
   "metadata": {
    "jupyter": {
     "source_hidden": true
    },
    "tags": []
   },
   "outputs": [
    {
     "name": "stdout",
     "output_type": "stream",
     "text": [
      "Então: \n"
     ]
    },
    {
     "data": {
      "text/latex": [
       "$\\displaystyle D(z) = \\frac{0.3863 \\left(z - 0.8187\\right)}{z - 0.1353}$"
      ],
      "text/plain": [
       "<IPython.core.display.Math object>"
      ]
     },
     "metadata": {},
     "output_type": "display_data"
    },
    {
     "data": {
      "text/latex": [
       "$\\displaystyle D(z) = \\frac{0.3863 z - 0.31626310043335}{z - 0.1353}$"
      ],
      "text/plain": [
       "<IPython.core.display.Math object>"
      ]
     },
     "metadata": {},
     "output_type": "display_data"
    }
   ],
   "source": [
    "print('Então: ')\n",
    "Dz = Dz.subs(K,sol[0].round(4))\n",
    "display(Math('D(z) = ' + sp.latex(Dz)))\n",
    "display(Math('D(z) = ' + r'\\frac{' + sp.latex(sp.numer(Dz)) + r'}{' + sp.latex(sp.denom(Dz)) + r'}'))"
   ]
  },
  {
   "attachments": {},
   "cell_type": "markdown",
   "id": "7d6811ef-8fe2-46d7-b4f1-215d38f94708",
   "metadata": {},
   "source": [
    "Fazer com o módulo \"control\" é um pouco mais direto. Acompanhe:"
   ]
  },
  {
   "cell_type": "code",
   "execution_count": 8,
   "id": "c72cf4cb-78f8-46d7-81d4-6fad55075ff6",
   "metadata": {
    "tags": []
   },
   "outputs": [
    {
     "data": {
      "text/latex": [
       "$$\\frac{0.081 z - 0.08068}{0.1018 z - 0.09782}\\quad dt = 0.02$$"
      ],
      "text/plain": [
       "TransferFunction(array([ 0.081     , -0.08067665]), array([ 0.10180958, -0.09781757]), 0.02)"
      ]
     },
     "execution_count": 8,
     "metadata": {},
     "output_type": "execute_result"
    }
   ],
   "source": [
    "Ds = 0.81*ct.tf([1,0.2],[1,2])         # Define a FT continua\n",
    "T = 0.020                               # Período de amostragem\n",
    "a = np.exp(T*Ds.zeros())               # Calcula todos os zeros de D(s)\n",
    "b = np.exp(T*Ds.poles())               # Calcula todos os polos de D(s)\n",
    "num = np.poly(a)                       # Calcula o polinomio numerador\n",
    "den = np.poly(b)                       # Calcula o polinômio denominador\n",
    "Dz = ct.tf(num,den,T)                  # Define a FT discreta sem ganho\n",
    "Dz = Dz*Ds.dcgain()/Dz.dcgain()        # Redefine com o ganho correto\n",
    "Dz"
   ]
  },
  {
   "attachments": {},
   "cell_type": "markdown",
   "id": "b57e81e8-ac7e-4b9e-80bb-54592adf2be1",
   "metadata": {},
   "source": [
    "Vamos fazer uma simulação para conferir:"
   ]
  },
  {
   "cell_type": "code",
   "execution_count": 9,
   "id": "47ab011c-4ad7-4afa-a207-8382520e37f0",
   "metadata": {
    "tags": []
   },
   "outputs": [
    {
     "data": {
      "image/png": "[encoded data removed]",
      "text/plain": [
       "<Figure size 640x480 with 1 Axes>"
      ]
     },
     "metadata": {},
     "output_type": "display_data"
    }
   ],
   "source": [
    "t,y = ct.step_response(Ds,1.5)\n",
    "k,yd = ct.step_response(Dz,1.5)\n",
    "plt.plot(t,y,label='Contínuo')\n",
    "plt.step(k,yd,label='Mapeamento')\n",
    "plt.grid()\n",
    "plt.xlabel('Tempo (seg)')\n",
    "plt.legend()\n",
    "plt.show()\n"
   ]
  },
  {
   "attachments": {},
   "cell_type": "markdown",
   "id": "51b59f5e-035a-4f45-89d6-d75c83dbf391",
   "metadata": {},
   "source": [
    "### **Exemplo um pouco mais complexo:**\n",
    "\n",
    "Ache o equivalente por mapeamento da função:\n",
    "$$\n",
    "\\begin{align}\n",
    "    G(s) &= \\frac{s^2-1}{s(s^2+16)}\n",
    "\\end{align}\n",
    "$$\n",
    "\n",
    "Utilize $T=0.01$. "
   ]
  },
  {
   "cell_type": "code",
   "execution_count": 17,
   "id": "b92c5884",
   "metadata": {},
   "outputs": [
    {
     "data": {
      "text/plain": [
       "[0.951229424500714,\n",
       " 1.0512710963760241,\n",
       " 1.0,\n",
       " (0.9800665778412416+0.19866933079506122j),\n",
       " (0.9800665778412416-0.19866933079506122j)]"
      ]
     },
     "execution_count": 17,
     "metadata": {},
     "output_type": "execute_result"
    }
   ],
   "source": [
    "from numpy import exp, round\n",
    "T = 0.05\n",
    "pz_s = [-1,1,0,4j,-4j]\n",
    "pz_z = [exp(s*T) for s in pz_s]\n",
    "pz_z"
   ]
  },
  {
   "cell_type": "code",
   "execution_count": 32,
   "id": "c9070670",
   "metadata": {},
   "outputs": [
    {
     "data": {
      "text/latex": [
       "$\\displaystyle \\frac{0.498231747038069 \\left(z - 1.05127109637602\\right) \\left(z - 0.951229424500714\\right) \\left(z + 1\\right)}{\\left(z - 1.0\\right) \\left(z - 0.980066577841242 - 0.198669330795061 i\\right) \\left(z - 0.980066577841242 + 0.198669330795061 i\\right)}$"
      ],
      "text/plain": [
       "0.498231747038069*(z - 1.05127109637602)*(z - 0.951229424500714)*(z + 1)/((z - 1.0)*(z - 0.980066577841242 - 0.198669330795061*I)*(z - 0.980066577841242 + 0.198669330795061*I))"
      ]
     },
     "execution_count": 32,
     "metadata": {},
     "output_type": "execute_result"
    }
   ],
   "source": [
    "K1, K2 = sp.symbols('K_1 K_2')\n",
    "G1 = K1*(z-pz_z[0])*(z-pz_z[1])/ \\\n",
    "    ((z-pz_z[2])*(z-pz_z[3])*(z-pz_z[4]))\n",
    "G2 = K2*(z-pz_z[0])*(z-pz_z[1])*(z+1)/ \\\n",
    "    ((z-pz_z[2])*(z-pz_z[3])*(z-pz_z[4]))\n",
    "DC1 = sp.simplify(G1*(z-1)).subs(z,1)\n",
    "DC2 = sp.simplify(G2*(z-1)).subs(z,1)\n",
    "DC = -1/16\n",
    "k1 = sp.solve(sp.Eq(DC1,DC))[0]\n",
    "k2 = sp.solve(sp.Eq(DC2,DC))[0]\n",
    "G2.subs(K2,k2)"
   ]
  },
  {
   "cell_type": "code",
   "execution_count": 40,
   "id": "ed1f753d",
   "metadata": {},
   "outputs": [
    {
     "data": {
      "text/latex": [
       "$\\displaystyle - \\frac{30}{3 s + 1} + \\frac{10}{s}$"
      ],
      "text/plain": [
       "-30/(3*s + 1) + 10/s"
      ]
     },
     "execution_count": 40,
     "metadata": {},
     "output_type": "execute_result"
    }
   ],
   "source": [
    "s,t = sp.symbols('s t')\n",
    "H = sp.apart(10/(s*(3*s+1)))\n",
    "H"
   ]
  },
  {
   "cell_type": "code",
   "execution_count": 42,
   "id": "61b5cedc",
   "metadata": {},
   "outputs": [
    {
     "data": {
      "text/latex": [
       "$\\displaystyle 10 \\theta\\left(t\\right) - 10 e^{- \\frac{t}{3}} \\theta\\left(t\\right)$"
      ],
      "text/plain": [
       "10*Heaviside(t) - 10*exp(-t/3)*Heaviside(t)"
      ]
     },
     "execution_count": 42,
     "metadata": {},
     "output_type": "execute_result"
    }
   ],
   "source": [
    "sp.inverse_laplace_transform(H,s,t).expand()"
   ]
  },
  {
   "cell_type": "code",
   "execution_count": 50,
   "id": "d0f13ba3",
   "metadata": {},
   "outputs": [
    {
     "data": {
      "text/latex": [
       "$$\\frac{0.3278}{z - 0.9672}\\quad dt = 0.1$$"
      ],
      "text/plain": [
       "TransferFunction(array([0.327839]), array([ 1.       , -0.9672161]), 0.1)"
      ]
     },
     "execution_count": 50,
     "metadata": {},
     "output_type": "execute_result"
    }
   ],
   "source": [
    "ct.c2d(ct.tf(10,[3,1]),0.1,method='zoh')"
   ]
  },
  {
   "attachments": {},
   "cell_type": "markdown",
   "id": "80408cde-7fcd-434d-94b9-8c485d353863",
   "metadata": {},
   "source": [
    "## Converter para equação de diferenças.\n",
    "\n",
    "Para converter a função do controlador para uma equação de diferenças, introduzimos os sinais de entrada e saída do controlador, distribuimos os coeficientes da equação depois aplicamos a transformada inversa. \n",
    "\n",
    "Normalmente a equação de diferenças é escrita em termos de **atrasos** (valores passados), então pode ser conveniente converter a função discreta para potências negativas antes de fazer a transformação."
   ]
  },
  {
   "attachments": {},
   "cell_type": "markdown",
   "id": "c5fcd965-e353-4013-8794-394f22eb71e4",
   "metadata": {},
   "source": [
    "## Voltando ao exemplo 8.2:\n",
    "\n",
    "Como o sistema é de ordem (grau do denominador) 1, multiplicamos numerador e denominador por $z^{-1}$.\n",
    "\n",
    "$$\n",
    "\\begin{align}\n",
    "    D(z) &= \\frac{0.3863𝑧−0.3162}{𝑧−0.1353}\\,\\cdot \\frac{z^{-1}}{z^{-1}}\\\\\n",
    "    &= \\frac{0.3863−0.3162z^{-1}}{1−0.1353z^{-1}}\n",
    "\\end{align}\n",
    "$$"
   ]
  },
  {
   "attachments": {},
   "cell_type": "markdown",
   "id": "79b627bf-28fb-4793-9f16-aba4e45b57bb",
   "metadata": {},
   "source": [
    "Introduzimos os sinais de entrada $E(z)$ (erro) e saída $U(z)$ (ação de controle) na equação e distribuimos.\n",
    "\n",
    "$$\n",
    "\\begin{align}\n",
    "    \\frac{U(z)}{E(z)}&= \\frac{0.3863−0.3162z^{-1}}{1−0.1353z^{-1}}\\\\\n",
    "    (1−0.1353z^{-1})\\,U(z) &= (0.3863−0.3162z^{-1}) E(z)\\\\\n",
    "    U(z) &= 0.1353z^{-1}U(z) + 0.3863E(z)−0.3162z^{-1}E(z)\n",
    "\\end{align}\n",
    "$$"
   ]
  },
  {
   "attachments": {},
   "cell_type": "markdown",
   "id": "8cae9da1-359c-4afe-8b47-5b49c67ed93c",
   "metadata": {},
   "source": [
    "Aplicando a transformada inversa e a propriedade do atraso temos a equação que implementa o controlador:\n",
    "\n",
    "$$\n",
    "\\begin{align}\n",
    "    u[k] &= 0.1353u[k-1] + 0.3863e[k]−0.3162e[k-1]\n",
    "\\end{align}\n",
    "$$\n"
   ]
  },
  {
   "attachments": {},
   "cell_type": "markdown",
   "id": "2c6f2587",
   "metadata": {
    "tags": []
   },
   "source": [
    "## Limitações"
   ]
  }
 ],
 "metadata": {
  "kernelspec": {
   "display_name": "Python 3 (ipykernel)",
   "language": "python",
   "name": "python3"
  },
  "language_info": {
   "codemirror_mode": {
    "name": "ipython",
    "version": 3
   },
   "file_extension": ".py",
   "mimetype": "text/x-python",
   "name": "python",
   "nbconvert_exporter": "python",
   "pygments_lexer": "ipython3",
   "version": "3.11.1"
  },
  "toc-showcode": true,
  "toc-showmarkdowntxt": false,
  "toc-showtags": false
 },
 "nbformat": 4,
 "nbformat_minor": 5
}
