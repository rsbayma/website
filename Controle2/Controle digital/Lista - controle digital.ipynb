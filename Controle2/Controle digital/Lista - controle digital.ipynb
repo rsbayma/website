{
 "cells": [
  {
   "attachments": {},
   "cell_type": "markdown",
   "metadata": {},
   "source": [
    "## **Sistemas de controle II - 2023.2**"
   ]
  },
  {
   "attachments": {},
   "cell_type": "markdown",
   "metadata": {},
   "source": [
    "<span style=\"color:blue\"> Entre com a data e seu número de matrícula abaixo. **Não tire as aspas!\"** </span>"
   ]
  },
  {
   "cell_type": "code",
   "execution_count": 5,
   "metadata": {},
   "outputs": [],
   "source": [
    "mat = '202233940099'\n",
    "dia = '26'\n",
    "mes = '05'"
   ]
  },
  {
   "attachments": {},
   "cell_type": "markdown",
   "metadata": {},
   "source": [
    "<span style=\"color:blue\"> \n",
    "Execute o notebook inteiro para gerar as suas questões. <br> \n",
    "Quando precisar, utilize no máximo 4 casas decimais. <br>\n",
    "Apresente suas soluções na ordem correta e organizadas. <br> \n",
    "Trabalhos desorganizados sofrerão penalidades.\n",
    "\n",
    "</span>  \n"
   ]
  },
  {
   "cell_type": "code",
   "execution_count": 6,
   "metadata": {},
   "outputs": [
    {
     "data": {
      "text/markdown": [
       "**(1 pt) 1:** Determine a transformada $\\mathcal{Z}$ do sinal discreto:     $$ X(z) = 4 \\cdot 0.7^{k} k u[k] + 0.7^{k} u[k] \\left(4 \\sin{\\left(7 k \\right)} - 9 \\cos{\\left(7 k \\right)}\\right) + 9 \\left(-6\\right)^{- k} u[k]$$ <br>**(1 pt) 2:** Determine a transformada $\\mathcal{Z}$ inversa da função:     $$ Y(z) = \\frac{6 z^{2} + 26.4 z + 9.6}{z^{3} \\cdot \\left(2 z - 1\\right) \\left(z^{2} - 0.784 z + 0.16\\right)}$$ <br>**(1 pt) 3:** Determine a resposta ao degrau unitário do sistema:     $$- 0.6 y[k+1] + y[k+2] + 0.05 y[k] = 2 u[k+1] + u[k+2] + u[k]$$ <br>**(1 pt) 4:** Para o sistema abaixo:     $$- 0.4 y[k+1] + 0.6 y[k+2] - 0.1 y[k] = - 5 u[k-1] + u[k-2] - 5 u[k]$$     Determine:  <br>    (a) A função de transferência  <br>    (b) Os pólos e zeros  <br>    (c) Se o sistema é estável. Justifique <br>     (d) O ganho de regime permanente, se existir  <br>    (e) Os pólos dominantes. Justifique sua resposta  <br><br> **(2 pts) 5:** Para o sistema contínuo dado determine os     equivalentes discretos Tustin, mapeamento e ZOH para o período de    amostragem $T=0.3$ seg.:$$ G(s) = \\frac{360 s + 4}{\\left(4 s + 1\\right) \\left(7 s + 1\\right)}$$ <br>**(1 pt) 6:** Qual a equação de diferenças que implementa a seguinte     função de transferência discreta?$$ \\hat{C}(z) = \\frac{5 z^{2} + 3 z}{\\left(z - 1\\right) \\left(5 z - 10\\right)}$$ <br>**(3 pts) 7:** Utilizando qualquer método de sua escolha, projete uma lei de controle digital de modo que o sistema:     $$ G(s) = \\frac{97}{s^{2} - 1}$$apresente em malha fechada uma ultrapassagem de no máximo 12%,     tempo de acomodação (critério de 5%) menor que 1 segundo e erro de regime permanente    nulo para um degrau unitário de referência. "
      ],
      "text/plain": [
       "<IPython.core.display.Markdown object>"
      ]
     },
     "metadata": {},
     "output_type": "display_data"
    }
   ],
   "source": [
    "# Gera as questões\n",
    "# Não mexa nesta célula!\n",
    "from IPython.display import display, Markdown\n",
    "from sympy import latex\n",
    "from numpy.random import RandomState\n",
    "import numpy as np\n",
    "import sympy as sp\n",
    "     \n",
    "_nn = int(mat[0:4]+mat[-2:]+dia+mes)\n",
    "_rng = RandomState(_nn)\n",
    "_M = _rng.randint(-9,10,size=(1000,))\n",
    "\n",
    "global nm\n",
    "nm= 0\n",
    "def pick(nz=False,pos=False,exc=[]):\n",
    "    global nm\n",
    "    nm +=1\n",
    "    p = _M[nm]\n",
    "    if pos==True:\n",
    "        while p <= 0:\n",
    "            nm +=1\n",
    "            p = _M[nm]\n",
    "    if len(exc)>0:\n",
    "        while p in exc:\n",
    "            nm +=1\n",
    "            p = _M[nm]\n",
    "    return p\n",
    "\n",
    "def questoes():\n",
    "    global nn, nm\n",
    "    nn=0\n",
    "    nm=0\n",
    "\n",
    "    A, B, C1, C2,a = [pick(exc=[0]) for n in range(5)]\n",
    "    w = pick(pos=True)\n",
    "    b = pick(exc=[0])/10\n",
    "    c = pick(exc=[0])/10\n",
    "    k = sp.symbols('k')\n",
    "    u = sp.symbols('u[k]')\n",
    "    x = A*a**(-k)*u + B*k*b**k*u + c**k*(C1*sp.cos(w*k)+C2*sp.sin(w*k))*u\n",
    "    q1 = '**(1 pt) 1:** Determine a transformada $\\mathcal{Z}$ do sinal discreto: \\\n",
    "    $$ X(z) = ' + latex(x) + '$$ <br>'\n",
    "\n",
    "\n",
    "    cos = sp.cos\n",
    "    z = sp.symbols('z')\n",
    "    a = pick(exc=[0],pos=True)\n",
    "    b = pick(exc=[a])\n",
    "    c = pick(exc=[0])/10\n",
    "    d = pick(exc=[0])/10\n",
    "    k = pick(pos=True)\n",
    "    k1 = pick(exc=[a,b])/10\n",
    "    k2 = pick(exc=[a,b])\n",
    "    num = k*(z-k1)*(z-k2)\n",
    "    den = (a*z-1)*(z-b/10)**3*(z**2-2*c*cos(d)*z+c**2).evalf(4)\n",
    "    num = sp.expand(num)\n",
    "    y = num/den\n",
    "    q2 = '**(1 pt) 2:** Determine a transformada $\\mathcal{Z}$ inversa da função: \\\n",
    "    $$ Y(z) = ' + latex(y) + '$$ <br>'\n",
    "\n",
    "    y0,u0 = sp.symbols('y[k] u[k]')\n",
    "    y1, y2 = [sp.symbols(f'y[k+{n}]') for n in np.arange(1,3)]\n",
    "    u1, u2 = [sp.symbols(f'u[k+{n}]') for n in np.arange(1,3)]\n",
    "    z = sp.symbols('z')\n",
    "    p1, p2 = [pick(pos=True)/10 for n in range(2)]\n",
    "    p = (z-p1)*(z-p2)\n",
    "    a1,a2 = p.as_poly().coeffs()[1:]\n",
    "    eq = sp.Eq(y2+a1*y1+a2*y0, u2+2*u1+u0)\n",
    "    q3 = '**(1 pt) 3:** Determine a resposta ao degrau unitário do sistema: \\\n",
    "    $$' + latex(eq) + '$$ <br>'\n",
    "\n",
    "\n",
    "    y0,u0 = sp.symbols('y[k] u[k]')\n",
    "    y1, y2 = [sp.symbols(f'y[k+{n}]') for n in np.arange(1,3)]\n",
    "    u1, u2 = [sp.symbols(f'u[k-{n}]') for n in np.arange(1,3)]\n",
    "    a0, a1, a2 = [pick()/10 for n in range(3)]\n",
    "    b0, b1, b2 = [pick() for n in range(3)]\n",
    "    eq = sp.Eq(a0*y0+a1*y1+a2*y2, b0*u0+b1*u1+b2*u2)\n",
    "    q4 = '**(1 pt) 4:** Para o sistema abaixo: \\\n",
    "    $$' + latex(eq) + '$$ \\\n",
    "    Determine:  <br>\\\n",
    "    (a) A função de transferência  <br>\\\n",
    "    (b) Os pólos e zeros  <br>\\\n",
    "    (c) Se o sistema é estável. Justifique <br> \\\n",
    "    (d) O ganho de regime permanente, se existir  <br>\\\n",
    "    (e) Os pólos dominantes. Justifique sua resposta  <br>'\n",
    "    \n",
    "\n",
    "    s = sp.symbols('s')\n",
    "    a, b, c = [pick(pos=True) for n in range(3)]\n",
    "    T = pick(pos=True)/10\n",
    "    H = pick(pos=True)*(10*a*s+1)/((b*s+1)*(c*s+1))\n",
    "    q5 = '<br> **(2 pts) 5:** Para o sistema contínuo dado determine os \\\n",
    "    equivalentes discretos Tustin, mapeamento e ZOH para o período de\\\n",
    "    amostragem $T={T}$ seg.:'.format(T=T)\n",
    "    q5 += '$$ G(s) = ' + latex(H) + '$$ <br>'\n",
    "\n",
    "    a = pick(exc=[0])\n",
    "    b1,b2 = [pick(exc=[0],pos=True) for n in range(2)]\n",
    "    num = b1*z**2+b2*z\n",
    "    den = (z-1)*(a*z-10)\n",
    "    C = num/den\n",
    "    q6 = '**(1 pt) 6:** Qual a equação de diferenças que implementa a seguinte \\\n",
    "    função de transferência discreta?'\n",
    "    q6 += '$$ \\hat{C}(z) = ' + latex(C) + '$$ <br>'\n",
    "\n",
    "    K = 10*pick(pos=True)+pick(pos=True)\n",
    "    l = pick(exc=[0])**2\n",
    "    G = K/(s**2-l)\n",
    "    q7 = '**(3 pts) 7:** Utilizando qualquer método de sua escolha, projete uma lei de controle digital de modo que o sistema: \\\n",
    "    $$ G(s) = ' + latex(G) + '$$' + \\\n",
    "    'apresente em malha fechada uma ultrapassagem de no máximo 12%, \\\n",
    "    tempo de acomodação (critério de 5%) menor que 1 segundo e erro de regime permanente\\\n",
    "    nulo para um degrau unitário de referência. '\n",
    "\n",
    "    q = q1+q2+q3+q4+q5+q6+q7\n",
    "    display(Markdown(q))\n",
    "\n",
    "questoes()"
   ]
  }
 ],
 "metadata": {
  "kernelspec": {
   "display_name": "Python 3",
   "language": "python",
   "name": "python3"
  },
  "language_info": {
   "codemirror_mode": {
    "name": "ipython",
    "version": 3
   },
   "file_extension": ".py",
   "mimetype": "text/x-python",
   "name": "python",
   "nbconvert_exporter": "python",
   "pygments_lexer": "ipython3",
   "version": "3.11.1"
  },
  "orig_nbformat": 4
 },
 "nbformat": 4,
 "nbformat_minor": 2
}
