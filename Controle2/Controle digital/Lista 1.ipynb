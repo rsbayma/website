{
 "cells": [
  {
   "attachments": {},
   "cell_type": "markdown",
   "metadata": {},
   "source": [
    "## Exercícios - Transformada $\\mathcal{Z}$"
   ]
  },
  {
   "cell_type": "code",
   "execution_count": 93,
   "metadata": {},
   "outputs": [],
   "source": [
    "#\n",
    "import sympy as sp\n",
    "import numpy as np\n",
    "from IPython.display import display, Math"
   ]
  },
  {
   "attachments": {},
   "cell_type": "markdown",
   "metadata": {},
   "source": [
    "1 - Calcule a transformada das seguintes funções"
   ]
  },
  {
   "attachments": {},
   "cell_type": "markdown",
   "metadata": {},
   "source": [
    "2 - Calcule a transformada inversa"
   ]
  },
  {
   "cell_type": "code",
   "execution_count": 94,
   "metadata": {},
   "outputs": [
    {
     "data": {
      "text/latex": [
       "$\\displaystyle G_1(z) = \\frac{6 z + 3}{- 35 z^{2} + 2 z + 1}$"
      ],
      "text/plain": [
       "<IPython.core.display.Math object>"
      ]
     },
     "metadata": {},
     "output_type": "display_data"
    }
   ],
   "source": [
    "# Pólos reais\n",
    "from numpy.random import randint\n",
    "z = sp.symbols('z')\n",
    "a = [(-1)**randint(0,3)*randint(1,10) for n in range(4)]\n",
    "G1 = (a[0]*z+a[1])/((a[2]*z-1)*(a[3]*z-1)).expand()\n",
    "display(Math('G_1(z) = ' + sp.latex(G1)))"
   ]
  },
  {
   "cell_type": "code",
   "execution_count": 95,
   "metadata": {},
   "outputs": [
    {
     "data": {
      "text/latex": [
       "$\\displaystyle G_2(z) = \\frac{9 z^{2} + 7 z + 9}{49 z^{3} + 14 z^{2} + z}$"
      ],
      "text/plain": [
       "<IPython.core.display.Math object>"
      ]
     },
     "metadata": {},
     "output_type": "display_data"
    }
   ],
   "source": [
    "# Pólos múltiplos\n",
    "a= [(-1)**randint(0,3)*randint(1,10) for n in range(5)]\n",
    "G2 = (a[0]*z**2+a[1]*z+a[2])/((a[3]*z-1)**2*(z)).expand()\n",
    "display(Math('G_2(z) = ' + sp.latex(G2)))"
   ]
  },
  {
   "cell_type": "code",
   "execution_count": 96,
   "metadata": {},
   "outputs": [
    {
     "data": {
      "text/latex": [
       "$\\displaystyle G_3(z) = \\frac{3 z^{2} + 4 z - 3}{z^{3} - 1.8 z^{2} + 1.77 z - 0.97}$"
      ],
      "text/plain": [
       "<IPython.core.display.Math object>"
      ]
     },
     "metadata": {},
     "output_type": "display_data"
    }
   ],
   "source": [
    "# Pólos complexos\n",
    "a= [(-1)**randint(0,3)*randint(1,10) for n in range(5)]\n",
    "p1 = (a[3]+1j*a[4])/10\n",
    "p2 = p1.conjugate()\n",
    "G3 = (a[0]*z**2+a[1]*z+a[2])/((z-1)*(z-p1)*(z-p2)).expand()\n",
    "display(Math('G_3(z) = ' + sp.latex(G3)))"
   ]
  },
  {
   "attachments": {},
   "cell_type": "markdown",
   "metadata": {},
   "source": [
    "3 - Calcule o valor final, caso exista"
   ]
  }
 ],
 "metadata": {
  "kernelspec": {
   "display_name": "Python 3",
   "language": "python",
   "name": "python3"
  },
  "language_info": {
   "codemirror_mode": {
    "name": "ipython",
    "version": 3
   },
   "file_extension": ".py",
   "mimetype": "text/x-python",
   "name": "python",
   "nbconvert_exporter": "python",
   "pygments_lexer": "ipython3",
   "version": "3.11.1"
  },
  "orig_nbformat": 4
 },
 "nbformat": 4,
 "nbformat_minor": 2
}
