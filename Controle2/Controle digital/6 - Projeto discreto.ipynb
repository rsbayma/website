{
 "cells": [
  {
   "attachments": {},
   "cell_type": "markdown",
   "id": "e203e723",
   "metadata": {},
   "source": [
    "# Projeto direto de controlador digital"
   ]
  },
  {
   "attachments": {},
   "cell_type": "markdown",
   "id": "2b2fa63c",
   "metadata": {},
   "source": [
    "Nas abordagens de projeto direto, tratamos a **planta como um sistema discreto**, de modo que o controlador projetado é obtido diretamente como uma função de transferência discreta."
   ]
  },
  {
   "attachments": {},
   "cell_type": "markdown",
   "id": "7ba5ace2",
   "metadata": {},
   "source": [
    "Desta forma, iniciamos o projeto direto obtendo um equivalente discreto da planta. Para isso, você deve selecionar um período de amostragem adequado e utilizar um dos equivalentes que aprendemos:\n",
    "- Tustin/Bilinear/Trapezoidal\n",
    "- Mapeamento\n",
    "- ZOH\n",
    "\n",
    "Para o método ZOH, vale destacar que ele pode ser aplicado tanto para a planta modelada por função de transferência como para matrizes de espaço de estados. Mais sobre isso adiante."
   ]
  },
  {
   "attachments": {},
   "cell_type": "markdown",
   "id": "88a80349",
   "metadata": {},
   "source": [
    "De um modo geral, as técnicas de projeto digital (ou no plano Z) são muito semelhantes às do projeto analógico. A diferença fundamental é a região de estabilidade de pólos, que no plano Z, é o interior do círculo unitário.\n",
    "\n",
    "Eventualmente, deve-se também lembrar da relação fundamental $z = \\exp(sT)$ para fazer o mapeamento entre pólos do plano $s$, que é mais intuitivo fisicamente, para o plano $Z$. "
   ]
  },
  {
   "attachments": {},
   "cell_type": "markdown",
   "id": "8729c546",
   "metadata": {},
   "source": [
    "## LGR discreto"
   ]
  },
  {
   "attachments": {},
   "cell_type": "markdown",
   "id": "6650ccd1",
   "metadata": {},
   "source": [
    "As regras de associação de sistemas em tempo discreto **são as mesmas** para tempo contínuo. Assim, a equação característica de uma malha de controle digital proporcional é a mesma do caso analógico:\n",
    "$$\n",
    "    1+ K G(z) = 0\n",
    "$$"
   ]
  },
  {
   "attachments": {},
   "cell_type": "markdown",
   "id": "b042da8a",
   "metadata": {},
   "source": [
    "Dessa forma, as **regras de traçado do LGR discreto são as mesmas do LGR contínuo**."
   ]
  },
  {
   "attachments": {},
   "cell_type": "markdown",
   "id": "7174fb46",
   "metadata": {},
   "source": [
    "O algoritmo de projeto segue os mesmos passos, bastando atentar que a região de estabilidade é diferente, isto é, o LGR deve passar aproximadamente em uma região no interior do círculo unitário."
   ]
  },
  {
   "attachments": {},
   "cell_type": "markdown",
   "id": "39379e29",
   "metadata": {},
   "source": [
    "Observe que devido à sua forma geométrica, o LGR sempre vai conter ramos fora do círculo, indicando que em algum momento o aumento do ganho vai instabilizar a malha. Contudo, fique atento ao fato de que as coisas no plano Z acontecem em escala logaritmica, então podem ser necessários ganhos muito altos para poder realmente instabilizar o controle."
   ]
  },
  {
   "attachments": {},
   "cell_type": "markdown",
   "id": "abb6cc9f",
   "metadata": {},
   "source": [
    "**Exemplo:** Controle de um sistema de primeira ordem:\n",
    "$$\n",
    "    G(s) = \\frac{20}{2s+1}\n",
    "$$"
   ]
  },
  {
   "cell_type": "code",
   "execution_count": 1,
   "id": "eacf8852",
   "metadata": {},
   "outputs": [],
   "source": [
    "import control as ct\n",
    "import numpy as np\n",
    "import sympy as sp\n",
    "from matplotlib import pyplot as plt"
   ]
  },
  {
   "cell_type": "code",
   "execution_count": 2,
   "id": "898fb229",
   "metadata": {},
   "outputs": [
    {
     "data": {
      "text/latex": [
       "$$\\frac{0.9754}{z - 0.9512}\\quad dt = 0.1$$"
      ],
      "text/plain": [
       "TransferFunction(array([0.97541151]), array([ 1.        , -0.95122942]), 0.1)"
      ]
     },
     "execution_count": 2,
     "metadata": {},
     "output_type": "execute_result"
    }
   ],
   "source": [
    "T = 0.1\n",
    "G = ct.tf([20],[2,1])\n",
    "Gz = ct.c2d(G,T)\n",
    "Gz"
   ]
  },
  {
   "cell_type": "code",
   "execution_count": 17,
   "id": "cc26c82b",
   "metadata": {},
   "outputs": [
    {
     "data": {
      "image/png": "[encoded data removed]",
      "text/plain": [
       "<Figure size 640x480 with 1 Axes>"
      ]
     },
     "metadata": {},
     "output_type": "display_data"
    }
   ],
   "source": [
    "resp = ct.step_response(Gz)\n",
    "plt.step(resp.t, resp.outputs)\n",
    "plt.show()"
   ]
  },
  {
   "cell_type": "code",
   "execution_count": 36,
   "id": "4ac0817f",
   "metadata": {},
   "outputs": [
    {
     "name": "stdout",
     "output_type": "stream",
     "text": [
      "(-0.8+0.7999999999999999j)\n",
      "(0.9201639491940385+0.07377056031942882j)\n"
     ]
    }
   ],
   "source": [
    "Ts = 5\n",
    "xi = np.sqrt(2)/2\n",
    "wn = 4/(Ts*xi)\n",
    "s = wn*(-xi+1j*np.sqrt(1-xi**2))\n",
    "print(s)\n",
    "MF = np.exp(s*T)\n",
    "print(MF)"
   ]
  },
  {
   "cell_type": "code",
   "execution_count": 47,
   "id": "1756444c",
   "metadata": {},
   "outputs": [
    {
     "name": "stdout",
     "output_type": "stream",
     "text": [
      "(0.951229424500714+0j)\n",
      "0.8403278983880771\n",
      "(2.6291268610901573-6.243334755988903j)\n"
     ]
    },
    {
     "data": {
      "text/plain": [
       "0.0121137493838959"
      ]
     },
     "execution_count": 47,
     "metadata": {},
     "output_type": "execute_result"
    }
   ],
   "source": [
    "a = Gz.pole()[0]\n",
    "print(a)\n",
    "p2 = 2*np.real(MF)-1\n",
    "print(p2)\n",
    "GGz = lambda z: np.polyval(Gz.num[0][0],z)/np.polyval(Gz.den[0][0],z)\n",
    "numC = np.array([1,-a])\n",
    "denC = np.poly([1,p2])\n",
    "CCz = lambda z: np.polyval(numC,z)/np.polyval(denC,z)\n",
    "print(CCz(MF))\n",
    "K = 1/abs(CCz(MF)*GGz(MF))\n",
    "K"
   ]
  },
  {
   "cell_type": "code",
   "execution_count": 49,
   "id": "e815b568",
   "metadata": {},
   "outputs": [
    {
     "data": {
      "text/latex": [
       "$$\\frac{0.01211 z - 0.01152}{z^2 - 1.84 z + 0.8403}\\quad dt = 0.1$$"
      ],
      "text/plain": [
       "TransferFunction(array([ 0.01211375+0.j, -0.01152295-0.j]), array([ 1.       , -1.8403279,  0.8403279]), 0.1)"
      ]
     },
     "execution_count": 49,
     "metadata": {},
     "output_type": "execute_result"
    }
   ],
   "source": [
    "Cz = ct.tf(numC*K,denC,T)\n",
    "Cz\n"
   ]
  },
  {
   "cell_type": "code",
   "execution_count": 52,
   "id": "b4d7aa18",
   "metadata": {},
   "outputs": [
    {
     "name": "stdout",
     "output_type": "stream",
     "text": [
      "_____Eigenvalue______ Damping___ Frequency_\n",
      "    0.9512                     1    -0.9512\n",
      "    0.9202  +0.07377j     0.7071      1.131\n",
      "    0.9202  -0.07377j     0.7071      1.131\n",
      "[0.95122942-0.j]\n"
     ]
    },
    {
     "name": "stderr",
     "output_type": "stream",
     "text": [
      "c:\\Users\\rafael\\AppData\\Local\\Programs\\Python\\Python311\\Lib\\site-packages\\control\\xferfcn.py:1047: ComplexWarning: Casting complex values to real discards the imaginary part\n",
      "  den[j, :maxindex+1] = poly(poles[j])\n",
      "c:\\Users\\rafael\\AppData\\Local\\Programs\\Python\\Python311\\Lib\\site-packages\\control\\xferfcn.py:1077: ComplexWarning: Casting complex values to real discards the imaginary part\n",
      "  num[i, j, maxindex+1-len(numpoly):maxindex+1] = numpoly\n"
     ]
    }
   ],
   "source": [
    "mfz = ct.feedback(Cz*Gz,1)\n",
    "_ = ct.damp(mfz)\n",
    "print(mfz.zeros())"
   ]
  },
  {
   "cell_type": "code",
   "execution_count": 57,
   "id": "27108bb1",
   "metadata": {},
   "outputs": [
    {
     "name": "stderr",
     "output_type": "stream",
     "text": [
      "c:\\Users\\rafael\\AppData\\Local\\Programs\\Python\\Python311\\Lib\\site-packages\\control\\statesp.py:114: ComplexWarning: Casting complex values to real discards the imaginary part\n",
      "  arr = np.array(data, dtype=float)\n"
     ]
    },
    {
     "data": {
      "image/png": "[encoded data removed]",
      "text/plain": [
       "<Figure size 640x480 with 1 Axes>"
      ]
     },
     "metadata": {},
     "output_type": "display_data"
    },
    {
     "data": {
      "text/plain": [
       "{'RiseTime': 1.9000000000000004,\n",
       " 'SettlingTime': 5.4,\n",
       " 'SettlingMin': 0.9010763029945696,\n",
       " 'SettlingMax': 1.0432677955408636,\n",
       " 'Overshoot': 4.326779553954455,\n",
       " 'Undershoot': 0,\n",
       " 'Peak': 1.0432677955408636,\n",
       " 'PeakTime': 4.0,\n",
       " 'SteadyStateValue': 1.0000000000012643}"
      ]
     },
     "execution_count": 57,
     "metadata": {},
     "output_type": "execute_result"
    }
   ],
   "source": [
    "resp = ct.step_response(mfz)\n",
    "plt.step(resp.t, resp.outputs)\n",
    "plt.show()\n",
    "ct.step_info(mfz)"
   ]
  },
  {
   "cell_type": "code",
   "execution_count": 55,
   "id": "ef312678",
   "metadata": {},
   "outputs": [
    {
     "name": "stderr",
     "output_type": "stream",
     "text": [
      "c:\\Users\\rafael\\AppData\\Local\\Programs\\Python\\Python311\\Lib\\site-packages\\control\\statesp.py:114: ComplexWarning: Casting complex values to real discards the imaginary part\n",
      "  arr = np.array(data, dtype=float)\n"
     ]
    },
    {
     "data": {
      "image/png": "[encoded data removed]",
      "text/plain": [
       "<Figure size 640x480 with 1 Axes>"
      ]
     },
     "metadata": {},
     "output_type": "display_data"
    }
   ],
   "source": [
    "MFU = ct.tf(Cz/(1+Cz*Gz))\n",
    "resp = ct.step_response(MFU)\n",
    "plt.step(resp.t, resp.outputs)\n",
    "plt.show()"
   ]
  },
  {
   "attachments": {},
   "cell_type": "markdown",
   "id": "1fd3afe3",
   "metadata": {},
   "source": [
    "## Espaço de estados discreto."
   ]
  },
  {
   "attachments": {},
   "cell_type": "markdown",
   "id": "4aec9aeb",
   "metadata": {},
   "source": [
    "A representação de estados discreta é muito semelhante ao caso contínuo. "
   ]
  },
  {
   "attachments": {},
   "cell_type": "markdown",
   "id": "73f67004",
   "metadata": {},
   "source": [
    "$$\n",
    "\\begin{align}\n",
    "    \\mathbf{x}[k+1] &= \\mathbf{\\Phi}\\mathbf{x}[k]+\\mathbf{\\Gamma}u[k]\\\\\n",
    "    y[k] &= \\mathbf{C}\\mathbf{x}[k]+{D}u[k]\n",
    "\\end{align}\n",
    "$$"
   ]
  },
  {
   "attachments": {},
   "cell_type": "markdown",
   "id": "148f1722",
   "metadata": {},
   "source": [
    "onde as matrizes $\\mathbf{C}$ e $D$ discretas são as mesmas da representação contínua. \n",
    "\n",
    "As matrizes $\\mathbf{\\Phi}$ e $\\mathbf{\\Gamma}$ são as equivalentes ZOH das matrizes $\\mathbf{A}$ e $\\mathbf{B}$ do sistema contínuo e podem ser calculadas como (demonstração omitida):\n",
    "$$\n",
    "\\begin{align}\n",
    "    \\mathbf{\\Phi} &= e^{\\mathbf{A}T} = \\left.\\mathcal{L}^{-1}\\{(sI-\\mathbf{A})^{-1}\\}\\right|_{t=T}\\\\\n",
    "    \\mathbf{\\Gamma} &= \\int_0^T e^{\\mathbf{A}h}\\mathbf{B} \\,dh\n",
    "\\end{align}\n",
    "$$"
   ]
  },
  {
   "attachments": {},
   "cell_type": "markdown",
   "id": "f3bfcfa5",
   "metadata": {},
   "source": [
    "Todas as regras de análise permanecem as mesmas:  \n",
    "* Os pólos do sistema também são os autovalores de $\\mathbf{\\Phi}$\n",
    "* A função de transferência é $\\mathbf{C}(z\\mathbf{I-\\Phi})^{-1}\\mathbf{\\Gamma}+D$\n",
    "* A lei de controle é da família $u = - \\mathbf{Kx}$\n",
    "* O observador de estados é formulado e resolvido da mesma forma que o contínuo\n",
    "* Podemos usar a fórmula de Ackermann pra resolver os problemas do observador e regulador\n"
   ]
  },
  {
   "attachments": {},
   "cell_type": "markdown",
   "id": "5c4eb90b",
   "metadata": {},
   "source": [
    "O controle integral é resolvido de uma forma ligeiramente diferente. O estado aumentado é descrito como\n",
    "$$\n",
    "    e[k+1] = e[k] + r[k]-\\mathbf{Cx}[k]\n",
    "$$\n",
    "\n",
    "Portanto a matriz aumentada deve ser:\n",
    "$$\n",
    "    \\mathbf{\\Phi}_a = \\left[\\begin{array}{rr} \n",
    "    \\mathbf{\\Phi} & 0 \\\\\n",
    "    -\\mathbf{C} &1\\end{array}\\right]\n",
    "$$"
   ]
  },
  {
   "attachments": {},
   "cell_type": "markdown",
   "id": "358b0d55",
   "metadata": {},
   "source": [
    "**Exemplo:** estabilização de um sistema com pólos simétricos (MAGLEV/Pêndulo invertido/etc.)\n",
    "$$\n",
    "    G(s) = \\frac{50}{s^2-9}\n",
    "$$\n"
   ]
  },
  {
   "cell_type": "code",
   "execution_count": 63,
   "id": "6c6b2ac6",
   "metadata": {},
   "outputs": [
    {
     "name": "stdout",
     "output_type": "stream",
     "text": [
      "A = [[-0.  9.]\n",
      "     [ 1.  0.]]\n",
      "\n",
      "B = [[1.]\n",
      "     [0.]]\n",
      "\n",
      "C = [[ 0. 50.]]\n",
      "\n",
      "D = [[0.]]\n",
      "\n",
      "[-3.+0.j  3.+0.j]\n"
     ]
    }
   ],
   "source": [
    "G = ct.tf([50],[1,0,-9])\n",
    "G = ct.tf2ss(G)\n",
    "print(G)\n",
    "print(G.poles())"
   ]
  },
  {
   "cell_type": "code",
   "execution_count": 64,
   "id": "f633b2cc",
   "metadata": {},
   "outputs": [
    {
     "name": "stdout",
     "output_type": "stream",
     "text": [
      "0.477464829275686\n"
     ]
    },
    {
     "data": {
      "text/plain": [
       "0.1"
      ]
     },
     "execution_count": 64,
     "metadata": {},
     "output_type": "execute_result"
    }
   ],
   "source": [
    "f = 3/(2*np.pi)\n",
    "print(f)\n",
    "f = 10\n",
    "T = 1/f\n",
    "T"
   ]
  },
  {
   "cell_type": "code",
   "execution_count": 71,
   "id": "8789588f",
   "metadata": {},
   "outputs": [
    {
     "name": "stdout",
     "output_type": "stream",
     "text": [
      "A = [[1.04533851 0.91356088]\n",
      "     [0.10150676 1.04533851]]\n",
      "\n",
      "B = [[0.10150676]\n",
      "     [0.00503761]]\n",
      "\n",
      "C = [[ 0. 50.]]\n",
      "\n",
      "D = [[0.]]\n",
      "\n",
      "dt = 0.1\n",
      "\n"
     ]
    },
    {
     "data": {
      "text/plain": [
       "array([-1.+0.j])"
      ]
     },
     "execution_count": 71,
     "metadata": {},
     "output_type": "execute_result"
    }
   ],
   "source": [
    "sys = ct.c2d(G,T)\n",
    "print(sys)\n",
    "sys.zeros()"
   ]
  },
  {
   "cell_type": "code",
   "execution_count": 76,
   "id": "e5d402b8",
   "metadata": {},
   "outputs": [
    {
     "name": "stdout",
     "output_type": "stream",
     "text": [
      "[0.4965853 0.4965853 0.       ]\n",
      "[[ 14.63347422 121.50791222  -0.50306836]]\n"
     ]
    },
    {
     "data": {
      "text/plain": [
       "array([0.09931706, 0.09931706, 0.        ])"
      ]
     },
     "execution_count": 76,
     "metadata": {},
     "output_type": "execute_result"
    }
   ],
   "source": [
    "Phi_a = np.block([[sys.A, np.zeros((2,1))],[-sys.C,1]])\n",
    "Gamma_a = np.block([[sys.B],[0]])\n",
    "s = np.array([-7, -7])\n",
    "z = np.block([np.exp(s*T),0])\n",
    "print(z)\n",
    "K = ct.acker(Phi_a,Gamma_a,z)\n",
    "print(K)\n",
    "po = z/2\n",
    "po"
   ]
  },
  {
   "attachments": {},
   "cell_type": "markdown",
   "id": "37961690",
   "metadata": {},
   "source": [
    "## Resposta em frequência discreta"
   ]
  },
  {
   "attachments": {},
   "cell_type": "markdown",
   "id": "61da343b",
   "metadata": {},
   "source": [
    "A análise de resposta em frequência é feita substituindo-se $s=j\\omega$ no domínio contínuo. A resposta em frequência de um sistema $G(s)$ é normalmente denotada pelo módulo e fase de $G(j\\omega)$\n",
    "\n",
    "Como $z=e^{sT}$, é direta a dedução que a análise de resposta em frequência de uma função de transferência pulsada $\\hat{G}(z)$ é feita com $\\hat{G}(e^{j\\omega T})$. \n",
    "\n",
    "A interpretação física no domínio discreto permanece a mesma. No entanto, devemos ter em mente que não podemos analisar para frequências arbitrariamente altas, pois a análise não pode violar o teorema da amostragem.\n",
    "\n",
    "Na prática, plotamos a reposta em frequência do sistema até a chamada frequência de Nyquist, que é metade da frequência de amostragem. "
   ]
  }
 ],
 "metadata": {
  "kernelspec": {
   "display_name": "Python 3 (ipykernel)",
   "language": "python",
   "name": "python3"
  },
  "language_info": {
   "codemirror_mode": {
    "name": "ipython",
    "version": 3
   },
   "file_extension": ".py",
   "mimetype": "text/x-python",
   "name": "python",
   "nbconvert_exporter": "python",
   "pygments_lexer": "ipython3",
   "version": "3.11.1"
  }
 },
 "nbformat": 4,
 "nbformat_minor": 5
}
