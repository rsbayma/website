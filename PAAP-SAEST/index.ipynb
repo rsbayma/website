{
 "cells": [
  {
   "cell_type": "markdown",
   "metadata": {},
   "source": [
    "## Projeto: \"Fabricação digital como ferramenta de motivação em cursos de engenharia\"\n",
    "\n",
    "Material gerado em treinamento e desafios aos novos alunos do projeto. \n",
    "\n",
    "Projeto fomentado pela SAEST/UFPA\n",
    "\n",
    "<br> <br>\n",
    "\n",
    "[Sistema de Aquaponia](./aquaponia.html)\n",
    "\n",
    "[Tutorial Firebase + ESP32](./tutorial.html)\n",
    "\n",
    "[Atuadores lineares](./atuadores.html)\n",
    "\n",
    "[Display rotativo](./rotativo.html)\n",
    "\n",
    "*Última atualização: Dez/2024*"
   ]
  }
 ],
 "metadata": {
  "kernelspec": {
   "display_name": "Python 3",
   "language": "python",
   "name": "python3"
  },
  "language_info": {
   "name": "python",
   "version": "3.12.1"
  }
 },
 "nbformat": 4,
 "nbformat_minor": 2
}
